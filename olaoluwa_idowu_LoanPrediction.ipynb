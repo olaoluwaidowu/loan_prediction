{
 "cells": [
  {
   "cell_type": "code",
   "execution_count": 3,
   "metadata": {
    "colab": {
     "base_uri": "https://localhost:8080/",
     "height": 383
    },
    "id": "tsAktesEKXNZ",
    "outputId": "caa976af-e63c-4a01-8e78-4983def1f9bb"
   },
   "outputs": [],
   "source": [
    "import numpy as np\n",
    "import pandas as pd\n",
    "import matplotlib.pyplot as plt\n",
    "import seaborn as sns\n",
    "sns.set()\n",
    "\n",
    "# Importing the Machine Learning models we require from Scikit-Learn\n",
    "from sklearn.linear_model import LogisticRegression\n",
    "from sklearn.svm import SVC\n",
    "from sklearn.tree import DecisionTreeClassifier\n",
    "from sklearn import tree\n",
    "from sklearn.ensemble import RandomForestClassifier\n",
    "\n",
    "# Importing the other functions we may require from Scikit-Learn\n",
    "from sklearn import metrics\n",
    "from sklearn.model_selection import train_test_split, GridSearchCV\n",
    "from sklearn.preprocessing import MinMaxScaler, LabelEncoder, OneHotEncoder\n",
    "#from sklearn.metrics import plot_confusion_matrix\n",
    "from sklearn.preprocessing import StandardScaler\n",
    "from sklearn.preprocessing import MinMaxScaler\n",
    "from imblearn.over_sampling import RandomOverSampler\n",
    "from collections import Counter\n",
    "from sklearn.metrics import roc_auc_score\n",
    "\n",
    "# importing catboost classifier\n",
    "from catboost import CatBoostClassifier\n",
    "\n",
    "# To get diferent metric scores\n",
    "from sklearn.metrics import confusion_matrix,classification_report,roc_auc_score,precision_recall_curve,roc_curve,make_scorer,recall_score\n",
    "# Code to ignore warnings from function usage\n",
    "import warnings;\n",
    "import numpy as np\n",
    "warnings.filterwarnings('ignore')"
   ]
  },
  {
   "cell_type": "markdown",
   "metadata": {},
   "source": [
    "# Data Gathering"
   ]
  },
  {
   "cell_type": "code",
   "execution_count": 4,
   "metadata": {
    "id": "TjSsLwSBSWdh"
   },
   "outputs": [],
   "source": [
    "# data Gathering\n",
    "\n",
    "main_df = pd.read_csv('application_train.csv')\n",
    "bureau = pd.read_csv('bureau.csv')\n",
    "bureau_balance = pd.read_csv('bureau_balance.csv')\n",
    "prev_application = pd.read_csv('previous_application.csv')\n",
    "credit_card_bal = pd.read_csv('credit_card_balance.csv')\n",
    "pos_cash_bal = pd.read_csv('credit_card_balance.csv')\n",
    "installments_paym = pd.read_csv('installments_payments.csv')"
   ]
  },
  {
   "cell_type": "code",
   "execution_count": 5,
   "metadata": {
    "colab": {
     "base_uri": "https://localhost:8080/",
     "height": 300
    },
    "id": "tc_ILM1rSx5U",
    "outputId": "9ce5c840-0fec-40e9-c693-7c569d599e70"
   },
   "outputs": [
    {
     "data": {
      "text/html": [
       "<div>\n",
       "<style scoped>\n",
       "    .dataframe tbody tr th:only-of-type {\n",
       "        vertical-align: middle;\n",
       "    }\n",
       "\n",
       "    .dataframe tbody tr th {\n",
       "        vertical-align: top;\n",
       "    }\n",
       "\n",
       "    .dataframe thead th {\n",
       "        text-align: right;\n",
       "    }\n",
       "</style>\n",
       "<table border=\"1\" class=\"dataframe\">\n",
       "  <thead>\n",
       "    <tr style=\"text-align: right;\">\n",
       "      <th></th>\n",
       "      <th>SK_ID_CURR</th>\n",
       "      <th>TARGET</th>\n",
       "      <th>NAME_CONTRACT_TYPE</th>\n",
       "      <th>CODE_GENDER</th>\n",
       "      <th>FLAG_OWN_CAR</th>\n",
       "      <th>FLAG_OWN_REALTY</th>\n",
       "      <th>CNT_CHILDREN</th>\n",
       "      <th>AMT_INCOME_TOTAL</th>\n",
       "      <th>AMT_CREDIT</th>\n",
       "      <th>AMT_ANNUITY</th>\n",
       "      <th>...</th>\n",
       "      <th>FLAG_DOCUMENT_18</th>\n",
       "      <th>FLAG_DOCUMENT_19</th>\n",
       "      <th>FLAG_DOCUMENT_20</th>\n",
       "      <th>FLAG_DOCUMENT_21</th>\n",
       "      <th>AMT_REQ_CREDIT_BUREAU_HOUR</th>\n",
       "      <th>AMT_REQ_CREDIT_BUREAU_DAY</th>\n",
       "      <th>AMT_REQ_CREDIT_BUREAU_WEEK</th>\n",
       "      <th>AMT_REQ_CREDIT_BUREAU_MON</th>\n",
       "      <th>AMT_REQ_CREDIT_BUREAU_QRT</th>\n",
       "      <th>AMT_REQ_CREDIT_BUREAU_YEAR</th>\n",
       "    </tr>\n",
       "  </thead>\n",
       "  <tbody>\n",
       "    <tr>\n",
       "      <th>0</th>\n",
       "      <td>100002</td>\n",
       "      <td>1</td>\n",
       "      <td>Cash loans</td>\n",
       "      <td>M</td>\n",
       "      <td>N</td>\n",
       "      <td>Y</td>\n",
       "      <td>0</td>\n",
       "      <td>202500.0</td>\n",
       "      <td>406597.5</td>\n",
       "      <td>24700.5</td>\n",
       "      <td>...</td>\n",
       "      <td>0</td>\n",
       "      <td>0</td>\n",
       "      <td>0</td>\n",
       "      <td>0</td>\n",
       "      <td>0.0</td>\n",
       "      <td>0.0</td>\n",
       "      <td>0.0</td>\n",
       "      <td>0.0</td>\n",
       "      <td>0.0</td>\n",
       "      <td>1.0</td>\n",
       "    </tr>\n",
       "    <tr>\n",
       "      <th>1</th>\n",
       "      <td>100003</td>\n",
       "      <td>0</td>\n",
       "      <td>Cash loans</td>\n",
       "      <td>F</td>\n",
       "      <td>N</td>\n",
       "      <td>N</td>\n",
       "      <td>0</td>\n",
       "      <td>270000.0</td>\n",
       "      <td>1293502.5</td>\n",
       "      <td>35698.5</td>\n",
       "      <td>...</td>\n",
       "      <td>0</td>\n",
       "      <td>0</td>\n",
       "      <td>0</td>\n",
       "      <td>0</td>\n",
       "      <td>0.0</td>\n",
       "      <td>0.0</td>\n",
       "      <td>0.0</td>\n",
       "      <td>0.0</td>\n",
       "      <td>0.0</td>\n",
       "      <td>0.0</td>\n",
       "    </tr>\n",
       "    <tr>\n",
       "      <th>2</th>\n",
       "      <td>100004</td>\n",
       "      <td>0</td>\n",
       "      <td>Revolving loans</td>\n",
       "      <td>M</td>\n",
       "      <td>Y</td>\n",
       "      <td>Y</td>\n",
       "      <td>0</td>\n",
       "      <td>67500.0</td>\n",
       "      <td>135000.0</td>\n",
       "      <td>6750.0</td>\n",
       "      <td>...</td>\n",
       "      <td>0</td>\n",
       "      <td>0</td>\n",
       "      <td>0</td>\n",
       "      <td>0</td>\n",
       "      <td>0.0</td>\n",
       "      <td>0.0</td>\n",
       "      <td>0.0</td>\n",
       "      <td>0.0</td>\n",
       "      <td>0.0</td>\n",
       "      <td>0.0</td>\n",
       "    </tr>\n",
       "    <tr>\n",
       "      <th>3</th>\n",
       "      <td>100006</td>\n",
       "      <td>0</td>\n",
       "      <td>Cash loans</td>\n",
       "      <td>F</td>\n",
       "      <td>N</td>\n",
       "      <td>Y</td>\n",
       "      <td>0</td>\n",
       "      <td>135000.0</td>\n",
       "      <td>312682.5</td>\n",
       "      <td>29686.5</td>\n",
       "      <td>...</td>\n",
       "      <td>0</td>\n",
       "      <td>0</td>\n",
       "      <td>0</td>\n",
       "      <td>0</td>\n",
       "      <td>NaN</td>\n",
       "      <td>NaN</td>\n",
       "      <td>NaN</td>\n",
       "      <td>NaN</td>\n",
       "      <td>NaN</td>\n",
       "      <td>NaN</td>\n",
       "    </tr>\n",
       "    <tr>\n",
       "      <th>4</th>\n",
       "      <td>100007</td>\n",
       "      <td>0</td>\n",
       "      <td>Cash loans</td>\n",
       "      <td>M</td>\n",
       "      <td>N</td>\n",
       "      <td>Y</td>\n",
       "      <td>0</td>\n",
       "      <td>121500.0</td>\n",
       "      <td>513000.0</td>\n",
       "      <td>21865.5</td>\n",
       "      <td>...</td>\n",
       "      <td>0</td>\n",
       "      <td>0</td>\n",
       "      <td>0</td>\n",
       "      <td>0</td>\n",
       "      <td>0.0</td>\n",
       "      <td>0.0</td>\n",
       "      <td>0.0</td>\n",
       "      <td>0.0</td>\n",
       "      <td>0.0</td>\n",
       "      <td>0.0</td>\n",
       "    </tr>\n",
       "  </tbody>\n",
       "</table>\n",
       "<p>5 rows × 122 columns</p>\n",
       "</div>"
      ],
      "text/plain": [
       "   SK_ID_CURR  TARGET NAME_CONTRACT_TYPE CODE_GENDER FLAG_OWN_CAR  \\\n",
       "0      100002       1         Cash loans           M            N   \n",
       "1      100003       0         Cash loans           F            N   \n",
       "2      100004       0    Revolving loans           M            Y   \n",
       "3      100006       0         Cash loans           F            N   \n",
       "4      100007       0         Cash loans           M            N   \n",
       "\n",
       "  FLAG_OWN_REALTY  CNT_CHILDREN  AMT_INCOME_TOTAL  AMT_CREDIT  AMT_ANNUITY  \\\n",
       "0               Y             0          202500.0    406597.5      24700.5   \n",
       "1               N             0          270000.0   1293502.5      35698.5   \n",
       "2               Y             0           67500.0    135000.0       6750.0   \n",
       "3               Y             0          135000.0    312682.5      29686.5   \n",
       "4               Y             0          121500.0    513000.0      21865.5   \n",
       "\n",
       "   ...  FLAG_DOCUMENT_18 FLAG_DOCUMENT_19 FLAG_DOCUMENT_20 FLAG_DOCUMENT_21  \\\n",
       "0  ...                 0                0                0                0   \n",
       "1  ...                 0                0                0                0   \n",
       "2  ...                 0                0                0                0   \n",
       "3  ...                 0                0                0                0   \n",
       "4  ...                 0                0                0                0   \n",
       "\n",
       "  AMT_REQ_CREDIT_BUREAU_HOUR AMT_REQ_CREDIT_BUREAU_DAY  \\\n",
       "0                        0.0                       0.0   \n",
       "1                        0.0                       0.0   \n",
       "2                        0.0                       0.0   \n",
       "3                        NaN                       NaN   \n",
       "4                        0.0                       0.0   \n",
       "\n",
       "   AMT_REQ_CREDIT_BUREAU_WEEK  AMT_REQ_CREDIT_BUREAU_MON  \\\n",
       "0                         0.0                        0.0   \n",
       "1                         0.0                        0.0   \n",
       "2                         0.0                        0.0   \n",
       "3                         NaN                        NaN   \n",
       "4                         0.0                        0.0   \n",
       "\n",
       "   AMT_REQ_CREDIT_BUREAU_QRT  AMT_REQ_CREDIT_BUREAU_YEAR  \n",
       "0                        0.0                         1.0  \n",
       "1                        0.0                         0.0  \n",
       "2                        0.0                         0.0  \n",
       "3                        NaN                         NaN  \n",
       "4                        0.0                         0.0  \n",
       "\n",
       "[5 rows x 122 columns]"
      ]
     },
     "execution_count": 5,
     "metadata": {},
     "output_type": "execute_result"
    }
   ],
   "source": [
    "main_df.head()"
   ]
  },
  {
   "cell_type": "code",
   "execution_count": 6,
   "metadata": {
    "colab": {
     "base_uri": "https://localhost:8080/",
     "height": 300
    },
    "id": "IN2H-KFlG6-7",
    "outputId": "71b80cec-b60b-4e3a-8322-b912d6ec319f"
   },
   "outputs": [
    {
     "data": {
      "text/html": [
       "<div>\n",
       "<style scoped>\n",
       "    .dataframe tbody tr th:only-of-type {\n",
       "        vertical-align: middle;\n",
       "    }\n",
       "\n",
       "    .dataframe tbody tr th {\n",
       "        vertical-align: top;\n",
       "    }\n",
       "\n",
       "    .dataframe thead th {\n",
       "        text-align: right;\n",
       "    }\n",
       "</style>\n",
       "<table border=\"1\" class=\"dataframe\">\n",
       "  <thead>\n",
       "    <tr style=\"text-align: right;\">\n",
       "      <th></th>\n",
       "      <th>SK_ID_CURR</th>\n",
       "      <th>TARGET</th>\n",
       "      <th>NAME_CONTRACT_TYPE</th>\n",
       "      <th>CODE_GENDER</th>\n",
       "      <th>FLAG_OWN_CAR</th>\n",
       "      <th>FLAG_OWN_REALTY</th>\n",
       "      <th>CNT_CHILDREN</th>\n",
       "      <th>AMT_INCOME_TOTAL</th>\n",
       "      <th>AMT_CREDIT</th>\n",
       "      <th>AMT_ANNUITY</th>\n",
       "      <th>...</th>\n",
       "      <th>FLAG_DOCUMENT_18</th>\n",
       "      <th>FLAG_DOCUMENT_19</th>\n",
       "      <th>FLAG_DOCUMENT_20</th>\n",
       "      <th>FLAG_DOCUMENT_21</th>\n",
       "      <th>AMT_REQ_CREDIT_BUREAU_HOUR</th>\n",
       "      <th>AMT_REQ_CREDIT_BUREAU_DAY</th>\n",
       "      <th>AMT_REQ_CREDIT_BUREAU_WEEK</th>\n",
       "      <th>AMT_REQ_CREDIT_BUREAU_MON</th>\n",
       "      <th>AMT_REQ_CREDIT_BUREAU_QRT</th>\n",
       "      <th>AMT_REQ_CREDIT_BUREAU_YEAR</th>\n",
       "    </tr>\n",
       "  </thead>\n",
       "  <tbody>\n",
       "    <tr>\n",
       "      <th>307506</th>\n",
       "      <td>456251</td>\n",
       "      <td>0</td>\n",
       "      <td>Cash loans</td>\n",
       "      <td>M</td>\n",
       "      <td>N</td>\n",
       "      <td>N</td>\n",
       "      <td>0</td>\n",
       "      <td>157500.0</td>\n",
       "      <td>254700.0</td>\n",
       "      <td>27558.0</td>\n",
       "      <td>...</td>\n",
       "      <td>0</td>\n",
       "      <td>0</td>\n",
       "      <td>0</td>\n",
       "      <td>0</td>\n",
       "      <td>NaN</td>\n",
       "      <td>NaN</td>\n",
       "      <td>NaN</td>\n",
       "      <td>NaN</td>\n",
       "      <td>NaN</td>\n",
       "      <td>NaN</td>\n",
       "    </tr>\n",
       "    <tr>\n",
       "      <th>307507</th>\n",
       "      <td>456252</td>\n",
       "      <td>0</td>\n",
       "      <td>Cash loans</td>\n",
       "      <td>F</td>\n",
       "      <td>N</td>\n",
       "      <td>Y</td>\n",
       "      <td>0</td>\n",
       "      <td>72000.0</td>\n",
       "      <td>269550.0</td>\n",
       "      <td>12001.5</td>\n",
       "      <td>...</td>\n",
       "      <td>0</td>\n",
       "      <td>0</td>\n",
       "      <td>0</td>\n",
       "      <td>0</td>\n",
       "      <td>NaN</td>\n",
       "      <td>NaN</td>\n",
       "      <td>NaN</td>\n",
       "      <td>NaN</td>\n",
       "      <td>NaN</td>\n",
       "      <td>NaN</td>\n",
       "    </tr>\n",
       "    <tr>\n",
       "      <th>307508</th>\n",
       "      <td>456253</td>\n",
       "      <td>0</td>\n",
       "      <td>Cash loans</td>\n",
       "      <td>F</td>\n",
       "      <td>N</td>\n",
       "      <td>Y</td>\n",
       "      <td>0</td>\n",
       "      <td>153000.0</td>\n",
       "      <td>677664.0</td>\n",
       "      <td>29979.0</td>\n",
       "      <td>...</td>\n",
       "      <td>0</td>\n",
       "      <td>0</td>\n",
       "      <td>0</td>\n",
       "      <td>0</td>\n",
       "      <td>1.0</td>\n",
       "      <td>0.0</td>\n",
       "      <td>0.0</td>\n",
       "      <td>1.0</td>\n",
       "      <td>0.0</td>\n",
       "      <td>1.0</td>\n",
       "    </tr>\n",
       "    <tr>\n",
       "      <th>307509</th>\n",
       "      <td>456254</td>\n",
       "      <td>1</td>\n",
       "      <td>Cash loans</td>\n",
       "      <td>F</td>\n",
       "      <td>N</td>\n",
       "      <td>Y</td>\n",
       "      <td>0</td>\n",
       "      <td>171000.0</td>\n",
       "      <td>370107.0</td>\n",
       "      <td>20205.0</td>\n",
       "      <td>...</td>\n",
       "      <td>0</td>\n",
       "      <td>0</td>\n",
       "      <td>0</td>\n",
       "      <td>0</td>\n",
       "      <td>0.0</td>\n",
       "      <td>0.0</td>\n",
       "      <td>0.0</td>\n",
       "      <td>0.0</td>\n",
       "      <td>0.0</td>\n",
       "      <td>0.0</td>\n",
       "    </tr>\n",
       "    <tr>\n",
       "      <th>307510</th>\n",
       "      <td>456255</td>\n",
       "      <td>0</td>\n",
       "      <td>Cash loans</td>\n",
       "      <td>F</td>\n",
       "      <td>N</td>\n",
       "      <td>N</td>\n",
       "      <td>0</td>\n",
       "      <td>157500.0</td>\n",
       "      <td>675000.0</td>\n",
       "      <td>49117.5</td>\n",
       "      <td>...</td>\n",
       "      <td>0</td>\n",
       "      <td>0</td>\n",
       "      <td>0</td>\n",
       "      <td>0</td>\n",
       "      <td>0.0</td>\n",
       "      <td>0.0</td>\n",
       "      <td>0.0</td>\n",
       "      <td>2.0</td>\n",
       "      <td>0.0</td>\n",
       "      <td>1.0</td>\n",
       "    </tr>\n",
       "  </tbody>\n",
       "</table>\n",
       "<p>5 rows × 122 columns</p>\n",
       "</div>"
      ],
      "text/plain": [
       "        SK_ID_CURR  TARGET NAME_CONTRACT_TYPE CODE_GENDER FLAG_OWN_CAR  \\\n",
       "307506      456251       0         Cash loans           M            N   \n",
       "307507      456252       0         Cash loans           F            N   \n",
       "307508      456253       0         Cash loans           F            N   \n",
       "307509      456254       1         Cash loans           F            N   \n",
       "307510      456255       0         Cash loans           F            N   \n",
       "\n",
       "       FLAG_OWN_REALTY  CNT_CHILDREN  AMT_INCOME_TOTAL  AMT_CREDIT  \\\n",
       "307506               N             0          157500.0    254700.0   \n",
       "307507               Y             0           72000.0    269550.0   \n",
       "307508               Y             0          153000.0    677664.0   \n",
       "307509               Y             0          171000.0    370107.0   \n",
       "307510               N             0          157500.0    675000.0   \n",
       "\n",
       "        AMT_ANNUITY  ...  FLAG_DOCUMENT_18 FLAG_DOCUMENT_19 FLAG_DOCUMENT_20  \\\n",
       "307506      27558.0  ...                 0                0                0   \n",
       "307507      12001.5  ...                 0                0                0   \n",
       "307508      29979.0  ...                 0                0                0   \n",
       "307509      20205.0  ...                 0                0                0   \n",
       "307510      49117.5  ...                 0                0                0   \n",
       "\n",
       "       FLAG_DOCUMENT_21 AMT_REQ_CREDIT_BUREAU_HOUR AMT_REQ_CREDIT_BUREAU_DAY  \\\n",
       "307506                0                        NaN                       NaN   \n",
       "307507                0                        NaN                       NaN   \n",
       "307508                0                        1.0                       0.0   \n",
       "307509                0                        0.0                       0.0   \n",
       "307510                0                        0.0                       0.0   \n",
       "\n",
       "        AMT_REQ_CREDIT_BUREAU_WEEK  AMT_REQ_CREDIT_BUREAU_MON  \\\n",
       "307506                         NaN                        NaN   \n",
       "307507                         NaN                        NaN   \n",
       "307508                         0.0                        1.0   \n",
       "307509                         0.0                        0.0   \n",
       "307510                         0.0                        2.0   \n",
       "\n",
       "        AMT_REQ_CREDIT_BUREAU_QRT  AMT_REQ_CREDIT_BUREAU_YEAR  \n",
       "307506                        NaN                         NaN  \n",
       "307507                        NaN                         NaN  \n",
       "307508                        0.0                         1.0  \n",
       "307509                        0.0                         0.0  \n",
       "307510                        0.0                         1.0  \n",
       "\n",
       "[5 rows x 122 columns]"
      ]
     },
     "execution_count": 6,
     "metadata": {},
     "output_type": "execute_result"
    }
   ],
   "source": [
    "main_df.tail()"
   ]
  },
  {
   "cell_type": "code",
   "execution_count": 7,
   "metadata": {
    "colab": {
     "base_uri": "https://localhost:8080/",
     "height": 322
    },
    "id": "0qtf0Bv6a3El",
    "outputId": "9ac0d51a-8090-421c-97a5-06188d373d2c"
   },
   "outputs": [
    {
     "data": {
      "text/html": [
       "<div>\n",
       "<style scoped>\n",
       "    .dataframe tbody tr th:only-of-type {\n",
       "        vertical-align: middle;\n",
       "    }\n",
       "\n",
       "    .dataframe tbody tr th {\n",
       "        vertical-align: top;\n",
       "    }\n",
       "\n",
       "    .dataframe thead th {\n",
       "        text-align: right;\n",
       "    }\n",
       "</style>\n",
       "<table border=\"1\" class=\"dataframe\">\n",
       "  <thead>\n",
       "    <tr style=\"text-align: right;\">\n",
       "      <th></th>\n",
       "      <th>SK_ID_CURR</th>\n",
       "      <th>SK_ID_BUREAU</th>\n",
       "      <th>CREDIT_ACTIVE</th>\n",
       "      <th>CREDIT_CURRENCY</th>\n",
       "      <th>DAYS_CREDIT</th>\n",
       "      <th>CREDIT_DAY_OVERDUE</th>\n",
       "      <th>DAYS_CREDIT_ENDDATE</th>\n",
       "      <th>DAYS_ENDDATE_FACT</th>\n",
       "      <th>AMT_CREDIT_MAX_OVERDUE</th>\n",
       "      <th>CNT_CREDIT_PROLONG</th>\n",
       "      <th>AMT_CREDIT_SUM</th>\n",
       "      <th>AMT_CREDIT_SUM_DEBT</th>\n",
       "      <th>AMT_CREDIT_SUM_LIMIT</th>\n",
       "      <th>AMT_CREDIT_SUM_OVERDUE</th>\n",
       "      <th>CREDIT_TYPE</th>\n",
       "      <th>DAYS_CREDIT_UPDATE</th>\n",
       "      <th>AMT_ANNUITY</th>\n",
       "    </tr>\n",
       "  </thead>\n",
       "  <tbody>\n",
       "    <tr>\n",
       "      <th>0</th>\n",
       "      <td>215354</td>\n",
       "      <td>5714462</td>\n",
       "      <td>Closed</td>\n",
       "      <td>currency 1</td>\n",
       "      <td>-497</td>\n",
       "      <td>0</td>\n",
       "      <td>-153.0</td>\n",
       "      <td>-153.0</td>\n",
       "      <td>NaN</td>\n",
       "      <td>0</td>\n",
       "      <td>91323.0</td>\n",
       "      <td>0.0</td>\n",
       "      <td>NaN</td>\n",
       "      <td>0.0</td>\n",
       "      <td>Consumer credit</td>\n",
       "      <td>-131</td>\n",
       "      <td>NaN</td>\n",
       "    </tr>\n",
       "    <tr>\n",
       "      <th>1</th>\n",
       "      <td>215354</td>\n",
       "      <td>5714463</td>\n",
       "      <td>Active</td>\n",
       "      <td>currency 1</td>\n",
       "      <td>-208</td>\n",
       "      <td>0</td>\n",
       "      <td>1075.0</td>\n",
       "      <td>NaN</td>\n",
       "      <td>NaN</td>\n",
       "      <td>0</td>\n",
       "      <td>225000.0</td>\n",
       "      <td>171342.0</td>\n",
       "      <td>NaN</td>\n",
       "      <td>0.0</td>\n",
       "      <td>Credit card</td>\n",
       "      <td>-20</td>\n",
       "      <td>NaN</td>\n",
       "    </tr>\n",
       "    <tr>\n",
       "      <th>2</th>\n",
       "      <td>215354</td>\n",
       "      <td>5714464</td>\n",
       "      <td>Active</td>\n",
       "      <td>currency 1</td>\n",
       "      <td>-203</td>\n",
       "      <td>0</td>\n",
       "      <td>528.0</td>\n",
       "      <td>NaN</td>\n",
       "      <td>NaN</td>\n",
       "      <td>0</td>\n",
       "      <td>464323.5</td>\n",
       "      <td>NaN</td>\n",
       "      <td>NaN</td>\n",
       "      <td>0.0</td>\n",
       "      <td>Consumer credit</td>\n",
       "      <td>-16</td>\n",
       "      <td>NaN</td>\n",
       "    </tr>\n",
       "    <tr>\n",
       "      <th>3</th>\n",
       "      <td>215354</td>\n",
       "      <td>5714465</td>\n",
       "      <td>Active</td>\n",
       "      <td>currency 1</td>\n",
       "      <td>-203</td>\n",
       "      <td>0</td>\n",
       "      <td>NaN</td>\n",
       "      <td>NaN</td>\n",
       "      <td>NaN</td>\n",
       "      <td>0</td>\n",
       "      <td>90000.0</td>\n",
       "      <td>NaN</td>\n",
       "      <td>NaN</td>\n",
       "      <td>0.0</td>\n",
       "      <td>Credit card</td>\n",
       "      <td>-16</td>\n",
       "      <td>NaN</td>\n",
       "    </tr>\n",
       "    <tr>\n",
       "      <th>4</th>\n",
       "      <td>215354</td>\n",
       "      <td>5714466</td>\n",
       "      <td>Active</td>\n",
       "      <td>currency 1</td>\n",
       "      <td>-629</td>\n",
       "      <td>0</td>\n",
       "      <td>1197.0</td>\n",
       "      <td>NaN</td>\n",
       "      <td>77674.5</td>\n",
       "      <td>0</td>\n",
       "      <td>2700000.0</td>\n",
       "      <td>NaN</td>\n",
       "      <td>NaN</td>\n",
       "      <td>0.0</td>\n",
       "      <td>Consumer credit</td>\n",
       "      <td>-21</td>\n",
       "      <td>NaN</td>\n",
       "    </tr>\n",
       "  </tbody>\n",
       "</table>\n",
       "</div>"
      ],
      "text/plain": [
       "   SK_ID_CURR  SK_ID_BUREAU CREDIT_ACTIVE CREDIT_CURRENCY  DAYS_CREDIT  \\\n",
       "0      215354       5714462        Closed      currency 1         -497   \n",
       "1      215354       5714463        Active      currency 1         -208   \n",
       "2      215354       5714464        Active      currency 1         -203   \n",
       "3      215354       5714465        Active      currency 1         -203   \n",
       "4      215354       5714466        Active      currency 1         -629   \n",
       "\n",
       "   CREDIT_DAY_OVERDUE  DAYS_CREDIT_ENDDATE  DAYS_ENDDATE_FACT  \\\n",
       "0                   0               -153.0             -153.0   \n",
       "1                   0               1075.0                NaN   \n",
       "2                   0                528.0                NaN   \n",
       "3                   0                  NaN                NaN   \n",
       "4                   0               1197.0                NaN   \n",
       "\n",
       "   AMT_CREDIT_MAX_OVERDUE  CNT_CREDIT_PROLONG  AMT_CREDIT_SUM  \\\n",
       "0                     NaN                   0         91323.0   \n",
       "1                     NaN                   0        225000.0   \n",
       "2                     NaN                   0        464323.5   \n",
       "3                     NaN                   0         90000.0   \n",
       "4                 77674.5                   0       2700000.0   \n",
       "\n",
       "   AMT_CREDIT_SUM_DEBT  AMT_CREDIT_SUM_LIMIT  AMT_CREDIT_SUM_OVERDUE  \\\n",
       "0                  0.0                   NaN                     0.0   \n",
       "1             171342.0                   NaN                     0.0   \n",
       "2                  NaN                   NaN                     0.0   \n",
       "3                  NaN                   NaN                     0.0   \n",
       "4                  NaN                   NaN                     0.0   \n",
       "\n",
       "       CREDIT_TYPE  DAYS_CREDIT_UPDATE  AMT_ANNUITY  \n",
       "0  Consumer credit                -131          NaN  \n",
       "1      Credit card                 -20          NaN  \n",
       "2  Consumer credit                 -16          NaN  \n",
       "3      Credit card                 -16          NaN  \n",
       "4  Consumer credit                 -21          NaN  "
      ]
     },
     "execution_count": 7,
     "metadata": {},
     "output_type": "execute_result"
    }
   ],
   "source": [
    "bureau.head()"
   ]
  },
  {
   "cell_type": "code",
   "execution_count": 8,
   "metadata": {
    "colab": {
     "base_uri": "https://localhost:8080/",
     "height": 206
    },
    "id": "SrvGeLi3bTbY",
    "outputId": "fa52795f-87b5-4dc9-e0be-7516f82a83d1"
   },
   "outputs": [
    {
     "data": {
      "text/html": [
       "<div>\n",
       "<style scoped>\n",
       "    .dataframe tbody tr th:only-of-type {\n",
       "        vertical-align: middle;\n",
       "    }\n",
       "\n",
       "    .dataframe tbody tr th {\n",
       "        vertical-align: top;\n",
       "    }\n",
       "\n",
       "    .dataframe thead th {\n",
       "        text-align: right;\n",
       "    }\n",
       "</style>\n",
       "<table border=\"1\" class=\"dataframe\">\n",
       "  <thead>\n",
       "    <tr style=\"text-align: right;\">\n",
       "      <th></th>\n",
       "      <th>SK_ID_BUREAU</th>\n",
       "      <th>MONTHS_BALANCE</th>\n",
       "      <th>STATUS</th>\n",
       "    </tr>\n",
       "  </thead>\n",
       "  <tbody>\n",
       "    <tr>\n",
       "      <th>0</th>\n",
       "      <td>5715448</td>\n",
       "      <td>0</td>\n",
       "      <td>C</td>\n",
       "    </tr>\n",
       "    <tr>\n",
       "      <th>1</th>\n",
       "      <td>5715448</td>\n",
       "      <td>-1</td>\n",
       "      <td>C</td>\n",
       "    </tr>\n",
       "    <tr>\n",
       "      <th>2</th>\n",
       "      <td>5715448</td>\n",
       "      <td>-2</td>\n",
       "      <td>C</td>\n",
       "    </tr>\n",
       "    <tr>\n",
       "      <th>3</th>\n",
       "      <td>5715448</td>\n",
       "      <td>-3</td>\n",
       "      <td>C</td>\n",
       "    </tr>\n",
       "    <tr>\n",
       "      <th>4</th>\n",
       "      <td>5715448</td>\n",
       "      <td>-4</td>\n",
       "      <td>C</td>\n",
       "    </tr>\n",
       "  </tbody>\n",
       "</table>\n",
       "</div>"
      ],
      "text/plain": [
       "   SK_ID_BUREAU  MONTHS_BALANCE STATUS\n",
       "0       5715448               0      C\n",
       "1       5715448              -1      C\n",
       "2       5715448              -2      C\n",
       "3       5715448              -3      C\n",
       "4       5715448              -4      C"
      ]
     },
     "execution_count": 8,
     "metadata": {},
     "output_type": "execute_result"
    }
   ],
   "source": [
    "bureau_balance.head()"
   ]
  },
  {
   "cell_type": "code",
   "execution_count": 9,
   "metadata": {
    "colab": {
     "base_uri": "https://localhost:8080/",
     "height": 540
    },
    "id": "G-mUwpxNo7Fr",
    "outputId": "29cf5e8c-e000-40a2-b594-8ae2e266425b"
   },
   "outputs": [
    {
     "data": {
      "text/html": [
       "<div>\n",
       "<style scoped>\n",
       "    .dataframe tbody tr th:only-of-type {\n",
       "        vertical-align: middle;\n",
       "    }\n",
       "\n",
       "    .dataframe tbody tr th {\n",
       "        vertical-align: top;\n",
       "    }\n",
       "\n",
       "    .dataframe thead th {\n",
       "        text-align: right;\n",
       "    }\n",
       "</style>\n",
       "<table border=\"1\" class=\"dataframe\">\n",
       "  <thead>\n",
       "    <tr style=\"text-align: right;\">\n",
       "      <th></th>\n",
       "      <th>SK_ID_PREV</th>\n",
       "      <th>SK_ID_CURR</th>\n",
       "      <th>NAME_CONTRACT_TYPE</th>\n",
       "      <th>AMT_ANNUITY</th>\n",
       "      <th>AMT_APPLICATION</th>\n",
       "      <th>AMT_CREDIT</th>\n",
       "      <th>AMT_DOWN_PAYMENT</th>\n",
       "      <th>AMT_GOODS_PRICE</th>\n",
       "      <th>WEEKDAY_APPR_PROCESS_START</th>\n",
       "      <th>HOUR_APPR_PROCESS_START</th>\n",
       "      <th>...</th>\n",
       "      <th>NAME_SELLER_INDUSTRY</th>\n",
       "      <th>CNT_PAYMENT</th>\n",
       "      <th>NAME_YIELD_GROUP</th>\n",
       "      <th>PRODUCT_COMBINATION</th>\n",
       "      <th>DAYS_FIRST_DRAWING</th>\n",
       "      <th>DAYS_FIRST_DUE</th>\n",
       "      <th>DAYS_LAST_DUE_1ST_VERSION</th>\n",
       "      <th>DAYS_LAST_DUE</th>\n",
       "      <th>DAYS_TERMINATION</th>\n",
       "      <th>NFLAG_INSURED_ON_APPROVAL</th>\n",
       "    </tr>\n",
       "  </thead>\n",
       "  <tbody>\n",
       "    <tr>\n",
       "      <th>0</th>\n",
       "      <td>2030495</td>\n",
       "      <td>271877</td>\n",
       "      <td>Consumer loans</td>\n",
       "      <td>1730.430</td>\n",
       "      <td>17145.0</td>\n",
       "      <td>17145.0</td>\n",
       "      <td>0.0</td>\n",
       "      <td>17145.0</td>\n",
       "      <td>SATURDAY</td>\n",
       "      <td>15</td>\n",
       "      <td>...</td>\n",
       "      <td>Connectivity</td>\n",
       "      <td>12.0</td>\n",
       "      <td>middle</td>\n",
       "      <td>POS mobile with interest</td>\n",
       "      <td>365243.0</td>\n",
       "      <td>-42.0</td>\n",
       "      <td>300.0</td>\n",
       "      <td>-42.0</td>\n",
       "      <td>-37.0</td>\n",
       "      <td>0.0</td>\n",
       "    </tr>\n",
       "    <tr>\n",
       "      <th>1</th>\n",
       "      <td>2802425</td>\n",
       "      <td>108129</td>\n",
       "      <td>Cash loans</td>\n",
       "      <td>25188.615</td>\n",
       "      <td>607500.0</td>\n",
       "      <td>679671.0</td>\n",
       "      <td>NaN</td>\n",
       "      <td>607500.0</td>\n",
       "      <td>THURSDAY</td>\n",
       "      <td>11</td>\n",
       "      <td>...</td>\n",
       "      <td>XNA</td>\n",
       "      <td>36.0</td>\n",
       "      <td>low_action</td>\n",
       "      <td>Cash X-Sell: low</td>\n",
       "      <td>365243.0</td>\n",
       "      <td>-134.0</td>\n",
       "      <td>916.0</td>\n",
       "      <td>365243.0</td>\n",
       "      <td>365243.0</td>\n",
       "      <td>1.0</td>\n",
       "    </tr>\n",
       "    <tr>\n",
       "      <th>2</th>\n",
       "      <td>2523466</td>\n",
       "      <td>122040</td>\n",
       "      <td>Cash loans</td>\n",
       "      <td>15060.735</td>\n",
       "      <td>112500.0</td>\n",
       "      <td>136444.5</td>\n",
       "      <td>NaN</td>\n",
       "      <td>112500.0</td>\n",
       "      <td>TUESDAY</td>\n",
       "      <td>11</td>\n",
       "      <td>...</td>\n",
       "      <td>XNA</td>\n",
       "      <td>12.0</td>\n",
       "      <td>high</td>\n",
       "      <td>Cash X-Sell: high</td>\n",
       "      <td>365243.0</td>\n",
       "      <td>-271.0</td>\n",
       "      <td>59.0</td>\n",
       "      <td>365243.0</td>\n",
       "      <td>365243.0</td>\n",
       "      <td>1.0</td>\n",
       "    </tr>\n",
       "    <tr>\n",
       "      <th>3</th>\n",
       "      <td>2819243</td>\n",
       "      <td>176158</td>\n",
       "      <td>Cash loans</td>\n",
       "      <td>47041.335</td>\n",
       "      <td>450000.0</td>\n",
       "      <td>470790.0</td>\n",
       "      <td>NaN</td>\n",
       "      <td>450000.0</td>\n",
       "      <td>MONDAY</td>\n",
       "      <td>7</td>\n",
       "      <td>...</td>\n",
       "      <td>XNA</td>\n",
       "      <td>12.0</td>\n",
       "      <td>middle</td>\n",
       "      <td>Cash X-Sell: middle</td>\n",
       "      <td>365243.0</td>\n",
       "      <td>-482.0</td>\n",
       "      <td>-152.0</td>\n",
       "      <td>-182.0</td>\n",
       "      <td>-177.0</td>\n",
       "      <td>1.0</td>\n",
       "    </tr>\n",
       "    <tr>\n",
       "      <th>4</th>\n",
       "      <td>1784265</td>\n",
       "      <td>202054</td>\n",
       "      <td>Cash loans</td>\n",
       "      <td>31924.395</td>\n",
       "      <td>337500.0</td>\n",
       "      <td>404055.0</td>\n",
       "      <td>NaN</td>\n",
       "      <td>337500.0</td>\n",
       "      <td>THURSDAY</td>\n",
       "      <td>9</td>\n",
       "      <td>...</td>\n",
       "      <td>XNA</td>\n",
       "      <td>24.0</td>\n",
       "      <td>high</td>\n",
       "      <td>Cash Street: high</td>\n",
       "      <td>NaN</td>\n",
       "      <td>NaN</td>\n",
       "      <td>NaN</td>\n",
       "      <td>NaN</td>\n",
       "      <td>NaN</td>\n",
       "      <td>NaN</td>\n",
       "    </tr>\n",
       "    <tr>\n",
       "      <th>...</th>\n",
       "      <td>...</td>\n",
       "      <td>...</td>\n",
       "      <td>...</td>\n",
       "      <td>...</td>\n",
       "      <td>...</td>\n",
       "      <td>...</td>\n",
       "      <td>...</td>\n",
       "      <td>...</td>\n",
       "      <td>...</td>\n",
       "      <td>...</td>\n",
       "      <td>...</td>\n",
       "      <td>...</td>\n",
       "      <td>...</td>\n",
       "      <td>...</td>\n",
       "      <td>...</td>\n",
       "      <td>...</td>\n",
       "      <td>...</td>\n",
       "      <td>...</td>\n",
       "      <td>...</td>\n",
       "      <td>...</td>\n",
       "      <td>...</td>\n",
       "    </tr>\n",
       "    <tr>\n",
       "      <th>1670209</th>\n",
       "      <td>2300464</td>\n",
       "      <td>352015</td>\n",
       "      <td>Consumer loans</td>\n",
       "      <td>14704.290</td>\n",
       "      <td>267295.5</td>\n",
       "      <td>311400.0</td>\n",
       "      <td>0.0</td>\n",
       "      <td>267295.5</td>\n",
       "      <td>WEDNESDAY</td>\n",
       "      <td>12</td>\n",
       "      <td>...</td>\n",
       "      <td>Furniture</td>\n",
       "      <td>30.0</td>\n",
       "      <td>low_normal</td>\n",
       "      <td>POS industry with interest</td>\n",
       "      <td>365243.0</td>\n",
       "      <td>-508.0</td>\n",
       "      <td>362.0</td>\n",
       "      <td>-358.0</td>\n",
       "      <td>-351.0</td>\n",
       "      <td>0.0</td>\n",
       "    </tr>\n",
       "    <tr>\n",
       "      <th>1670210</th>\n",
       "      <td>2357031</td>\n",
       "      <td>334635</td>\n",
       "      <td>Consumer loans</td>\n",
       "      <td>6622.020</td>\n",
       "      <td>87750.0</td>\n",
       "      <td>64291.5</td>\n",
       "      <td>29250.0</td>\n",
       "      <td>87750.0</td>\n",
       "      <td>TUESDAY</td>\n",
       "      <td>15</td>\n",
       "      <td>...</td>\n",
       "      <td>Furniture</td>\n",
       "      <td>12.0</td>\n",
       "      <td>middle</td>\n",
       "      <td>POS industry with interest</td>\n",
       "      <td>365243.0</td>\n",
       "      <td>-1604.0</td>\n",
       "      <td>-1274.0</td>\n",
       "      <td>-1304.0</td>\n",
       "      <td>-1297.0</td>\n",
       "      <td>0.0</td>\n",
       "    </tr>\n",
       "    <tr>\n",
       "      <th>1670211</th>\n",
       "      <td>2659632</td>\n",
       "      <td>249544</td>\n",
       "      <td>Consumer loans</td>\n",
       "      <td>11520.855</td>\n",
       "      <td>105237.0</td>\n",
       "      <td>102523.5</td>\n",
       "      <td>10525.5</td>\n",
       "      <td>105237.0</td>\n",
       "      <td>MONDAY</td>\n",
       "      <td>12</td>\n",
       "      <td>...</td>\n",
       "      <td>Consumer electronics</td>\n",
       "      <td>10.0</td>\n",
       "      <td>low_normal</td>\n",
       "      <td>POS household with interest</td>\n",
       "      <td>365243.0</td>\n",
       "      <td>-1457.0</td>\n",
       "      <td>-1187.0</td>\n",
       "      <td>-1187.0</td>\n",
       "      <td>-1181.0</td>\n",
       "      <td>0.0</td>\n",
       "    </tr>\n",
       "    <tr>\n",
       "      <th>1670212</th>\n",
       "      <td>2785582</td>\n",
       "      <td>400317</td>\n",
       "      <td>Cash loans</td>\n",
       "      <td>18821.520</td>\n",
       "      <td>180000.0</td>\n",
       "      <td>191880.0</td>\n",
       "      <td>NaN</td>\n",
       "      <td>180000.0</td>\n",
       "      <td>WEDNESDAY</td>\n",
       "      <td>9</td>\n",
       "      <td>...</td>\n",
       "      <td>XNA</td>\n",
       "      <td>12.0</td>\n",
       "      <td>low_normal</td>\n",
       "      <td>Cash X-Sell: low</td>\n",
       "      <td>365243.0</td>\n",
       "      <td>-1155.0</td>\n",
       "      <td>-825.0</td>\n",
       "      <td>-825.0</td>\n",
       "      <td>-817.0</td>\n",
       "      <td>1.0</td>\n",
       "    </tr>\n",
       "    <tr>\n",
       "      <th>1670213</th>\n",
       "      <td>2418762</td>\n",
       "      <td>261212</td>\n",
       "      <td>Cash loans</td>\n",
       "      <td>16431.300</td>\n",
       "      <td>360000.0</td>\n",
       "      <td>360000.0</td>\n",
       "      <td>NaN</td>\n",
       "      <td>360000.0</td>\n",
       "      <td>SUNDAY</td>\n",
       "      <td>10</td>\n",
       "      <td>...</td>\n",
       "      <td>XNA</td>\n",
       "      <td>48.0</td>\n",
       "      <td>middle</td>\n",
       "      <td>Cash X-Sell: middle</td>\n",
       "      <td>365243.0</td>\n",
       "      <td>-1163.0</td>\n",
       "      <td>247.0</td>\n",
       "      <td>-443.0</td>\n",
       "      <td>-423.0</td>\n",
       "      <td>0.0</td>\n",
       "    </tr>\n",
       "  </tbody>\n",
       "</table>\n",
       "<p>1670214 rows × 37 columns</p>\n",
       "</div>"
      ],
      "text/plain": [
       "         SK_ID_PREV  SK_ID_CURR NAME_CONTRACT_TYPE  AMT_ANNUITY  \\\n",
       "0           2030495      271877     Consumer loans     1730.430   \n",
       "1           2802425      108129         Cash loans    25188.615   \n",
       "2           2523466      122040         Cash loans    15060.735   \n",
       "3           2819243      176158         Cash loans    47041.335   \n",
       "4           1784265      202054         Cash loans    31924.395   \n",
       "...             ...         ...                ...          ...   \n",
       "1670209     2300464      352015     Consumer loans    14704.290   \n",
       "1670210     2357031      334635     Consumer loans     6622.020   \n",
       "1670211     2659632      249544     Consumer loans    11520.855   \n",
       "1670212     2785582      400317         Cash loans    18821.520   \n",
       "1670213     2418762      261212         Cash loans    16431.300   \n",
       "\n",
       "         AMT_APPLICATION  AMT_CREDIT  AMT_DOWN_PAYMENT  AMT_GOODS_PRICE  \\\n",
       "0                17145.0     17145.0               0.0          17145.0   \n",
       "1               607500.0    679671.0               NaN         607500.0   \n",
       "2               112500.0    136444.5               NaN         112500.0   \n",
       "3               450000.0    470790.0               NaN         450000.0   \n",
       "4               337500.0    404055.0               NaN         337500.0   \n",
       "...                  ...         ...               ...              ...   \n",
       "1670209         267295.5    311400.0               0.0         267295.5   \n",
       "1670210          87750.0     64291.5           29250.0          87750.0   \n",
       "1670211         105237.0    102523.5           10525.5         105237.0   \n",
       "1670212         180000.0    191880.0               NaN         180000.0   \n",
       "1670213         360000.0    360000.0               NaN         360000.0   \n",
       "\n",
       "        WEEKDAY_APPR_PROCESS_START  HOUR_APPR_PROCESS_START  ...  \\\n",
       "0                         SATURDAY                       15  ...   \n",
       "1                         THURSDAY                       11  ...   \n",
       "2                          TUESDAY                       11  ...   \n",
       "3                           MONDAY                        7  ...   \n",
       "4                         THURSDAY                        9  ...   \n",
       "...                            ...                      ...  ...   \n",
       "1670209                  WEDNESDAY                       12  ...   \n",
       "1670210                    TUESDAY                       15  ...   \n",
       "1670211                     MONDAY                       12  ...   \n",
       "1670212                  WEDNESDAY                        9  ...   \n",
       "1670213                     SUNDAY                       10  ...   \n",
       "\n",
       "         NAME_SELLER_INDUSTRY  CNT_PAYMENT  NAME_YIELD_GROUP  \\\n",
       "0                Connectivity         12.0            middle   \n",
       "1                         XNA         36.0        low_action   \n",
       "2                         XNA         12.0              high   \n",
       "3                         XNA         12.0            middle   \n",
       "4                         XNA         24.0              high   \n",
       "...                       ...          ...               ...   \n",
       "1670209             Furniture         30.0        low_normal   \n",
       "1670210             Furniture         12.0            middle   \n",
       "1670211  Consumer electronics         10.0        low_normal   \n",
       "1670212                   XNA         12.0        low_normal   \n",
       "1670213                   XNA         48.0            middle   \n",
       "\n",
       "                 PRODUCT_COMBINATION  DAYS_FIRST_DRAWING DAYS_FIRST_DUE  \\\n",
       "0           POS mobile with interest            365243.0          -42.0   \n",
       "1                   Cash X-Sell: low            365243.0         -134.0   \n",
       "2                  Cash X-Sell: high            365243.0         -271.0   \n",
       "3                Cash X-Sell: middle            365243.0         -482.0   \n",
       "4                  Cash Street: high                 NaN            NaN   \n",
       "...                              ...                 ...            ...   \n",
       "1670209   POS industry with interest            365243.0         -508.0   \n",
       "1670210   POS industry with interest            365243.0        -1604.0   \n",
       "1670211  POS household with interest            365243.0        -1457.0   \n",
       "1670212             Cash X-Sell: low            365243.0        -1155.0   \n",
       "1670213          Cash X-Sell: middle            365243.0        -1163.0   \n",
       "\n",
       "        DAYS_LAST_DUE_1ST_VERSION  DAYS_LAST_DUE DAYS_TERMINATION  \\\n",
       "0                           300.0          -42.0            -37.0   \n",
       "1                           916.0       365243.0         365243.0   \n",
       "2                            59.0       365243.0         365243.0   \n",
       "3                          -152.0         -182.0           -177.0   \n",
       "4                             NaN            NaN              NaN   \n",
       "...                           ...            ...              ...   \n",
       "1670209                     362.0         -358.0           -351.0   \n",
       "1670210                   -1274.0        -1304.0          -1297.0   \n",
       "1670211                   -1187.0        -1187.0          -1181.0   \n",
       "1670212                    -825.0         -825.0           -817.0   \n",
       "1670213                     247.0         -443.0           -423.0   \n",
       "\n",
       "        NFLAG_INSURED_ON_APPROVAL  \n",
       "0                             0.0  \n",
       "1                             1.0  \n",
       "2                             1.0  \n",
       "3                             1.0  \n",
       "4                             NaN  \n",
       "...                           ...  \n",
       "1670209                       0.0  \n",
       "1670210                       0.0  \n",
       "1670211                       0.0  \n",
       "1670212                       1.0  \n",
       "1670213                       0.0  \n",
       "\n",
       "[1670214 rows x 37 columns]"
      ]
     },
     "execution_count": 9,
     "metadata": {},
     "output_type": "execute_result"
    }
   ],
   "source": [
    "prev_application"
   ]
  },
  {
   "cell_type": "code",
   "execution_count": 10,
   "metadata": {
    "colab": {
     "base_uri": "https://localhost:8080/",
     "height": 300
    },
    "id": "EvKjgTpXpVyt",
    "outputId": "705ed685-6011-4615-e623-94cc93c33771"
   },
   "outputs": [
    {
     "data": {
      "text/html": [
       "<div>\n",
       "<style scoped>\n",
       "    .dataframe tbody tr th:only-of-type {\n",
       "        vertical-align: middle;\n",
       "    }\n",
       "\n",
       "    .dataframe tbody tr th {\n",
       "        vertical-align: top;\n",
       "    }\n",
       "\n",
       "    .dataframe thead th {\n",
       "        text-align: right;\n",
       "    }\n",
       "</style>\n",
       "<table border=\"1\" class=\"dataframe\">\n",
       "  <thead>\n",
       "    <tr style=\"text-align: right;\">\n",
       "      <th></th>\n",
       "      <th>SK_ID_PREV</th>\n",
       "      <th>SK_ID_CURR</th>\n",
       "      <th>MONTHS_BALANCE</th>\n",
       "      <th>AMT_BALANCE</th>\n",
       "      <th>AMT_CREDIT_LIMIT_ACTUAL</th>\n",
       "      <th>AMT_DRAWINGS_ATM_CURRENT</th>\n",
       "      <th>AMT_DRAWINGS_CURRENT</th>\n",
       "      <th>AMT_DRAWINGS_OTHER_CURRENT</th>\n",
       "      <th>AMT_DRAWINGS_POS_CURRENT</th>\n",
       "      <th>AMT_INST_MIN_REGULARITY</th>\n",
       "      <th>...</th>\n",
       "      <th>AMT_RECIVABLE</th>\n",
       "      <th>AMT_TOTAL_RECEIVABLE</th>\n",
       "      <th>CNT_DRAWINGS_ATM_CURRENT</th>\n",
       "      <th>CNT_DRAWINGS_CURRENT</th>\n",
       "      <th>CNT_DRAWINGS_OTHER_CURRENT</th>\n",
       "      <th>CNT_DRAWINGS_POS_CURRENT</th>\n",
       "      <th>CNT_INSTALMENT_MATURE_CUM</th>\n",
       "      <th>NAME_CONTRACT_STATUS</th>\n",
       "      <th>SK_DPD</th>\n",
       "      <th>SK_DPD_DEF</th>\n",
       "    </tr>\n",
       "  </thead>\n",
       "  <tbody>\n",
       "    <tr>\n",
       "      <th>0</th>\n",
       "      <td>2562384</td>\n",
       "      <td>378907</td>\n",
       "      <td>-6</td>\n",
       "      <td>56.970</td>\n",
       "      <td>135000</td>\n",
       "      <td>0.0</td>\n",
       "      <td>877.5</td>\n",
       "      <td>0.0</td>\n",
       "      <td>877.5</td>\n",
       "      <td>1700.325</td>\n",
       "      <td>...</td>\n",
       "      <td>0.000</td>\n",
       "      <td>0.000</td>\n",
       "      <td>0.0</td>\n",
       "      <td>1</td>\n",
       "      <td>0.0</td>\n",
       "      <td>1.0</td>\n",
       "      <td>35.0</td>\n",
       "      <td>Active</td>\n",
       "      <td>0</td>\n",
       "      <td>0</td>\n",
       "    </tr>\n",
       "    <tr>\n",
       "      <th>1</th>\n",
       "      <td>2582071</td>\n",
       "      <td>363914</td>\n",
       "      <td>-1</td>\n",
       "      <td>63975.555</td>\n",
       "      <td>45000</td>\n",
       "      <td>2250.0</td>\n",
       "      <td>2250.0</td>\n",
       "      <td>0.0</td>\n",
       "      <td>0.0</td>\n",
       "      <td>2250.000</td>\n",
       "      <td>...</td>\n",
       "      <td>64875.555</td>\n",
       "      <td>64875.555</td>\n",
       "      <td>1.0</td>\n",
       "      <td>1</td>\n",
       "      <td>0.0</td>\n",
       "      <td>0.0</td>\n",
       "      <td>69.0</td>\n",
       "      <td>Active</td>\n",
       "      <td>0</td>\n",
       "      <td>0</td>\n",
       "    </tr>\n",
       "    <tr>\n",
       "      <th>2</th>\n",
       "      <td>1740877</td>\n",
       "      <td>371185</td>\n",
       "      <td>-7</td>\n",
       "      <td>31815.225</td>\n",
       "      <td>450000</td>\n",
       "      <td>0.0</td>\n",
       "      <td>0.0</td>\n",
       "      <td>0.0</td>\n",
       "      <td>0.0</td>\n",
       "      <td>2250.000</td>\n",
       "      <td>...</td>\n",
       "      <td>31460.085</td>\n",
       "      <td>31460.085</td>\n",
       "      <td>0.0</td>\n",
       "      <td>0</td>\n",
       "      <td>0.0</td>\n",
       "      <td>0.0</td>\n",
       "      <td>30.0</td>\n",
       "      <td>Active</td>\n",
       "      <td>0</td>\n",
       "      <td>0</td>\n",
       "    </tr>\n",
       "    <tr>\n",
       "      <th>3</th>\n",
       "      <td>1389973</td>\n",
       "      <td>337855</td>\n",
       "      <td>-4</td>\n",
       "      <td>236572.110</td>\n",
       "      <td>225000</td>\n",
       "      <td>2250.0</td>\n",
       "      <td>2250.0</td>\n",
       "      <td>0.0</td>\n",
       "      <td>0.0</td>\n",
       "      <td>11795.760</td>\n",
       "      <td>...</td>\n",
       "      <td>233048.970</td>\n",
       "      <td>233048.970</td>\n",
       "      <td>1.0</td>\n",
       "      <td>1</td>\n",
       "      <td>0.0</td>\n",
       "      <td>0.0</td>\n",
       "      <td>10.0</td>\n",
       "      <td>Active</td>\n",
       "      <td>0</td>\n",
       "      <td>0</td>\n",
       "    </tr>\n",
       "    <tr>\n",
       "      <th>4</th>\n",
       "      <td>1891521</td>\n",
       "      <td>126868</td>\n",
       "      <td>-1</td>\n",
       "      <td>453919.455</td>\n",
       "      <td>450000</td>\n",
       "      <td>0.0</td>\n",
       "      <td>11547.0</td>\n",
       "      <td>0.0</td>\n",
       "      <td>11547.0</td>\n",
       "      <td>22924.890</td>\n",
       "      <td>...</td>\n",
       "      <td>453919.455</td>\n",
       "      <td>453919.455</td>\n",
       "      <td>0.0</td>\n",
       "      <td>1</td>\n",
       "      <td>0.0</td>\n",
       "      <td>1.0</td>\n",
       "      <td>101.0</td>\n",
       "      <td>Active</td>\n",
       "      <td>0</td>\n",
       "      <td>0</td>\n",
       "    </tr>\n",
       "  </tbody>\n",
       "</table>\n",
       "<p>5 rows × 23 columns</p>\n",
       "</div>"
      ],
      "text/plain": [
       "   SK_ID_PREV  SK_ID_CURR  MONTHS_BALANCE  AMT_BALANCE  \\\n",
       "0     2562384      378907              -6       56.970   \n",
       "1     2582071      363914              -1    63975.555   \n",
       "2     1740877      371185              -7    31815.225   \n",
       "3     1389973      337855              -4   236572.110   \n",
       "4     1891521      126868              -1   453919.455   \n",
       "\n",
       "   AMT_CREDIT_LIMIT_ACTUAL  AMT_DRAWINGS_ATM_CURRENT  AMT_DRAWINGS_CURRENT  \\\n",
       "0                   135000                       0.0                 877.5   \n",
       "1                    45000                    2250.0                2250.0   \n",
       "2                   450000                       0.0                   0.0   \n",
       "3                   225000                    2250.0                2250.0   \n",
       "4                   450000                       0.0               11547.0   \n",
       "\n",
       "   AMT_DRAWINGS_OTHER_CURRENT  AMT_DRAWINGS_POS_CURRENT  \\\n",
       "0                         0.0                     877.5   \n",
       "1                         0.0                       0.0   \n",
       "2                         0.0                       0.0   \n",
       "3                         0.0                       0.0   \n",
       "4                         0.0                   11547.0   \n",
       "\n",
       "   AMT_INST_MIN_REGULARITY  ...  AMT_RECIVABLE  AMT_TOTAL_RECEIVABLE  \\\n",
       "0                 1700.325  ...          0.000                 0.000   \n",
       "1                 2250.000  ...      64875.555             64875.555   \n",
       "2                 2250.000  ...      31460.085             31460.085   \n",
       "3                11795.760  ...     233048.970            233048.970   \n",
       "4                22924.890  ...     453919.455            453919.455   \n",
       "\n",
       "   CNT_DRAWINGS_ATM_CURRENT  CNT_DRAWINGS_CURRENT  CNT_DRAWINGS_OTHER_CURRENT  \\\n",
       "0                       0.0                     1                         0.0   \n",
       "1                       1.0                     1                         0.0   \n",
       "2                       0.0                     0                         0.0   \n",
       "3                       1.0                     1                         0.0   \n",
       "4                       0.0                     1                         0.0   \n",
       "\n",
       "   CNT_DRAWINGS_POS_CURRENT  CNT_INSTALMENT_MATURE_CUM  NAME_CONTRACT_STATUS  \\\n",
       "0                       1.0                       35.0                Active   \n",
       "1                       0.0                       69.0                Active   \n",
       "2                       0.0                       30.0                Active   \n",
       "3                       0.0                       10.0                Active   \n",
       "4                       1.0                      101.0                Active   \n",
       "\n",
       "   SK_DPD  SK_DPD_DEF  \n",
       "0       0           0  \n",
       "1       0           0  \n",
       "2       0           0  \n",
       "3       0           0  \n",
       "4       0           0  \n",
       "\n",
       "[5 rows x 23 columns]"
      ]
     },
     "execution_count": 10,
     "metadata": {},
     "output_type": "execute_result"
    }
   ],
   "source": [
    "credit_card_bal.head()"
   ]
  },
  {
   "cell_type": "code",
   "execution_count": 11,
   "metadata": {
    "colab": {
     "base_uri": "https://localhost:8080/",
     "height": 300
    },
    "id": "YjRbbYiOpa_f",
    "outputId": "a70ec9c9-ebf2-4c12-f052-342eb6f438ec"
   },
   "outputs": [
    {
     "data": {
      "text/html": [
       "<div>\n",
       "<style scoped>\n",
       "    .dataframe tbody tr th:only-of-type {\n",
       "        vertical-align: middle;\n",
       "    }\n",
       "\n",
       "    .dataframe tbody tr th {\n",
       "        vertical-align: top;\n",
       "    }\n",
       "\n",
       "    .dataframe thead th {\n",
       "        text-align: right;\n",
       "    }\n",
       "</style>\n",
       "<table border=\"1\" class=\"dataframe\">\n",
       "  <thead>\n",
       "    <tr style=\"text-align: right;\">\n",
       "      <th></th>\n",
       "      <th>SK_ID_PREV</th>\n",
       "      <th>SK_ID_CURR</th>\n",
       "      <th>MONTHS_BALANCE</th>\n",
       "      <th>AMT_BALANCE</th>\n",
       "      <th>AMT_CREDIT_LIMIT_ACTUAL</th>\n",
       "      <th>AMT_DRAWINGS_ATM_CURRENT</th>\n",
       "      <th>AMT_DRAWINGS_CURRENT</th>\n",
       "      <th>AMT_DRAWINGS_OTHER_CURRENT</th>\n",
       "      <th>AMT_DRAWINGS_POS_CURRENT</th>\n",
       "      <th>AMT_INST_MIN_REGULARITY</th>\n",
       "      <th>...</th>\n",
       "      <th>AMT_RECIVABLE</th>\n",
       "      <th>AMT_TOTAL_RECEIVABLE</th>\n",
       "      <th>CNT_DRAWINGS_ATM_CURRENT</th>\n",
       "      <th>CNT_DRAWINGS_CURRENT</th>\n",
       "      <th>CNT_DRAWINGS_OTHER_CURRENT</th>\n",
       "      <th>CNT_DRAWINGS_POS_CURRENT</th>\n",
       "      <th>CNT_INSTALMENT_MATURE_CUM</th>\n",
       "      <th>NAME_CONTRACT_STATUS</th>\n",
       "      <th>SK_DPD</th>\n",
       "      <th>SK_DPD_DEF</th>\n",
       "    </tr>\n",
       "  </thead>\n",
       "  <tbody>\n",
       "    <tr>\n",
       "      <th>0</th>\n",
       "      <td>2562384</td>\n",
       "      <td>378907</td>\n",
       "      <td>-6</td>\n",
       "      <td>56.970</td>\n",
       "      <td>135000</td>\n",
       "      <td>0.0</td>\n",
       "      <td>877.5</td>\n",
       "      <td>0.0</td>\n",
       "      <td>877.5</td>\n",
       "      <td>1700.325</td>\n",
       "      <td>...</td>\n",
       "      <td>0.000</td>\n",
       "      <td>0.000</td>\n",
       "      <td>0.0</td>\n",
       "      <td>1</td>\n",
       "      <td>0.0</td>\n",
       "      <td>1.0</td>\n",
       "      <td>35.0</td>\n",
       "      <td>Active</td>\n",
       "      <td>0</td>\n",
       "      <td>0</td>\n",
       "    </tr>\n",
       "    <tr>\n",
       "      <th>1</th>\n",
       "      <td>2582071</td>\n",
       "      <td>363914</td>\n",
       "      <td>-1</td>\n",
       "      <td>63975.555</td>\n",
       "      <td>45000</td>\n",
       "      <td>2250.0</td>\n",
       "      <td>2250.0</td>\n",
       "      <td>0.0</td>\n",
       "      <td>0.0</td>\n",
       "      <td>2250.000</td>\n",
       "      <td>...</td>\n",
       "      <td>64875.555</td>\n",
       "      <td>64875.555</td>\n",
       "      <td>1.0</td>\n",
       "      <td>1</td>\n",
       "      <td>0.0</td>\n",
       "      <td>0.0</td>\n",
       "      <td>69.0</td>\n",
       "      <td>Active</td>\n",
       "      <td>0</td>\n",
       "      <td>0</td>\n",
       "    </tr>\n",
       "    <tr>\n",
       "      <th>2</th>\n",
       "      <td>1740877</td>\n",
       "      <td>371185</td>\n",
       "      <td>-7</td>\n",
       "      <td>31815.225</td>\n",
       "      <td>450000</td>\n",
       "      <td>0.0</td>\n",
       "      <td>0.0</td>\n",
       "      <td>0.0</td>\n",
       "      <td>0.0</td>\n",
       "      <td>2250.000</td>\n",
       "      <td>...</td>\n",
       "      <td>31460.085</td>\n",
       "      <td>31460.085</td>\n",
       "      <td>0.0</td>\n",
       "      <td>0</td>\n",
       "      <td>0.0</td>\n",
       "      <td>0.0</td>\n",
       "      <td>30.0</td>\n",
       "      <td>Active</td>\n",
       "      <td>0</td>\n",
       "      <td>0</td>\n",
       "    </tr>\n",
       "    <tr>\n",
       "      <th>3</th>\n",
       "      <td>1389973</td>\n",
       "      <td>337855</td>\n",
       "      <td>-4</td>\n",
       "      <td>236572.110</td>\n",
       "      <td>225000</td>\n",
       "      <td>2250.0</td>\n",
       "      <td>2250.0</td>\n",
       "      <td>0.0</td>\n",
       "      <td>0.0</td>\n",
       "      <td>11795.760</td>\n",
       "      <td>...</td>\n",
       "      <td>233048.970</td>\n",
       "      <td>233048.970</td>\n",
       "      <td>1.0</td>\n",
       "      <td>1</td>\n",
       "      <td>0.0</td>\n",
       "      <td>0.0</td>\n",
       "      <td>10.0</td>\n",
       "      <td>Active</td>\n",
       "      <td>0</td>\n",
       "      <td>0</td>\n",
       "    </tr>\n",
       "    <tr>\n",
       "      <th>4</th>\n",
       "      <td>1891521</td>\n",
       "      <td>126868</td>\n",
       "      <td>-1</td>\n",
       "      <td>453919.455</td>\n",
       "      <td>450000</td>\n",
       "      <td>0.0</td>\n",
       "      <td>11547.0</td>\n",
       "      <td>0.0</td>\n",
       "      <td>11547.0</td>\n",
       "      <td>22924.890</td>\n",
       "      <td>...</td>\n",
       "      <td>453919.455</td>\n",
       "      <td>453919.455</td>\n",
       "      <td>0.0</td>\n",
       "      <td>1</td>\n",
       "      <td>0.0</td>\n",
       "      <td>1.0</td>\n",
       "      <td>101.0</td>\n",
       "      <td>Active</td>\n",
       "      <td>0</td>\n",
       "      <td>0</td>\n",
       "    </tr>\n",
       "  </tbody>\n",
       "</table>\n",
       "<p>5 rows × 23 columns</p>\n",
       "</div>"
      ],
      "text/plain": [
       "   SK_ID_PREV  SK_ID_CURR  MONTHS_BALANCE  AMT_BALANCE  \\\n",
       "0     2562384      378907              -6       56.970   \n",
       "1     2582071      363914              -1    63975.555   \n",
       "2     1740877      371185              -7    31815.225   \n",
       "3     1389973      337855              -4   236572.110   \n",
       "4     1891521      126868              -1   453919.455   \n",
       "\n",
       "   AMT_CREDIT_LIMIT_ACTUAL  AMT_DRAWINGS_ATM_CURRENT  AMT_DRAWINGS_CURRENT  \\\n",
       "0                   135000                       0.0                 877.5   \n",
       "1                    45000                    2250.0                2250.0   \n",
       "2                   450000                       0.0                   0.0   \n",
       "3                   225000                    2250.0                2250.0   \n",
       "4                   450000                       0.0               11547.0   \n",
       "\n",
       "   AMT_DRAWINGS_OTHER_CURRENT  AMT_DRAWINGS_POS_CURRENT  \\\n",
       "0                         0.0                     877.5   \n",
       "1                         0.0                       0.0   \n",
       "2                         0.0                       0.0   \n",
       "3                         0.0                       0.0   \n",
       "4                         0.0                   11547.0   \n",
       "\n",
       "   AMT_INST_MIN_REGULARITY  ...  AMT_RECIVABLE  AMT_TOTAL_RECEIVABLE  \\\n",
       "0                 1700.325  ...          0.000                 0.000   \n",
       "1                 2250.000  ...      64875.555             64875.555   \n",
       "2                 2250.000  ...      31460.085             31460.085   \n",
       "3                11795.760  ...     233048.970            233048.970   \n",
       "4                22924.890  ...     453919.455            453919.455   \n",
       "\n",
       "   CNT_DRAWINGS_ATM_CURRENT  CNT_DRAWINGS_CURRENT  CNT_DRAWINGS_OTHER_CURRENT  \\\n",
       "0                       0.0                     1                         0.0   \n",
       "1                       1.0                     1                         0.0   \n",
       "2                       0.0                     0                         0.0   \n",
       "3                       1.0                     1                         0.0   \n",
       "4                       0.0                     1                         0.0   \n",
       "\n",
       "   CNT_DRAWINGS_POS_CURRENT  CNT_INSTALMENT_MATURE_CUM  NAME_CONTRACT_STATUS  \\\n",
       "0                       1.0                       35.0                Active   \n",
       "1                       0.0                       69.0                Active   \n",
       "2                       0.0                       30.0                Active   \n",
       "3                       0.0                       10.0                Active   \n",
       "4                       1.0                      101.0                Active   \n",
       "\n",
       "   SK_DPD  SK_DPD_DEF  \n",
       "0       0           0  \n",
       "1       0           0  \n",
       "2       0           0  \n",
       "3       0           0  \n",
       "4       0           0  \n",
       "\n",
       "[5 rows x 23 columns]"
      ]
     },
     "execution_count": 11,
     "metadata": {},
     "output_type": "execute_result"
    }
   ],
   "source": [
    "credit_card_bal.head()"
   ]
  },
  {
   "cell_type": "code",
   "execution_count": 12,
   "metadata": {
    "colab": {
     "base_uri": "https://localhost:8080/",
     "height": 300
    },
    "id": "62vDWpNYqgj3",
    "outputId": "233b554c-f2b1-49c1-c178-9cc99c9c8971"
   },
   "outputs": [
    {
     "data": {
      "text/html": [
       "<div>\n",
       "<style scoped>\n",
       "    .dataframe tbody tr th:only-of-type {\n",
       "        vertical-align: middle;\n",
       "    }\n",
       "\n",
       "    .dataframe tbody tr th {\n",
       "        vertical-align: top;\n",
       "    }\n",
       "\n",
       "    .dataframe thead th {\n",
       "        text-align: right;\n",
       "    }\n",
       "</style>\n",
       "<table border=\"1\" class=\"dataframe\">\n",
       "  <thead>\n",
       "    <tr style=\"text-align: right;\">\n",
       "      <th></th>\n",
       "      <th>SK_ID_PREV</th>\n",
       "      <th>SK_ID_CURR</th>\n",
       "      <th>MONTHS_BALANCE</th>\n",
       "      <th>AMT_BALANCE</th>\n",
       "      <th>AMT_CREDIT_LIMIT_ACTUAL</th>\n",
       "      <th>AMT_DRAWINGS_ATM_CURRENT</th>\n",
       "      <th>AMT_DRAWINGS_CURRENT</th>\n",
       "      <th>AMT_DRAWINGS_OTHER_CURRENT</th>\n",
       "      <th>AMT_DRAWINGS_POS_CURRENT</th>\n",
       "      <th>AMT_INST_MIN_REGULARITY</th>\n",
       "      <th>...</th>\n",
       "      <th>AMT_RECIVABLE</th>\n",
       "      <th>AMT_TOTAL_RECEIVABLE</th>\n",
       "      <th>CNT_DRAWINGS_ATM_CURRENT</th>\n",
       "      <th>CNT_DRAWINGS_CURRENT</th>\n",
       "      <th>CNT_DRAWINGS_OTHER_CURRENT</th>\n",
       "      <th>CNT_DRAWINGS_POS_CURRENT</th>\n",
       "      <th>CNT_INSTALMENT_MATURE_CUM</th>\n",
       "      <th>NAME_CONTRACT_STATUS</th>\n",
       "      <th>SK_DPD</th>\n",
       "      <th>SK_DPD_DEF</th>\n",
       "    </tr>\n",
       "  </thead>\n",
       "  <tbody>\n",
       "    <tr>\n",
       "      <th>0</th>\n",
       "      <td>2562384</td>\n",
       "      <td>378907</td>\n",
       "      <td>-6</td>\n",
       "      <td>56.970</td>\n",
       "      <td>135000</td>\n",
       "      <td>0.0</td>\n",
       "      <td>877.5</td>\n",
       "      <td>0.0</td>\n",
       "      <td>877.5</td>\n",
       "      <td>1700.325</td>\n",
       "      <td>...</td>\n",
       "      <td>0.000</td>\n",
       "      <td>0.000</td>\n",
       "      <td>0.0</td>\n",
       "      <td>1</td>\n",
       "      <td>0.0</td>\n",
       "      <td>1.0</td>\n",
       "      <td>35.0</td>\n",
       "      <td>Active</td>\n",
       "      <td>0</td>\n",
       "      <td>0</td>\n",
       "    </tr>\n",
       "    <tr>\n",
       "      <th>1</th>\n",
       "      <td>2582071</td>\n",
       "      <td>363914</td>\n",
       "      <td>-1</td>\n",
       "      <td>63975.555</td>\n",
       "      <td>45000</td>\n",
       "      <td>2250.0</td>\n",
       "      <td>2250.0</td>\n",
       "      <td>0.0</td>\n",
       "      <td>0.0</td>\n",
       "      <td>2250.000</td>\n",
       "      <td>...</td>\n",
       "      <td>64875.555</td>\n",
       "      <td>64875.555</td>\n",
       "      <td>1.0</td>\n",
       "      <td>1</td>\n",
       "      <td>0.0</td>\n",
       "      <td>0.0</td>\n",
       "      <td>69.0</td>\n",
       "      <td>Active</td>\n",
       "      <td>0</td>\n",
       "      <td>0</td>\n",
       "    </tr>\n",
       "    <tr>\n",
       "      <th>2</th>\n",
       "      <td>1740877</td>\n",
       "      <td>371185</td>\n",
       "      <td>-7</td>\n",
       "      <td>31815.225</td>\n",
       "      <td>450000</td>\n",
       "      <td>0.0</td>\n",
       "      <td>0.0</td>\n",
       "      <td>0.0</td>\n",
       "      <td>0.0</td>\n",
       "      <td>2250.000</td>\n",
       "      <td>...</td>\n",
       "      <td>31460.085</td>\n",
       "      <td>31460.085</td>\n",
       "      <td>0.0</td>\n",
       "      <td>0</td>\n",
       "      <td>0.0</td>\n",
       "      <td>0.0</td>\n",
       "      <td>30.0</td>\n",
       "      <td>Active</td>\n",
       "      <td>0</td>\n",
       "      <td>0</td>\n",
       "    </tr>\n",
       "    <tr>\n",
       "      <th>3</th>\n",
       "      <td>1389973</td>\n",
       "      <td>337855</td>\n",
       "      <td>-4</td>\n",
       "      <td>236572.110</td>\n",
       "      <td>225000</td>\n",
       "      <td>2250.0</td>\n",
       "      <td>2250.0</td>\n",
       "      <td>0.0</td>\n",
       "      <td>0.0</td>\n",
       "      <td>11795.760</td>\n",
       "      <td>...</td>\n",
       "      <td>233048.970</td>\n",
       "      <td>233048.970</td>\n",
       "      <td>1.0</td>\n",
       "      <td>1</td>\n",
       "      <td>0.0</td>\n",
       "      <td>0.0</td>\n",
       "      <td>10.0</td>\n",
       "      <td>Active</td>\n",
       "      <td>0</td>\n",
       "      <td>0</td>\n",
       "    </tr>\n",
       "    <tr>\n",
       "      <th>4</th>\n",
       "      <td>1891521</td>\n",
       "      <td>126868</td>\n",
       "      <td>-1</td>\n",
       "      <td>453919.455</td>\n",
       "      <td>450000</td>\n",
       "      <td>0.0</td>\n",
       "      <td>11547.0</td>\n",
       "      <td>0.0</td>\n",
       "      <td>11547.0</td>\n",
       "      <td>22924.890</td>\n",
       "      <td>...</td>\n",
       "      <td>453919.455</td>\n",
       "      <td>453919.455</td>\n",
       "      <td>0.0</td>\n",
       "      <td>1</td>\n",
       "      <td>0.0</td>\n",
       "      <td>1.0</td>\n",
       "      <td>101.0</td>\n",
       "      <td>Active</td>\n",
       "      <td>0</td>\n",
       "      <td>0</td>\n",
       "    </tr>\n",
       "  </tbody>\n",
       "</table>\n",
       "<p>5 rows × 23 columns</p>\n",
       "</div>"
      ],
      "text/plain": [
       "   SK_ID_PREV  SK_ID_CURR  MONTHS_BALANCE  AMT_BALANCE  \\\n",
       "0     2562384      378907              -6       56.970   \n",
       "1     2582071      363914              -1    63975.555   \n",
       "2     1740877      371185              -7    31815.225   \n",
       "3     1389973      337855              -4   236572.110   \n",
       "4     1891521      126868              -1   453919.455   \n",
       "\n",
       "   AMT_CREDIT_LIMIT_ACTUAL  AMT_DRAWINGS_ATM_CURRENT  AMT_DRAWINGS_CURRENT  \\\n",
       "0                   135000                       0.0                 877.5   \n",
       "1                    45000                    2250.0                2250.0   \n",
       "2                   450000                       0.0                   0.0   \n",
       "3                   225000                    2250.0                2250.0   \n",
       "4                   450000                       0.0               11547.0   \n",
       "\n",
       "   AMT_DRAWINGS_OTHER_CURRENT  AMT_DRAWINGS_POS_CURRENT  \\\n",
       "0                         0.0                     877.5   \n",
       "1                         0.0                       0.0   \n",
       "2                         0.0                       0.0   \n",
       "3                         0.0                       0.0   \n",
       "4                         0.0                   11547.0   \n",
       "\n",
       "   AMT_INST_MIN_REGULARITY  ...  AMT_RECIVABLE  AMT_TOTAL_RECEIVABLE  \\\n",
       "0                 1700.325  ...          0.000                 0.000   \n",
       "1                 2250.000  ...      64875.555             64875.555   \n",
       "2                 2250.000  ...      31460.085             31460.085   \n",
       "3                11795.760  ...     233048.970            233048.970   \n",
       "4                22924.890  ...     453919.455            453919.455   \n",
       "\n",
       "   CNT_DRAWINGS_ATM_CURRENT  CNT_DRAWINGS_CURRENT  CNT_DRAWINGS_OTHER_CURRENT  \\\n",
       "0                       0.0                     1                         0.0   \n",
       "1                       1.0                     1                         0.0   \n",
       "2                       0.0                     0                         0.0   \n",
       "3                       1.0                     1                         0.0   \n",
       "4                       0.0                     1                         0.0   \n",
       "\n",
       "   CNT_DRAWINGS_POS_CURRENT  CNT_INSTALMENT_MATURE_CUM  NAME_CONTRACT_STATUS  \\\n",
       "0                       1.0                       35.0                Active   \n",
       "1                       0.0                       69.0                Active   \n",
       "2                       0.0                       30.0                Active   \n",
       "3                       0.0                       10.0                Active   \n",
       "4                       1.0                      101.0                Active   \n",
       "\n",
       "   SK_DPD  SK_DPD_DEF  \n",
       "0       0           0  \n",
       "1       0           0  \n",
       "2       0           0  \n",
       "3       0           0  \n",
       "4       0           0  \n",
       "\n",
       "[5 rows x 23 columns]"
      ]
     },
     "execution_count": 12,
     "metadata": {},
     "output_type": "execute_result"
    }
   ],
   "source": [
    "pos_cash_bal.head()"
   ]
  },
  {
   "cell_type": "code",
   "execution_count": 13,
   "metadata": {
    "colab": {
     "base_uri": "https://localhost:8080/",
     "height": 270
    },
    "id": "D0agJUaJqld4",
    "outputId": "bedfa054-b4cc-4e03-bc7b-090c998e5aa6"
   },
   "outputs": [
    {
     "data": {
      "text/html": [
       "<div>\n",
       "<style scoped>\n",
       "    .dataframe tbody tr th:only-of-type {\n",
       "        vertical-align: middle;\n",
       "    }\n",
       "\n",
       "    .dataframe tbody tr th {\n",
       "        vertical-align: top;\n",
       "    }\n",
       "\n",
       "    .dataframe thead th {\n",
       "        text-align: right;\n",
       "    }\n",
       "</style>\n",
       "<table border=\"1\" class=\"dataframe\">\n",
       "  <thead>\n",
       "    <tr style=\"text-align: right;\">\n",
       "      <th></th>\n",
       "      <th>SK_ID_PREV</th>\n",
       "      <th>SK_ID_CURR</th>\n",
       "      <th>NUM_INSTALMENT_VERSION</th>\n",
       "      <th>NUM_INSTALMENT_NUMBER</th>\n",
       "      <th>DAYS_INSTALMENT</th>\n",
       "      <th>DAYS_ENTRY_PAYMENT</th>\n",
       "      <th>AMT_INSTALMENT</th>\n",
       "      <th>AMT_PAYMENT</th>\n",
       "    </tr>\n",
       "  </thead>\n",
       "  <tbody>\n",
       "    <tr>\n",
       "      <th>0</th>\n",
       "      <td>1054186</td>\n",
       "      <td>161674</td>\n",
       "      <td>1.0</td>\n",
       "      <td>6</td>\n",
       "      <td>-1180.0</td>\n",
       "      <td>-1187.0</td>\n",
       "      <td>6948.360</td>\n",
       "      <td>6948.360</td>\n",
       "    </tr>\n",
       "    <tr>\n",
       "      <th>1</th>\n",
       "      <td>1330831</td>\n",
       "      <td>151639</td>\n",
       "      <td>0.0</td>\n",
       "      <td>34</td>\n",
       "      <td>-2156.0</td>\n",
       "      <td>-2156.0</td>\n",
       "      <td>1716.525</td>\n",
       "      <td>1716.525</td>\n",
       "    </tr>\n",
       "    <tr>\n",
       "      <th>2</th>\n",
       "      <td>2085231</td>\n",
       "      <td>193053</td>\n",
       "      <td>2.0</td>\n",
       "      <td>1</td>\n",
       "      <td>-63.0</td>\n",
       "      <td>-63.0</td>\n",
       "      <td>25425.000</td>\n",
       "      <td>25425.000</td>\n",
       "    </tr>\n",
       "    <tr>\n",
       "      <th>3</th>\n",
       "      <td>2452527</td>\n",
       "      <td>199697</td>\n",
       "      <td>1.0</td>\n",
       "      <td>3</td>\n",
       "      <td>-2418.0</td>\n",
       "      <td>-2426.0</td>\n",
       "      <td>24350.130</td>\n",
       "      <td>24350.130</td>\n",
       "    </tr>\n",
       "    <tr>\n",
       "      <th>4</th>\n",
       "      <td>2714724</td>\n",
       "      <td>167756</td>\n",
       "      <td>1.0</td>\n",
       "      <td>2</td>\n",
       "      <td>-1383.0</td>\n",
       "      <td>-1366.0</td>\n",
       "      <td>2165.040</td>\n",
       "      <td>2160.585</td>\n",
       "    </tr>\n",
       "  </tbody>\n",
       "</table>\n",
       "</div>"
      ],
      "text/plain": [
       "   SK_ID_PREV  SK_ID_CURR  NUM_INSTALMENT_VERSION  NUM_INSTALMENT_NUMBER  \\\n",
       "0     1054186      161674                     1.0                      6   \n",
       "1     1330831      151639                     0.0                     34   \n",
       "2     2085231      193053                     2.0                      1   \n",
       "3     2452527      199697                     1.0                      3   \n",
       "4     2714724      167756                     1.0                      2   \n",
       "\n",
       "   DAYS_INSTALMENT  DAYS_ENTRY_PAYMENT  AMT_INSTALMENT  AMT_PAYMENT  \n",
       "0          -1180.0             -1187.0        6948.360     6948.360  \n",
       "1          -2156.0             -2156.0        1716.525     1716.525  \n",
       "2            -63.0               -63.0       25425.000    25425.000  \n",
       "3          -2418.0             -2426.0       24350.130    24350.130  \n",
       "4          -1383.0             -1366.0        2165.040     2160.585  "
      ]
     },
     "execution_count": 13,
     "metadata": {},
     "output_type": "execute_result"
    }
   ],
   "source": [
    "installments_paym.head()"
   ]
  },
  {
   "cell_type": "code",
   "execution_count": 14,
   "metadata": {
    "colab": {
     "base_uri": "https://localhost:8080/"
    },
    "id": "li9iKTo5qOcM",
    "outputId": "26f17153-5c9d-4a78-8589-fe60e83e266c"
   },
   "outputs": [
    {
     "data": {
      "text/plain": [
       "(338857, 4)"
      ]
     },
     "execution_count": 14,
     "metadata": {},
     "output_type": "execute_result"
    }
   ],
   "source": [
    "# extract features from previous_application dataset\n",
    "\n",
    "prev_application['count_prev'] = prev_application.groupby('SK_ID_CURR')['SK_ID_CURR'].transform('count')    # count of previous application\n",
    "prev_application['annuity_avg'] = round(prev_application.groupby('SK_ID_CURR')['AMT_ANNUITY'].transform('mean'),2)  # average amount annuity by current application\n",
    "prev_application['AVG_AMT_APP'] = round(prev_application.groupby('SK_ID_CURR')['AMT_APPLICATION'].transform('mean'),2)\n",
    "\n",
    "# create dataframe of modify feature\n",
    "prev_app = prev_application[['SK_ID_CURR','count_prev','annuity_avg','AVG_AMT_APP']]\n",
    "prev_app = prev_app.drop_duplicates()\n",
    "\n",
    "#verify\n",
    "prev_app.shape"
   ]
  },
  {
   "cell_type": "code",
   "execution_count": 15,
   "metadata": {
    "id": "4WnV1JFABcN9"
   },
   "outputs": [],
   "source": [
    "# merging features from previous application\n",
    "\n",
    "main_df = main_df.merge(right=prev_app.reset_index(), how='left', on='SK_ID_CURR')"
   ]
  },
  {
   "cell_type": "code",
   "execution_count": 16,
   "metadata": {
    "id": "xaHlXndsqqrJ"
   },
   "outputs": [],
   "source": [
    "def table_summary(df):\n",
    "    print(f\"Dataset Shape: {df.shape}\")\n",
    "    summary = pd.DataFrame(df.dtypes,columns=['dtypes'])\n",
    "    summary = summary.reset_index()\n",
    "    summary['Name'] = summary['index']\n",
    "    summary = summary[['Name','dtypes']]\n",
    "    summary['Missing'] = df.isnull().sum().values    \n",
    "    summary['Uniques'] = df.nunique().values\n",
    "    summary['First Value'] = df.loc[0].values\n",
    "    summary['Second Value'] = df.loc[1].values\n",
    "    return summary"
   ]
  },
  {
   "cell_type": "code",
   "execution_count": 17,
   "metadata": {
    "colab": {
     "base_uri": "https://localhost:8080/",
     "height": 1000
    },
    "id": "XkPZLMyorm55",
    "outputId": "10707914-f7c7-4dea-ccdc-88265e2d1b98"
   },
   "outputs": [
    {
     "name": "stdout",
     "output_type": "stream",
     "text": [
      "Dataset Shape: (307511, 126)\n"
     ]
    },
    {
     "data": {
      "text/html": [
       "<div>\n",
       "<style scoped>\n",
       "    .dataframe tbody tr th:only-of-type {\n",
       "        vertical-align: middle;\n",
       "    }\n",
       "\n",
       "    .dataframe tbody tr th {\n",
       "        vertical-align: top;\n",
       "    }\n",
       "\n",
       "    .dataframe thead th {\n",
       "        text-align: right;\n",
       "    }\n",
       "</style>\n",
       "<table border=\"1\" class=\"dataframe\">\n",
       "  <thead>\n",
       "    <tr style=\"text-align: right;\">\n",
       "      <th></th>\n",
       "      <th>Name</th>\n",
       "      <th>dtypes</th>\n",
       "      <th>Missing</th>\n",
       "      <th>Uniques</th>\n",
       "      <th>First Value</th>\n",
       "      <th>Second Value</th>\n",
       "    </tr>\n",
       "  </thead>\n",
       "  <tbody>\n",
       "    <tr>\n",
       "      <th>0</th>\n",
       "      <td>SK_ID_CURR</td>\n",
       "      <td>int64</td>\n",
       "      <td>0</td>\n",
       "      <td>307511</td>\n",
       "      <td>100002</td>\n",
       "      <td>100003</td>\n",
       "    </tr>\n",
       "    <tr>\n",
       "      <th>1</th>\n",
       "      <td>TARGET</td>\n",
       "      <td>int64</td>\n",
       "      <td>0</td>\n",
       "      <td>2</td>\n",
       "      <td>1</td>\n",
       "      <td>0</td>\n",
       "    </tr>\n",
       "    <tr>\n",
       "      <th>2</th>\n",
       "      <td>NAME_CONTRACT_TYPE</td>\n",
       "      <td>object</td>\n",
       "      <td>0</td>\n",
       "      <td>2</td>\n",
       "      <td>Cash loans</td>\n",
       "      <td>Cash loans</td>\n",
       "    </tr>\n",
       "    <tr>\n",
       "      <th>3</th>\n",
       "      <td>CODE_GENDER</td>\n",
       "      <td>object</td>\n",
       "      <td>0</td>\n",
       "      <td>3</td>\n",
       "      <td>M</td>\n",
       "      <td>F</td>\n",
       "    </tr>\n",
       "    <tr>\n",
       "      <th>4</th>\n",
       "      <td>FLAG_OWN_CAR</td>\n",
       "      <td>object</td>\n",
       "      <td>0</td>\n",
       "      <td>2</td>\n",
       "      <td>N</td>\n",
       "      <td>N</td>\n",
       "    </tr>\n",
       "    <tr>\n",
       "      <th>5</th>\n",
       "      <td>FLAG_OWN_REALTY</td>\n",
       "      <td>object</td>\n",
       "      <td>0</td>\n",
       "      <td>2</td>\n",
       "      <td>Y</td>\n",
       "      <td>N</td>\n",
       "    </tr>\n",
       "    <tr>\n",
       "      <th>6</th>\n",
       "      <td>CNT_CHILDREN</td>\n",
       "      <td>int64</td>\n",
       "      <td>0</td>\n",
       "      <td>15</td>\n",
       "      <td>0</td>\n",
       "      <td>0</td>\n",
       "    </tr>\n",
       "    <tr>\n",
       "      <th>7</th>\n",
       "      <td>AMT_INCOME_TOTAL</td>\n",
       "      <td>float64</td>\n",
       "      <td>0</td>\n",
       "      <td>2548</td>\n",
       "      <td>202500.0</td>\n",
       "      <td>270000.0</td>\n",
       "    </tr>\n",
       "    <tr>\n",
       "      <th>8</th>\n",
       "      <td>AMT_CREDIT</td>\n",
       "      <td>float64</td>\n",
       "      <td>0</td>\n",
       "      <td>5603</td>\n",
       "      <td>406597.5</td>\n",
       "      <td>1293502.5</td>\n",
       "    </tr>\n",
       "    <tr>\n",
       "      <th>9</th>\n",
       "      <td>AMT_ANNUITY</td>\n",
       "      <td>float64</td>\n",
       "      <td>12</td>\n",
       "      <td>13672</td>\n",
       "      <td>24700.5</td>\n",
       "      <td>35698.5</td>\n",
       "    </tr>\n",
       "    <tr>\n",
       "      <th>10</th>\n",
       "      <td>AMT_GOODS_PRICE</td>\n",
       "      <td>float64</td>\n",
       "      <td>278</td>\n",
       "      <td>1002</td>\n",
       "      <td>351000.0</td>\n",
       "      <td>1129500.0</td>\n",
       "    </tr>\n",
       "    <tr>\n",
       "      <th>11</th>\n",
       "      <td>NAME_TYPE_SUITE</td>\n",
       "      <td>object</td>\n",
       "      <td>1292</td>\n",
       "      <td>7</td>\n",
       "      <td>Unaccompanied</td>\n",
       "      <td>Family</td>\n",
       "    </tr>\n",
       "    <tr>\n",
       "      <th>12</th>\n",
       "      <td>NAME_INCOME_TYPE</td>\n",
       "      <td>object</td>\n",
       "      <td>0</td>\n",
       "      <td>8</td>\n",
       "      <td>Working</td>\n",
       "      <td>State servant</td>\n",
       "    </tr>\n",
       "    <tr>\n",
       "      <th>13</th>\n",
       "      <td>NAME_EDUCATION_TYPE</td>\n",
       "      <td>object</td>\n",
       "      <td>0</td>\n",
       "      <td>5</td>\n",
       "      <td>Secondary / secondary special</td>\n",
       "      <td>Higher education</td>\n",
       "    </tr>\n",
       "    <tr>\n",
       "      <th>14</th>\n",
       "      <td>NAME_FAMILY_STATUS</td>\n",
       "      <td>object</td>\n",
       "      <td>0</td>\n",
       "      <td>6</td>\n",
       "      <td>Single / not married</td>\n",
       "      <td>Married</td>\n",
       "    </tr>\n",
       "    <tr>\n",
       "      <th>15</th>\n",
       "      <td>NAME_HOUSING_TYPE</td>\n",
       "      <td>object</td>\n",
       "      <td>0</td>\n",
       "      <td>6</td>\n",
       "      <td>House / apartment</td>\n",
       "      <td>House / apartment</td>\n",
       "    </tr>\n",
       "    <tr>\n",
       "      <th>16</th>\n",
       "      <td>REGION_POPULATION_RELATIVE</td>\n",
       "      <td>float64</td>\n",
       "      <td>0</td>\n",
       "      <td>81</td>\n",
       "      <td>0.018801</td>\n",
       "      <td>0.003541</td>\n",
       "    </tr>\n",
       "    <tr>\n",
       "      <th>17</th>\n",
       "      <td>DAYS_BIRTH</td>\n",
       "      <td>int64</td>\n",
       "      <td>0</td>\n",
       "      <td>17460</td>\n",
       "      <td>-9461</td>\n",
       "      <td>-16765</td>\n",
       "    </tr>\n",
       "    <tr>\n",
       "      <th>18</th>\n",
       "      <td>DAYS_EMPLOYED</td>\n",
       "      <td>int64</td>\n",
       "      <td>0</td>\n",
       "      <td>12574</td>\n",
       "      <td>-637</td>\n",
       "      <td>-1188</td>\n",
       "    </tr>\n",
       "    <tr>\n",
       "      <th>19</th>\n",
       "      <td>DAYS_REGISTRATION</td>\n",
       "      <td>float64</td>\n",
       "      <td>0</td>\n",
       "      <td>15688</td>\n",
       "      <td>-3648.0</td>\n",
       "      <td>-1186.0</td>\n",
       "    </tr>\n",
       "    <tr>\n",
       "      <th>20</th>\n",
       "      <td>DAYS_ID_PUBLISH</td>\n",
       "      <td>int64</td>\n",
       "      <td>0</td>\n",
       "      <td>6168</td>\n",
       "      <td>-2120</td>\n",
       "      <td>-291</td>\n",
       "    </tr>\n",
       "    <tr>\n",
       "      <th>21</th>\n",
       "      <td>OWN_CAR_AGE</td>\n",
       "      <td>float64</td>\n",
       "      <td>202929</td>\n",
       "      <td>62</td>\n",
       "      <td>NaN</td>\n",
       "      <td>NaN</td>\n",
       "    </tr>\n",
       "    <tr>\n",
       "      <th>22</th>\n",
       "      <td>FLAG_MOBIL</td>\n",
       "      <td>int64</td>\n",
       "      <td>0</td>\n",
       "      <td>2</td>\n",
       "      <td>1</td>\n",
       "      <td>1</td>\n",
       "    </tr>\n",
       "    <tr>\n",
       "      <th>23</th>\n",
       "      <td>FLAG_EMP_PHONE</td>\n",
       "      <td>int64</td>\n",
       "      <td>0</td>\n",
       "      <td>2</td>\n",
       "      <td>1</td>\n",
       "      <td>1</td>\n",
       "    </tr>\n",
       "    <tr>\n",
       "      <th>24</th>\n",
       "      <td>FLAG_WORK_PHONE</td>\n",
       "      <td>int64</td>\n",
       "      <td>0</td>\n",
       "      <td>2</td>\n",
       "      <td>0</td>\n",
       "      <td>0</td>\n",
       "    </tr>\n",
       "    <tr>\n",
       "      <th>25</th>\n",
       "      <td>FLAG_CONT_MOBILE</td>\n",
       "      <td>int64</td>\n",
       "      <td>0</td>\n",
       "      <td>2</td>\n",
       "      <td>1</td>\n",
       "      <td>1</td>\n",
       "    </tr>\n",
       "    <tr>\n",
       "      <th>26</th>\n",
       "      <td>FLAG_PHONE</td>\n",
       "      <td>int64</td>\n",
       "      <td>0</td>\n",
       "      <td>2</td>\n",
       "      <td>1</td>\n",
       "      <td>1</td>\n",
       "    </tr>\n",
       "    <tr>\n",
       "      <th>27</th>\n",
       "      <td>FLAG_EMAIL</td>\n",
       "      <td>int64</td>\n",
       "      <td>0</td>\n",
       "      <td>2</td>\n",
       "      <td>0</td>\n",
       "      <td>0</td>\n",
       "    </tr>\n",
       "    <tr>\n",
       "      <th>28</th>\n",
       "      <td>OCCUPATION_TYPE</td>\n",
       "      <td>object</td>\n",
       "      <td>96391</td>\n",
       "      <td>18</td>\n",
       "      <td>Laborers</td>\n",
       "      <td>Core staff</td>\n",
       "    </tr>\n",
       "    <tr>\n",
       "      <th>29</th>\n",
       "      <td>CNT_FAM_MEMBERS</td>\n",
       "      <td>float64</td>\n",
       "      <td>2</td>\n",
       "      <td>17</td>\n",
       "      <td>1.0</td>\n",
       "      <td>2.0</td>\n",
       "    </tr>\n",
       "    <tr>\n",
       "      <th>30</th>\n",
       "      <td>REGION_RATING_CLIENT</td>\n",
       "      <td>int64</td>\n",
       "      <td>0</td>\n",
       "      <td>3</td>\n",
       "      <td>2</td>\n",
       "      <td>1</td>\n",
       "    </tr>\n",
       "    <tr>\n",
       "      <th>31</th>\n",
       "      <td>REGION_RATING_CLIENT_W_CITY</td>\n",
       "      <td>int64</td>\n",
       "      <td>0</td>\n",
       "      <td>3</td>\n",
       "      <td>2</td>\n",
       "      <td>1</td>\n",
       "    </tr>\n",
       "    <tr>\n",
       "      <th>32</th>\n",
       "      <td>WEEKDAY_APPR_PROCESS_START</td>\n",
       "      <td>object</td>\n",
       "      <td>0</td>\n",
       "      <td>7</td>\n",
       "      <td>WEDNESDAY</td>\n",
       "      <td>MONDAY</td>\n",
       "    </tr>\n",
       "    <tr>\n",
       "      <th>33</th>\n",
       "      <td>HOUR_APPR_PROCESS_START</td>\n",
       "      <td>int64</td>\n",
       "      <td>0</td>\n",
       "      <td>24</td>\n",
       "      <td>10</td>\n",
       "      <td>11</td>\n",
       "    </tr>\n",
       "    <tr>\n",
       "      <th>34</th>\n",
       "      <td>REG_REGION_NOT_LIVE_REGION</td>\n",
       "      <td>int64</td>\n",
       "      <td>0</td>\n",
       "      <td>2</td>\n",
       "      <td>0</td>\n",
       "      <td>0</td>\n",
       "    </tr>\n",
       "    <tr>\n",
       "      <th>35</th>\n",
       "      <td>REG_REGION_NOT_WORK_REGION</td>\n",
       "      <td>int64</td>\n",
       "      <td>0</td>\n",
       "      <td>2</td>\n",
       "      <td>0</td>\n",
       "      <td>0</td>\n",
       "    </tr>\n",
       "    <tr>\n",
       "      <th>36</th>\n",
       "      <td>LIVE_REGION_NOT_WORK_REGION</td>\n",
       "      <td>int64</td>\n",
       "      <td>0</td>\n",
       "      <td>2</td>\n",
       "      <td>0</td>\n",
       "      <td>0</td>\n",
       "    </tr>\n",
       "    <tr>\n",
       "      <th>37</th>\n",
       "      <td>REG_CITY_NOT_LIVE_CITY</td>\n",
       "      <td>int64</td>\n",
       "      <td>0</td>\n",
       "      <td>2</td>\n",
       "      <td>0</td>\n",
       "      <td>0</td>\n",
       "    </tr>\n",
       "    <tr>\n",
       "      <th>38</th>\n",
       "      <td>REG_CITY_NOT_WORK_CITY</td>\n",
       "      <td>int64</td>\n",
       "      <td>0</td>\n",
       "      <td>2</td>\n",
       "      <td>0</td>\n",
       "      <td>0</td>\n",
       "    </tr>\n",
       "    <tr>\n",
       "      <th>39</th>\n",
       "      <td>LIVE_CITY_NOT_WORK_CITY</td>\n",
       "      <td>int64</td>\n",
       "      <td>0</td>\n",
       "      <td>2</td>\n",
       "      <td>0</td>\n",
       "      <td>0</td>\n",
       "    </tr>\n",
       "    <tr>\n",
       "      <th>40</th>\n",
       "      <td>ORGANIZATION_TYPE</td>\n",
       "      <td>object</td>\n",
       "      <td>0</td>\n",
       "      <td>58</td>\n",
       "      <td>Business Entity Type 3</td>\n",
       "      <td>School</td>\n",
       "    </tr>\n",
       "    <tr>\n",
       "      <th>41</th>\n",
       "      <td>EXT_SOURCE_1</td>\n",
       "      <td>float64</td>\n",
       "      <td>173378</td>\n",
       "      <td>114584</td>\n",
       "      <td>0.083037</td>\n",
       "      <td>0.311267</td>\n",
       "    </tr>\n",
       "    <tr>\n",
       "      <th>42</th>\n",
       "      <td>EXT_SOURCE_2</td>\n",
       "      <td>float64</td>\n",
       "      <td>660</td>\n",
       "      <td>119831</td>\n",
       "      <td>0.262949</td>\n",
       "      <td>0.622246</td>\n",
       "    </tr>\n",
       "    <tr>\n",
       "      <th>43</th>\n",
       "      <td>EXT_SOURCE_3</td>\n",
       "      <td>float64</td>\n",
       "      <td>60965</td>\n",
       "      <td>814</td>\n",
       "      <td>0.139376</td>\n",
       "      <td>NaN</td>\n",
       "    </tr>\n",
       "    <tr>\n",
       "      <th>44</th>\n",
       "      <td>APARTMENTS_AVG</td>\n",
       "      <td>float64</td>\n",
       "      <td>156061</td>\n",
       "      <td>2339</td>\n",
       "      <td>0.0247</td>\n",
       "      <td>0.0959</td>\n",
       "    </tr>\n",
       "    <tr>\n",
       "      <th>45</th>\n",
       "      <td>BASEMENTAREA_AVG</td>\n",
       "      <td>float64</td>\n",
       "      <td>179943</td>\n",
       "      <td>3780</td>\n",
       "      <td>0.0369</td>\n",
       "      <td>0.0529</td>\n",
       "    </tr>\n",
       "    <tr>\n",
       "      <th>46</th>\n",
       "      <td>YEARS_BEGINEXPLUATATION_AVG</td>\n",
       "      <td>float64</td>\n",
       "      <td>150007</td>\n",
       "      <td>285</td>\n",
       "      <td>0.9722</td>\n",
       "      <td>0.9851</td>\n",
       "    </tr>\n",
       "    <tr>\n",
       "      <th>47</th>\n",
       "      <td>YEARS_BUILD_AVG</td>\n",
       "      <td>float64</td>\n",
       "      <td>204488</td>\n",
       "      <td>149</td>\n",
       "      <td>0.6192</td>\n",
       "      <td>0.796</td>\n",
       "    </tr>\n",
       "    <tr>\n",
       "      <th>48</th>\n",
       "      <td>COMMONAREA_AVG</td>\n",
       "      <td>float64</td>\n",
       "      <td>214865</td>\n",
       "      <td>3181</td>\n",
       "      <td>0.0143</td>\n",
       "      <td>0.0605</td>\n",
       "    </tr>\n",
       "    <tr>\n",
       "      <th>49</th>\n",
       "      <td>ELEVATORS_AVG</td>\n",
       "      <td>float64</td>\n",
       "      <td>163891</td>\n",
       "      <td>257</td>\n",
       "      <td>0.0</td>\n",
       "      <td>0.08</td>\n",
       "    </tr>\n",
       "    <tr>\n",
       "      <th>50</th>\n",
       "      <td>ENTRANCES_AVG</td>\n",
       "      <td>float64</td>\n",
       "      <td>154828</td>\n",
       "      <td>285</td>\n",
       "      <td>0.069</td>\n",
       "      <td>0.0345</td>\n",
       "    </tr>\n",
       "    <tr>\n",
       "      <th>51</th>\n",
       "      <td>FLOORSMAX_AVG</td>\n",
       "      <td>float64</td>\n",
       "      <td>153020</td>\n",
       "      <td>403</td>\n",
       "      <td>0.0833</td>\n",
       "      <td>0.2917</td>\n",
       "    </tr>\n",
       "    <tr>\n",
       "      <th>52</th>\n",
       "      <td>FLOORSMIN_AVG</td>\n",
       "      <td>float64</td>\n",
       "      <td>208642</td>\n",
       "      <td>305</td>\n",
       "      <td>0.125</td>\n",
       "      <td>0.3333</td>\n",
       "    </tr>\n",
       "    <tr>\n",
       "      <th>53</th>\n",
       "      <td>LANDAREA_AVG</td>\n",
       "      <td>float64</td>\n",
       "      <td>182590</td>\n",
       "      <td>3527</td>\n",
       "      <td>0.0369</td>\n",
       "      <td>0.013</td>\n",
       "    </tr>\n",
       "    <tr>\n",
       "      <th>54</th>\n",
       "      <td>LIVINGAPARTMENTS_AVG</td>\n",
       "      <td>float64</td>\n",
       "      <td>210199</td>\n",
       "      <td>1868</td>\n",
       "      <td>0.0202</td>\n",
       "      <td>0.0773</td>\n",
       "    </tr>\n",
       "    <tr>\n",
       "      <th>55</th>\n",
       "      <td>LIVINGAREA_AVG</td>\n",
       "      <td>float64</td>\n",
       "      <td>154350</td>\n",
       "      <td>5199</td>\n",
       "      <td>0.019</td>\n",
       "      <td>0.0549</td>\n",
       "    </tr>\n",
       "    <tr>\n",
       "      <th>56</th>\n",
       "      <td>NONLIVINGAPARTMENTS_AVG</td>\n",
       "      <td>float64</td>\n",
       "      <td>213514</td>\n",
       "      <td>386</td>\n",
       "      <td>0.0</td>\n",
       "      <td>0.0039</td>\n",
       "    </tr>\n",
       "    <tr>\n",
       "      <th>57</th>\n",
       "      <td>NONLIVINGAREA_AVG</td>\n",
       "      <td>float64</td>\n",
       "      <td>169682</td>\n",
       "      <td>3290</td>\n",
       "      <td>0.0</td>\n",
       "      <td>0.0098</td>\n",
       "    </tr>\n",
       "    <tr>\n",
       "      <th>58</th>\n",
       "      <td>APARTMENTS_MODE</td>\n",
       "      <td>float64</td>\n",
       "      <td>156061</td>\n",
       "      <td>760</td>\n",
       "      <td>0.0252</td>\n",
       "      <td>0.0924</td>\n",
       "    </tr>\n",
       "    <tr>\n",
       "      <th>59</th>\n",
       "      <td>BASEMENTAREA_MODE</td>\n",
       "      <td>float64</td>\n",
       "      <td>179943</td>\n",
       "      <td>3841</td>\n",
       "      <td>0.0383</td>\n",
       "      <td>0.0538</td>\n",
       "    </tr>\n",
       "    <tr>\n",
       "      <th>60</th>\n",
       "      <td>YEARS_BEGINEXPLUATATION_MODE</td>\n",
       "      <td>float64</td>\n",
       "      <td>150007</td>\n",
       "      <td>221</td>\n",
       "      <td>0.9722</td>\n",
       "      <td>0.9851</td>\n",
       "    </tr>\n",
       "    <tr>\n",
       "      <th>61</th>\n",
       "      <td>YEARS_BUILD_MODE</td>\n",
       "      <td>float64</td>\n",
       "      <td>204488</td>\n",
       "      <td>154</td>\n",
       "      <td>0.6341</td>\n",
       "      <td>0.804</td>\n",
       "    </tr>\n",
       "    <tr>\n",
       "      <th>62</th>\n",
       "      <td>COMMONAREA_MODE</td>\n",
       "      <td>float64</td>\n",
       "      <td>214865</td>\n",
       "      <td>3128</td>\n",
       "      <td>0.0144</td>\n",
       "      <td>0.0497</td>\n",
       "    </tr>\n",
       "    <tr>\n",
       "      <th>63</th>\n",
       "      <td>ELEVATORS_MODE</td>\n",
       "      <td>float64</td>\n",
       "      <td>163891</td>\n",
       "      <td>26</td>\n",
       "      <td>0.0</td>\n",
       "      <td>0.0806</td>\n",
       "    </tr>\n",
       "    <tr>\n",
       "      <th>64</th>\n",
       "      <td>ENTRANCES_MODE</td>\n",
       "      <td>float64</td>\n",
       "      <td>154828</td>\n",
       "      <td>30</td>\n",
       "      <td>0.069</td>\n",
       "      <td>0.0345</td>\n",
       "    </tr>\n",
       "    <tr>\n",
       "      <th>65</th>\n",
       "      <td>FLOORSMAX_MODE</td>\n",
       "      <td>float64</td>\n",
       "      <td>153020</td>\n",
       "      <td>25</td>\n",
       "      <td>0.0833</td>\n",
       "      <td>0.2917</td>\n",
       "    </tr>\n",
       "    <tr>\n",
       "      <th>66</th>\n",
       "      <td>FLOORSMIN_MODE</td>\n",
       "      <td>float64</td>\n",
       "      <td>208642</td>\n",
       "      <td>25</td>\n",
       "      <td>0.125</td>\n",
       "      <td>0.3333</td>\n",
       "    </tr>\n",
       "    <tr>\n",
       "      <th>67</th>\n",
       "      <td>LANDAREA_MODE</td>\n",
       "      <td>float64</td>\n",
       "      <td>182590</td>\n",
       "      <td>3563</td>\n",
       "      <td>0.0377</td>\n",
       "      <td>0.0128</td>\n",
       "    </tr>\n",
       "    <tr>\n",
       "      <th>68</th>\n",
       "      <td>LIVINGAPARTMENTS_MODE</td>\n",
       "      <td>float64</td>\n",
       "      <td>210199</td>\n",
       "      <td>736</td>\n",
       "      <td>0.022</td>\n",
       "      <td>0.079</td>\n",
       "    </tr>\n",
       "    <tr>\n",
       "      <th>69</th>\n",
       "      <td>LIVINGAREA_MODE</td>\n",
       "      <td>float64</td>\n",
       "      <td>154350</td>\n",
       "      <td>5301</td>\n",
       "      <td>0.0198</td>\n",
       "      <td>0.0554</td>\n",
       "    </tr>\n",
       "    <tr>\n",
       "      <th>70</th>\n",
       "      <td>NONLIVINGAPARTMENTS_MODE</td>\n",
       "      <td>float64</td>\n",
       "      <td>213514</td>\n",
       "      <td>167</td>\n",
       "      <td>0.0</td>\n",
       "      <td>0.0</td>\n",
       "    </tr>\n",
       "    <tr>\n",
       "      <th>71</th>\n",
       "      <td>NONLIVINGAREA_MODE</td>\n",
       "      <td>float64</td>\n",
       "      <td>169682</td>\n",
       "      <td>3327</td>\n",
       "      <td>0.0</td>\n",
       "      <td>0.0</td>\n",
       "    </tr>\n",
       "    <tr>\n",
       "      <th>72</th>\n",
       "      <td>APARTMENTS_MEDI</td>\n",
       "      <td>float64</td>\n",
       "      <td>156061</td>\n",
       "      <td>1148</td>\n",
       "      <td>0.025</td>\n",
       "      <td>0.0968</td>\n",
       "    </tr>\n",
       "    <tr>\n",
       "      <th>73</th>\n",
       "      <td>BASEMENTAREA_MEDI</td>\n",
       "      <td>float64</td>\n",
       "      <td>179943</td>\n",
       "      <td>3772</td>\n",
       "      <td>0.0369</td>\n",
       "      <td>0.0529</td>\n",
       "    </tr>\n",
       "    <tr>\n",
       "      <th>74</th>\n",
       "      <td>YEARS_BEGINEXPLUATATION_MEDI</td>\n",
       "      <td>float64</td>\n",
       "      <td>150007</td>\n",
       "      <td>245</td>\n",
       "      <td>0.9722</td>\n",
       "      <td>0.9851</td>\n",
       "    </tr>\n",
       "    <tr>\n",
       "      <th>75</th>\n",
       "      <td>YEARS_BUILD_MEDI</td>\n",
       "      <td>float64</td>\n",
       "      <td>204488</td>\n",
       "      <td>151</td>\n",
       "      <td>0.6243</td>\n",
       "      <td>0.7987</td>\n",
       "    </tr>\n",
       "    <tr>\n",
       "      <th>76</th>\n",
       "      <td>COMMONAREA_MEDI</td>\n",
       "      <td>float64</td>\n",
       "      <td>214865</td>\n",
       "      <td>3202</td>\n",
       "      <td>0.0144</td>\n",
       "      <td>0.0608</td>\n",
       "    </tr>\n",
       "    <tr>\n",
       "      <th>77</th>\n",
       "      <td>ELEVATORS_MEDI</td>\n",
       "      <td>float64</td>\n",
       "      <td>163891</td>\n",
       "      <td>46</td>\n",
       "      <td>0.0</td>\n",
       "      <td>0.08</td>\n",
       "    </tr>\n",
       "    <tr>\n",
       "      <th>78</th>\n",
       "      <td>ENTRANCES_MEDI</td>\n",
       "      <td>float64</td>\n",
       "      <td>154828</td>\n",
       "      <td>46</td>\n",
       "      <td>0.069</td>\n",
       "      <td>0.0345</td>\n",
       "    </tr>\n",
       "    <tr>\n",
       "      <th>79</th>\n",
       "      <td>FLOORSMAX_MEDI</td>\n",
       "      <td>float64</td>\n",
       "      <td>153020</td>\n",
       "      <td>49</td>\n",
       "      <td>0.0833</td>\n",
       "      <td>0.2917</td>\n",
       "    </tr>\n",
       "    <tr>\n",
       "      <th>80</th>\n",
       "      <td>FLOORSMIN_MEDI</td>\n",
       "      <td>float64</td>\n",
       "      <td>208642</td>\n",
       "      <td>47</td>\n",
       "      <td>0.125</td>\n",
       "      <td>0.3333</td>\n",
       "    </tr>\n",
       "    <tr>\n",
       "      <th>81</th>\n",
       "      <td>LANDAREA_MEDI</td>\n",
       "      <td>float64</td>\n",
       "      <td>182590</td>\n",
       "      <td>3560</td>\n",
       "      <td>0.0375</td>\n",
       "      <td>0.0132</td>\n",
       "    </tr>\n",
       "    <tr>\n",
       "      <th>82</th>\n",
       "      <td>LIVINGAPARTMENTS_MEDI</td>\n",
       "      <td>float64</td>\n",
       "      <td>210199</td>\n",
       "      <td>1097</td>\n",
       "      <td>0.0205</td>\n",
       "      <td>0.0787</td>\n",
       "    </tr>\n",
       "    <tr>\n",
       "      <th>83</th>\n",
       "      <td>LIVINGAREA_MEDI</td>\n",
       "      <td>float64</td>\n",
       "      <td>154350</td>\n",
       "      <td>5281</td>\n",
       "      <td>0.0193</td>\n",
       "      <td>0.0558</td>\n",
       "    </tr>\n",
       "    <tr>\n",
       "      <th>84</th>\n",
       "      <td>NONLIVINGAPARTMENTS_MEDI</td>\n",
       "      <td>float64</td>\n",
       "      <td>213514</td>\n",
       "      <td>214</td>\n",
       "      <td>0.0</td>\n",
       "      <td>0.0039</td>\n",
       "    </tr>\n",
       "    <tr>\n",
       "      <th>85</th>\n",
       "      <td>NONLIVINGAREA_MEDI</td>\n",
       "      <td>float64</td>\n",
       "      <td>169682</td>\n",
       "      <td>3323</td>\n",
       "      <td>0.0</td>\n",
       "      <td>0.01</td>\n",
       "    </tr>\n",
       "    <tr>\n",
       "      <th>86</th>\n",
       "      <td>FONDKAPREMONT_MODE</td>\n",
       "      <td>object</td>\n",
       "      <td>210295</td>\n",
       "      <td>4</td>\n",
       "      <td>reg oper account</td>\n",
       "      <td>reg oper account</td>\n",
       "    </tr>\n",
       "    <tr>\n",
       "      <th>87</th>\n",
       "      <td>HOUSETYPE_MODE</td>\n",
       "      <td>object</td>\n",
       "      <td>154297</td>\n",
       "      <td>3</td>\n",
       "      <td>block of flats</td>\n",
       "      <td>block of flats</td>\n",
       "    </tr>\n",
       "    <tr>\n",
       "      <th>88</th>\n",
       "      <td>TOTALAREA_MODE</td>\n",
       "      <td>float64</td>\n",
       "      <td>148431</td>\n",
       "      <td>5116</td>\n",
       "      <td>0.0149</td>\n",
       "      <td>0.0714</td>\n",
       "    </tr>\n",
       "    <tr>\n",
       "      <th>89</th>\n",
       "      <td>WALLSMATERIAL_MODE</td>\n",
       "      <td>object</td>\n",
       "      <td>156341</td>\n",
       "      <td>7</td>\n",
       "      <td>Stone, brick</td>\n",
       "      <td>Block</td>\n",
       "    </tr>\n",
       "    <tr>\n",
       "      <th>90</th>\n",
       "      <td>EMERGENCYSTATE_MODE</td>\n",
       "      <td>object</td>\n",
       "      <td>145755</td>\n",
       "      <td>2</td>\n",
       "      <td>No</td>\n",
       "      <td>No</td>\n",
       "    </tr>\n",
       "    <tr>\n",
       "      <th>91</th>\n",
       "      <td>OBS_30_CNT_SOCIAL_CIRCLE</td>\n",
       "      <td>float64</td>\n",
       "      <td>1021</td>\n",
       "      <td>33</td>\n",
       "      <td>2.0</td>\n",
       "      <td>1.0</td>\n",
       "    </tr>\n",
       "    <tr>\n",
       "      <th>92</th>\n",
       "      <td>DEF_30_CNT_SOCIAL_CIRCLE</td>\n",
       "      <td>float64</td>\n",
       "      <td>1021</td>\n",
       "      <td>10</td>\n",
       "      <td>2.0</td>\n",
       "      <td>0.0</td>\n",
       "    </tr>\n",
       "    <tr>\n",
       "      <th>93</th>\n",
       "      <td>OBS_60_CNT_SOCIAL_CIRCLE</td>\n",
       "      <td>float64</td>\n",
       "      <td>1021</td>\n",
       "      <td>33</td>\n",
       "      <td>2.0</td>\n",
       "      <td>1.0</td>\n",
       "    </tr>\n",
       "    <tr>\n",
       "      <th>94</th>\n",
       "      <td>DEF_60_CNT_SOCIAL_CIRCLE</td>\n",
       "      <td>float64</td>\n",
       "      <td>1021</td>\n",
       "      <td>9</td>\n",
       "      <td>2.0</td>\n",
       "      <td>0.0</td>\n",
       "    </tr>\n",
       "    <tr>\n",
       "      <th>95</th>\n",
       "      <td>DAYS_LAST_PHONE_CHANGE</td>\n",
       "      <td>float64</td>\n",
       "      <td>1</td>\n",
       "      <td>3773</td>\n",
       "      <td>-1134.0</td>\n",
       "      <td>-828.0</td>\n",
       "    </tr>\n",
       "    <tr>\n",
       "      <th>96</th>\n",
       "      <td>FLAG_DOCUMENT_2</td>\n",
       "      <td>int64</td>\n",
       "      <td>0</td>\n",
       "      <td>2</td>\n",
       "      <td>0</td>\n",
       "      <td>0</td>\n",
       "    </tr>\n",
       "    <tr>\n",
       "      <th>97</th>\n",
       "      <td>FLAG_DOCUMENT_3</td>\n",
       "      <td>int64</td>\n",
       "      <td>0</td>\n",
       "      <td>2</td>\n",
       "      <td>1</td>\n",
       "      <td>1</td>\n",
       "    </tr>\n",
       "    <tr>\n",
       "      <th>98</th>\n",
       "      <td>FLAG_DOCUMENT_4</td>\n",
       "      <td>int64</td>\n",
       "      <td>0</td>\n",
       "      <td>2</td>\n",
       "      <td>0</td>\n",
       "      <td>0</td>\n",
       "    </tr>\n",
       "    <tr>\n",
       "      <th>99</th>\n",
       "      <td>FLAG_DOCUMENT_5</td>\n",
       "      <td>int64</td>\n",
       "      <td>0</td>\n",
       "      <td>2</td>\n",
       "      <td>0</td>\n",
       "      <td>0</td>\n",
       "    </tr>\n",
       "    <tr>\n",
       "      <th>100</th>\n",
       "      <td>FLAG_DOCUMENT_6</td>\n",
       "      <td>int64</td>\n",
       "      <td>0</td>\n",
       "      <td>2</td>\n",
       "      <td>0</td>\n",
       "      <td>0</td>\n",
       "    </tr>\n",
       "    <tr>\n",
       "      <th>101</th>\n",
       "      <td>FLAG_DOCUMENT_7</td>\n",
       "      <td>int64</td>\n",
       "      <td>0</td>\n",
       "      <td>2</td>\n",
       "      <td>0</td>\n",
       "      <td>0</td>\n",
       "    </tr>\n",
       "    <tr>\n",
       "      <th>102</th>\n",
       "      <td>FLAG_DOCUMENT_8</td>\n",
       "      <td>int64</td>\n",
       "      <td>0</td>\n",
       "      <td>2</td>\n",
       "      <td>0</td>\n",
       "      <td>0</td>\n",
       "    </tr>\n",
       "    <tr>\n",
       "      <th>103</th>\n",
       "      <td>FLAG_DOCUMENT_9</td>\n",
       "      <td>int64</td>\n",
       "      <td>0</td>\n",
       "      <td>2</td>\n",
       "      <td>0</td>\n",
       "      <td>0</td>\n",
       "    </tr>\n",
       "    <tr>\n",
       "      <th>104</th>\n",
       "      <td>FLAG_DOCUMENT_10</td>\n",
       "      <td>int64</td>\n",
       "      <td>0</td>\n",
       "      <td>2</td>\n",
       "      <td>0</td>\n",
       "      <td>0</td>\n",
       "    </tr>\n",
       "    <tr>\n",
       "      <th>105</th>\n",
       "      <td>FLAG_DOCUMENT_11</td>\n",
       "      <td>int64</td>\n",
       "      <td>0</td>\n",
       "      <td>2</td>\n",
       "      <td>0</td>\n",
       "      <td>0</td>\n",
       "    </tr>\n",
       "    <tr>\n",
       "      <th>106</th>\n",
       "      <td>FLAG_DOCUMENT_12</td>\n",
       "      <td>int64</td>\n",
       "      <td>0</td>\n",
       "      <td>2</td>\n",
       "      <td>0</td>\n",
       "      <td>0</td>\n",
       "    </tr>\n",
       "    <tr>\n",
       "      <th>107</th>\n",
       "      <td>FLAG_DOCUMENT_13</td>\n",
       "      <td>int64</td>\n",
       "      <td>0</td>\n",
       "      <td>2</td>\n",
       "      <td>0</td>\n",
       "      <td>0</td>\n",
       "    </tr>\n",
       "    <tr>\n",
       "      <th>108</th>\n",
       "      <td>FLAG_DOCUMENT_14</td>\n",
       "      <td>int64</td>\n",
       "      <td>0</td>\n",
       "      <td>2</td>\n",
       "      <td>0</td>\n",
       "      <td>0</td>\n",
       "    </tr>\n",
       "    <tr>\n",
       "      <th>109</th>\n",
       "      <td>FLAG_DOCUMENT_15</td>\n",
       "      <td>int64</td>\n",
       "      <td>0</td>\n",
       "      <td>2</td>\n",
       "      <td>0</td>\n",
       "      <td>0</td>\n",
       "    </tr>\n",
       "    <tr>\n",
       "      <th>110</th>\n",
       "      <td>FLAG_DOCUMENT_16</td>\n",
       "      <td>int64</td>\n",
       "      <td>0</td>\n",
       "      <td>2</td>\n",
       "      <td>0</td>\n",
       "      <td>0</td>\n",
       "    </tr>\n",
       "    <tr>\n",
       "      <th>111</th>\n",
       "      <td>FLAG_DOCUMENT_17</td>\n",
       "      <td>int64</td>\n",
       "      <td>0</td>\n",
       "      <td>2</td>\n",
       "      <td>0</td>\n",
       "      <td>0</td>\n",
       "    </tr>\n",
       "    <tr>\n",
       "      <th>112</th>\n",
       "      <td>FLAG_DOCUMENT_18</td>\n",
       "      <td>int64</td>\n",
       "      <td>0</td>\n",
       "      <td>2</td>\n",
       "      <td>0</td>\n",
       "      <td>0</td>\n",
       "    </tr>\n",
       "    <tr>\n",
       "      <th>113</th>\n",
       "      <td>FLAG_DOCUMENT_19</td>\n",
       "      <td>int64</td>\n",
       "      <td>0</td>\n",
       "      <td>2</td>\n",
       "      <td>0</td>\n",
       "      <td>0</td>\n",
       "    </tr>\n",
       "    <tr>\n",
       "      <th>114</th>\n",
       "      <td>FLAG_DOCUMENT_20</td>\n",
       "      <td>int64</td>\n",
       "      <td>0</td>\n",
       "      <td>2</td>\n",
       "      <td>0</td>\n",
       "      <td>0</td>\n",
       "    </tr>\n",
       "    <tr>\n",
       "      <th>115</th>\n",
       "      <td>FLAG_DOCUMENT_21</td>\n",
       "      <td>int64</td>\n",
       "      <td>0</td>\n",
       "      <td>2</td>\n",
       "      <td>0</td>\n",
       "      <td>0</td>\n",
       "    </tr>\n",
       "    <tr>\n",
       "      <th>116</th>\n",
       "      <td>AMT_REQ_CREDIT_BUREAU_HOUR</td>\n",
       "      <td>float64</td>\n",
       "      <td>41519</td>\n",
       "      <td>5</td>\n",
       "      <td>0.0</td>\n",
       "      <td>0.0</td>\n",
       "    </tr>\n",
       "    <tr>\n",
       "      <th>117</th>\n",
       "      <td>AMT_REQ_CREDIT_BUREAU_DAY</td>\n",
       "      <td>float64</td>\n",
       "      <td>41519</td>\n",
       "      <td>9</td>\n",
       "      <td>0.0</td>\n",
       "      <td>0.0</td>\n",
       "    </tr>\n",
       "    <tr>\n",
       "      <th>118</th>\n",
       "      <td>AMT_REQ_CREDIT_BUREAU_WEEK</td>\n",
       "      <td>float64</td>\n",
       "      <td>41519</td>\n",
       "      <td>9</td>\n",
       "      <td>0.0</td>\n",
       "      <td>0.0</td>\n",
       "    </tr>\n",
       "    <tr>\n",
       "      <th>119</th>\n",
       "      <td>AMT_REQ_CREDIT_BUREAU_MON</td>\n",
       "      <td>float64</td>\n",
       "      <td>41519</td>\n",
       "      <td>24</td>\n",
       "      <td>0.0</td>\n",
       "      <td>0.0</td>\n",
       "    </tr>\n",
       "    <tr>\n",
       "      <th>120</th>\n",
       "      <td>AMT_REQ_CREDIT_BUREAU_QRT</td>\n",
       "      <td>float64</td>\n",
       "      <td>41519</td>\n",
       "      <td>11</td>\n",
       "      <td>0.0</td>\n",
       "      <td>0.0</td>\n",
       "    </tr>\n",
       "    <tr>\n",
       "      <th>121</th>\n",
       "      <td>AMT_REQ_CREDIT_BUREAU_YEAR</td>\n",
       "      <td>float64</td>\n",
       "      <td>41519</td>\n",
       "      <td>25</td>\n",
       "      <td>1.0</td>\n",
       "      <td>0.0</td>\n",
       "    </tr>\n",
       "    <tr>\n",
       "      <th>122</th>\n",
       "      <td>index</td>\n",
       "      <td>float64</td>\n",
       "      <td>16454</td>\n",
       "      <td>291057</td>\n",
       "      <td>892077.0</td>\n",
       "      <td>575941.0</td>\n",
       "    </tr>\n",
       "    <tr>\n",
       "      <th>123</th>\n",
       "      <td>count_prev</td>\n",
       "      <td>float64</td>\n",
       "      <td>16454</td>\n",
       "      <td>65</td>\n",
       "      <td>1.0</td>\n",
       "      <td>3.0</td>\n",
       "    </tr>\n",
       "    <tr>\n",
       "      <th>124</th>\n",
       "      <td>annuity_avg</td>\n",
       "      <td>float64</td>\n",
       "      <td>16871</td>\n",
       "      <td>260781</td>\n",
       "      <td>9251.78</td>\n",
       "      <td>56553.99</td>\n",
       "    </tr>\n",
       "    <tr>\n",
       "      <th>125</th>\n",
       "      <td>AVG_AMT_APP</td>\n",
       "      <td>float64</td>\n",
       "      <td>16454</td>\n",
       "      <td>191684</td>\n",
       "      <td>179055.0</td>\n",
       "      <td>435436.5</td>\n",
       "    </tr>\n",
       "  </tbody>\n",
       "</table>\n",
       "</div>"
      ],
      "text/plain": [
       "                             Name   dtypes  Missing  Uniques  \\\n",
       "0                      SK_ID_CURR    int64        0   307511   \n",
       "1                          TARGET    int64        0        2   \n",
       "2              NAME_CONTRACT_TYPE   object        0        2   \n",
       "3                     CODE_GENDER   object        0        3   \n",
       "4                    FLAG_OWN_CAR   object        0        2   \n",
       "5                 FLAG_OWN_REALTY   object        0        2   \n",
       "6                    CNT_CHILDREN    int64        0       15   \n",
       "7                AMT_INCOME_TOTAL  float64        0     2548   \n",
       "8                      AMT_CREDIT  float64        0     5603   \n",
       "9                     AMT_ANNUITY  float64       12    13672   \n",
       "10                AMT_GOODS_PRICE  float64      278     1002   \n",
       "11                NAME_TYPE_SUITE   object     1292        7   \n",
       "12               NAME_INCOME_TYPE   object        0        8   \n",
       "13            NAME_EDUCATION_TYPE   object        0        5   \n",
       "14             NAME_FAMILY_STATUS   object        0        6   \n",
       "15              NAME_HOUSING_TYPE   object        0        6   \n",
       "16     REGION_POPULATION_RELATIVE  float64        0       81   \n",
       "17                     DAYS_BIRTH    int64        0    17460   \n",
       "18                  DAYS_EMPLOYED    int64        0    12574   \n",
       "19              DAYS_REGISTRATION  float64        0    15688   \n",
       "20                DAYS_ID_PUBLISH    int64        0     6168   \n",
       "21                    OWN_CAR_AGE  float64   202929       62   \n",
       "22                     FLAG_MOBIL    int64        0        2   \n",
       "23                 FLAG_EMP_PHONE    int64        0        2   \n",
       "24                FLAG_WORK_PHONE    int64        0        2   \n",
       "25               FLAG_CONT_MOBILE    int64        0        2   \n",
       "26                     FLAG_PHONE    int64        0        2   \n",
       "27                     FLAG_EMAIL    int64        0        2   \n",
       "28                OCCUPATION_TYPE   object    96391       18   \n",
       "29                CNT_FAM_MEMBERS  float64        2       17   \n",
       "30           REGION_RATING_CLIENT    int64        0        3   \n",
       "31    REGION_RATING_CLIENT_W_CITY    int64        0        3   \n",
       "32     WEEKDAY_APPR_PROCESS_START   object        0        7   \n",
       "33        HOUR_APPR_PROCESS_START    int64        0       24   \n",
       "34     REG_REGION_NOT_LIVE_REGION    int64        0        2   \n",
       "35     REG_REGION_NOT_WORK_REGION    int64        0        2   \n",
       "36    LIVE_REGION_NOT_WORK_REGION    int64        0        2   \n",
       "37         REG_CITY_NOT_LIVE_CITY    int64        0        2   \n",
       "38         REG_CITY_NOT_WORK_CITY    int64        0        2   \n",
       "39        LIVE_CITY_NOT_WORK_CITY    int64        0        2   \n",
       "40              ORGANIZATION_TYPE   object        0       58   \n",
       "41                   EXT_SOURCE_1  float64   173378   114584   \n",
       "42                   EXT_SOURCE_2  float64      660   119831   \n",
       "43                   EXT_SOURCE_3  float64    60965      814   \n",
       "44                 APARTMENTS_AVG  float64   156061     2339   \n",
       "45               BASEMENTAREA_AVG  float64   179943     3780   \n",
       "46    YEARS_BEGINEXPLUATATION_AVG  float64   150007      285   \n",
       "47                YEARS_BUILD_AVG  float64   204488      149   \n",
       "48                 COMMONAREA_AVG  float64   214865     3181   \n",
       "49                  ELEVATORS_AVG  float64   163891      257   \n",
       "50                  ENTRANCES_AVG  float64   154828      285   \n",
       "51                  FLOORSMAX_AVG  float64   153020      403   \n",
       "52                  FLOORSMIN_AVG  float64   208642      305   \n",
       "53                   LANDAREA_AVG  float64   182590     3527   \n",
       "54           LIVINGAPARTMENTS_AVG  float64   210199     1868   \n",
       "55                 LIVINGAREA_AVG  float64   154350     5199   \n",
       "56        NONLIVINGAPARTMENTS_AVG  float64   213514      386   \n",
       "57              NONLIVINGAREA_AVG  float64   169682     3290   \n",
       "58                APARTMENTS_MODE  float64   156061      760   \n",
       "59              BASEMENTAREA_MODE  float64   179943     3841   \n",
       "60   YEARS_BEGINEXPLUATATION_MODE  float64   150007      221   \n",
       "61               YEARS_BUILD_MODE  float64   204488      154   \n",
       "62                COMMONAREA_MODE  float64   214865     3128   \n",
       "63                 ELEVATORS_MODE  float64   163891       26   \n",
       "64                 ENTRANCES_MODE  float64   154828       30   \n",
       "65                 FLOORSMAX_MODE  float64   153020       25   \n",
       "66                 FLOORSMIN_MODE  float64   208642       25   \n",
       "67                  LANDAREA_MODE  float64   182590     3563   \n",
       "68          LIVINGAPARTMENTS_MODE  float64   210199      736   \n",
       "69                LIVINGAREA_MODE  float64   154350     5301   \n",
       "70       NONLIVINGAPARTMENTS_MODE  float64   213514      167   \n",
       "71             NONLIVINGAREA_MODE  float64   169682     3327   \n",
       "72                APARTMENTS_MEDI  float64   156061     1148   \n",
       "73              BASEMENTAREA_MEDI  float64   179943     3772   \n",
       "74   YEARS_BEGINEXPLUATATION_MEDI  float64   150007      245   \n",
       "75               YEARS_BUILD_MEDI  float64   204488      151   \n",
       "76                COMMONAREA_MEDI  float64   214865     3202   \n",
       "77                 ELEVATORS_MEDI  float64   163891       46   \n",
       "78                 ENTRANCES_MEDI  float64   154828       46   \n",
       "79                 FLOORSMAX_MEDI  float64   153020       49   \n",
       "80                 FLOORSMIN_MEDI  float64   208642       47   \n",
       "81                  LANDAREA_MEDI  float64   182590     3560   \n",
       "82          LIVINGAPARTMENTS_MEDI  float64   210199     1097   \n",
       "83                LIVINGAREA_MEDI  float64   154350     5281   \n",
       "84       NONLIVINGAPARTMENTS_MEDI  float64   213514      214   \n",
       "85             NONLIVINGAREA_MEDI  float64   169682     3323   \n",
       "86             FONDKAPREMONT_MODE   object   210295        4   \n",
       "87                 HOUSETYPE_MODE   object   154297        3   \n",
       "88                 TOTALAREA_MODE  float64   148431     5116   \n",
       "89             WALLSMATERIAL_MODE   object   156341        7   \n",
       "90            EMERGENCYSTATE_MODE   object   145755        2   \n",
       "91       OBS_30_CNT_SOCIAL_CIRCLE  float64     1021       33   \n",
       "92       DEF_30_CNT_SOCIAL_CIRCLE  float64     1021       10   \n",
       "93       OBS_60_CNT_SOCIAL_CIRCLE  float64     1021       33   \n",
       "94       DEF_60_CNT_SOCIAL_CIRCLE  float64     1021        9   \n",
       "95         DAYS_LAST_PHONE_CHANGE  float64        1     3773   \n",
       "96                FLAG_DOCUMENT_2    int64        0        2   \n",
       "97                FLAG_DOCUMENT_3    int64        0        2   \n",
       "98                FLAG_DOCUMENT_4    int64        0        2   \n",
       "99                FLAG_DOCUMENT_5    int64        0        2   \n",
       "100               FLAG_DOCUMENT_6    int64        0        2   \n",
       "101               FLAG_DOCUMENT_7    int64        0        2   \n",
       "102               FLAG_DOCUMENT_8    int64        0        2   \n",
       "103               FLAG_DOCUMENT_9    int64        0        2   \n",
       "104              FLAG_DOCUMENT_10    int64        0        2   \n",
       "105              FLAG_DOCUMENT_11    int64        0        2   \n",
       "106              FLAG_DOCUMENT_12    int64        0        2   \n",
       "107              FLAG_DOCUMENT_13    int64        0        2   \n",
       "108              FLAG_DOCUMENT_14    int64        0        2   \n",
       "109              FLAG_DOCUMENT_15    int64        0        2   \n",
       "110              FLAG_DOCUMENT_16    int64        0        2   \n",
       "111              FLAG_DOCUMENT_17    int64        0        2   \n",
       "112              FLAG_DOCUMENT_18    int64        0        2   \n",
       "113              FLAG_DOCUMENT_19    int64        0        2   \n",
       "114              FLAG_DOCUMENT_20    int64        0        2   \n",
       "115              FLAG_DOCUMENT_21    int64        0        2   \n",
       "116    AMT_REQ_CREDIT_BUREAU_HOUR  float64    41519        5   \n",
       "117     AMT_REQ_CREDIT_BUREAU_DAY  float64    41519        9   \n",
       "118    AMT_REQ_CREDIT_BUREAU_WEEK  float64    41519        9   \n",
       "119     AMT_REQ_CREDIT_BUREAU_MON  float64    41519       24   \n",
       "120     AMT_REQ_CREDIT_BUREAU_QRT  float64    41519       11   \n",
       "121    AMT_REQ_CREDIT_BUREAU_YEAR  float64    41519       25   \n",
       "122                         index  float64    16454   291057   \n",
       "123                    count_prev  float64    16454       65   \n",
       "124                   annuity_avg  float64    16871   260781   \n",
       "125                   AVG_AMT_APP  float64    16454   191684   \n",
       "\n",
       "                       First Value       Second Value  \n",
       "0                           100002             100003  \n",
       "1                                1                  0  \n",
       "2                       Cash loans         Cash loans  \n",
       "3                                M                  F  \n",
       "4                                N                  N  \n",
       "5                                Y                  N  \n",
       "6                                0                  0  \n",
       "7                         202500.0           270000.0  \n",
       "8                         406597.5          1293502.5  \n",
       "9                          24700.5            35698.5  \n",
       "10                        351000.0          1129500.0  \n",
       "11                   Unaccompanied             Family  \n",
       "12                         Working      State servant  \n",
       "13   Secondary / secondary special   Higher education  \n",
       "14            Single / not married            Married  \n",
       "15               House / apartment  House / apartment  \n",
       "16                        0.018801           0.003541  \n",
       "17                           -9461             -16765  \n",
       "18                            -637              -1188  \n",
       "19                         -3648.0            -1186.0  \n",
       "20                           -2120               -291  \n",
       "21                             NaN                NaN  \n",
       "22                               1                  1  \n",
       "23                               1                  1  \n",
       "24                               0                  0  \n",
       "25                               1                  1  \n",
       "26                               1                  1  \n",
       "27                               0                  0  \n",
       "28                        Laborers         Core staff  \n",
       "29                             1.0                2.0  \n",
       "30                               2                  1  \n",
       "31                               2                  1  \n",
       "32                       WEDNESDAY             MONDAY  \n",
       "33                              10                 11  \n",
       "34                               0                  0  \n",
       "35                               0                  0  \n",
       "36                               0                  0  \n",
       "37                               0                  0  \n",
       "38                               0                  0  \n",
       "39                               0                  0  \n",
       "40          Business Entity Type 3             School  \n",
       "41                        0.083037           0.311267  \n",
       "42                        0.262949           0.622246  \n",
       "43                        0.139376                NaN  \n",
       "44                          0.0247             0.0959  \n",
       "45                          0.0369             0.0529  \n",
       "46                          0.9722             0.9851  \n",
       "47                          0.6192              0.796  \n",
       "48                          0.0143             0.0605  \n",
       "49                             0.0               0.08  \n",
       "50                           0.069             0.0345  \n",
       "51                          0.0833             0.2917  \n",
       "52                           0.125             0.3333  \n",
       "53                          0.0369              0.013  \n",
       "54                          0.0202             0.0773  \n",
       "55                           0.019             0.0549  \n",
       "56                             0.0             0.0039  \n",
       "57                             0.0             0.0098  \n",
       "58                          0.0252             0.0924  \n",
       "59                          0.0383             0.0538  \n",
       "60                          0.9722             0.9851  \n",
       "61                          0.6341              0.804  \n",
       "62                          0.0144             0.0497  \n",
       "63                             0.0             0.0806  \n",
       "64                           0.069             0.0345  \n",
       "65                          0.0833             0.2917  \n",
       "66                           0.125             0.3333  \n",
       "67                          0.0377             0.0128  \n",
       "68                           0.022              0.079  \n",
       "69                          0.0198             0.0554  \n",
       "70                             0.0                0.0  \n",
       "71                             0.0                0.0  \n",
       "72                           0.025             0.0968  \n",
       "73                          0.0369             0.0529  \n",
       "74                          0.9722             0.9851  \n",
       "75                          0.6243             0.7987  \n",
       "76                          0.0144             0.0608  \n",
       "77                             0.0               0.08  \n",
       "78                           0.069             0.0345  \n",
       "79                          0.0833             0.2917  \n",
       "80                           0.125             0.3333  \n",
       "81                          0.0375             0.0132  \n",
       "82                          0.0205             0.0787  \n",
       "83                          0.0193             0.0558  \n",
       "84                             0.0             0.0039  \n",
       "85                             0.0               0.01  \n",
       "86                reg oper account   reg oper account  \n",
       "87                  block of flats     block of flats  \n",
       "88                          0.0149             0.0714  \n",
       "89                    Stone, brick              Block  \n",
       "90                              No                 No  \n",
       "91                             2.0                1.0  \n",
       "92                             2.0                0.0  \n",
       "93                             2.0                1.0  \n",
       "94                             2.0                0.0  \n",
       "95                         -1134.0             -828.0  \n",
       "96                               0                  0  \n",
       "97                               1                  1  \n",
       "98                               0                  0  \n",
       "99                               0                  0  \n",
       "100                              0                  0  \n",
       "101                              0                  0  \n",
       "102                              0                  0  \n",
       "103                              0                  0  \n",
       "104                              0                  0  \n",
       "105                              0                  0  \n",
       "106                              0                  0  \n",
       "107                              0                  0  \n",
       "108                              0                  0  \n",
       "109                              0                  0  \n",
       "110                              0                  0  \n",
       "111                              0                  0  \n",
       "112                              0                  0  \n",
       "113                              0                  0  \n",
       "114                              0                  0  \n",
       "115                              0                  0  \n",
       "116                            0.0                0.0  \n",
       "117                            0.0                0.0  \n",
       "118                            0.0                0.0  \n",
       "119                            0.0                0.0  \n",
       "120                            0.0                0.0  \n",
       "121                            1.0                0.0  \n",
       "122                       892077.0           575941.0  \n",
       "123                            1.0                3.0  \n",
       "124                        9251.78           56553.99  \n",
       "125                       179055.0           435436.5  "
      ]
     },
     "execution_count": 17,
     "metadata": {},
     "output_type": "execute_result"
    }
   ],
   "source": [
    "data_summary = table_summary(main_df)\n",
    "pd.set_option(\"max_rows\", None)\n",
    "data_summary"
   ]
  },
  {
   "cell_type": "markdown",
   "metadata": {},
   "source": [
    "# Data Preparation"
   ]
  },
  {
   "cell_type": "code",
   "execution_count": 18,
   "metadata": {
    "id": "s8nPV97hr33Q"
   },
   "outputs": [],
   "source": [
    "# create function to sort numerical and categorical columns\n",
    "\n",
    "def sort_cat_num(data):\n",
    "\n",
    "  num_col = []\n",
    "  cat_col = []\n",
    "  for columns in data:\n",
    "      if data[columns].dtype == 'float64' or data[columns].dtype == 'int64':\n",
    "          num_col.append(columns)\n",
    "      elif data[columns].dtype == 'object':\n",
    "          cat_col.append(columns)\n",
    "\n",
    "  return num_col, cat_col\n"
   ]
  },
  {
   "cell_type": "code",
   "execution_count": 19,
   "metadata": {
    "id": "L5twMXW6sojm"
   },
   "outputs": [],
   "source": [
    "# sort categorical columns\n",
    "num_cols , cat_cols = sort_cat_num(main_df)\n",
    "num_cols = num_cols[2:]"
   ]
  },
  {
   "cell_type": "code",
   "execution_count": 20,
   "metadata": {
    "id": "cB1QBCeqzjoI"
   },
   "outputs": [],
   "source": [
    "# filling missing values in numerical columns with mean\n",
    "\n",
    "for columns in num_cols:\n",
    "    main_df[columns].fillna(value=main_df[columns].mean(),inplace=True)"
   ]
  },
  {
   "cell_type": "code",
   "execution_count": 21,
   "metadata": {
    "id": "2bAhRlku7Q5S"
   },
   "outputs": [],
   "source": [
    "# replacing nan values in categorical columns with string\n",
    "# to support catboost model\n",
    "\n",
    "main_df[cat_cols] = main_df[cat_cols].fillna('')"
   ]
  },
  {
   "cell_type": "code",
   "execution_count": 22,
   "metadata": {
    "id": "7LpXiuRot2tt"
   },
   "outputs": [],
   "source": [
    "# feature selection based on correlation\n",
    "\n",
    "# we can select highly correlated features\n",
    "# it will note the first feature that is correlated with any other feature\n",
    "\n",
    "def get_corr_col(dataset, threshold):\n",
    "    corr_col = set()  # Set of all the names of correlated columns\n",
    "    corr_matrix = dataset.corr()\n",
    "    for i in range(len(corr_matrix.columns)):\n",
    "        for j in range(i):\n",
    "            if abs(corr_matrix.iloc[i, j]) > threshold: # we are interested in absolute coeff value\n",
    "                colname = corr_matrix.columns[i]  # getting the name of column\n",
    "                corr_col.add(colname)\n",
    "    return corr_col"
   ]
  },
  {
   "cell_type": "code",
   "execution_count": 23,
   "metadata": {
    "colab": {
     "base_uri": "https://localhost:8080/"
    },
    "id": "3G2vEZQ6uW9F",
    "outputId": "39264821-e13a-44bd-f7b3-92e8e8315a9f"
   },
   "outputs": [
    {
     "data": {
      "text/plain": [
       "42"
      ]
     },
     "execution_count": 23,
     "metadata": {},
     "output_type": "execute_result"
    }
   ],
   "source": [
    "# selecting features with correlation above 7\n",
    "corr_features = get_corr_col(main_df[num_cols], 0.7)\n",
    "len(corr_features)"
   ]
  },
  {
   "cell_type": "code",
   "execution_count": 24,
   "metadata": {
    "colab": {
     "base_uri": "https://localhost:8080/"
    },
    "id": "4e2pwjhp0F4x",
    "outputId": "924d593e-a823-4051-874f-22f0cd0113d1"
   },
   "outputs": [
    {
     "data": {
      "text/plain": [
       "{'AMT_ANNUITY',\n",
       " 'AMT_GOODS_PRICE',\n",
       " 'APARTMENTS_MEDI',\n",
       " 'APARTMENTS_MODE',\n",
       " 'AVG_AMT_APP',\n",
       " 'BASEMENTAREA_MEDI',\n",
       " 'BASEMENTAREA_MODE',\n",
       " 'CNT_FAM_MEMBERS',\n",
       " 'COMMONAREA_MEDI',\n",
       " 'COMMONAREA_MODE',\n",
       " 'DEF_60_CNT_SOCIAL_CIRCLE',\n",
       " 'ELEVATORS_AVG',\n",
       " 'ELEVATORS_MEDI',\n",
       " 'ELEVATORS_MODE',\n",
       " 'ENTRANCES_MEDI',\n",
       " 'ENTRANCES_MODE',\n",
       " 'FLAG_EMP_PHONE',\n",
       " 'FLOORSMAX_MEDI',\n",
       " 'FLOORSMAX_MODE',\n",
       " 'FLOORSMIN_MEDI',\n",
       " 'FLOORSMIN_MODE',\n",
       " 'LANDAREA_MEDI',\n",
       " 'LANDAREA_MODE',\n",
       " 'LIVE_CITY_NOT_WORK_CITY',\n",
       " 'LIVE_REGION_NOT_WORK_REGION',\n",
       " 'LIVINGAPARTMENTS_AVG',\n",
       " 'LIVINGAPARTMENTS_MEDI',\n",
       " 'LIVINGAPARTMENTS_MODE',\n",
       " 'LIVINGAREA_AVG',\n",
       " 'LIVINGAREA_MEDI',\n",
       " 'LIVINGAREA_MODE',\n",
       " 'NONLIVINGAPARTMENTS_MEDI',\n",
       " 'NONLIVINGAPARTMENTS_MODE',\n",
       " 'NONLIVINGAREA_MEDI',\n",
       " 'NONLIVINGAREA_MODE',\n",
       " 'OBS_60_CNT_SOCIAL_CIRCLE',\n",
       " 'REGION_RATING_CLIENT_W_CITY',\n",
       " 'TOTALAREA_MODE',\n",
       " 'YEARS_BEGINEXPLUATATION_MEDI',\n",
       " 'YEARS_BEGINEXPLUATATION_MODE',\n",
       " 'YEARS_BUILD_MEDI',\n",
       " 'YEARS_BUILD_MODE'}"
      ]
     },
     "execution_count": 24,
     "metadata": {},
     "output_type": "execute_result"
    }
   ],
   "source": [
    "# check features to remove\n",
    "corr_features"
   ]
  },
  {
   "cell_type": "code",
   "execution_count": 25,
   "metadata": {
    "id": "LTcCqU89vJpY"
   },
   "outputs": [],
   "source": [
    "main_df.drop(corr_features,axis=1, inplace = True)"
   ]
  },
  {
   "cell_type": "code",
   "execution_count": 26,
   "metadata": {
    "colab": {
     "base_uri": "https://localhost:8080/"
    },
    "id": "lJaHrT311SrX",
    "outputId": "3005d043-9a71-4dc4-ab23-a0350235989c"
   },
   "outputs": [
    {
     "data": {
      "text/plain": [
       "(307511, 84)"
      ]
     },
     "execution_count": 26,
     "metadata": {},
     "output_type": "execute_result"
    }
   ],
   "source": [
    "main_df.shape"
   ]
  },
  {
   "cell_type": "markdown",
   "metadata": {
    "id": "goPFco_5v1RS"
   },
   "source": [
    "## Exploration"
   ]
  },
  {
   "cell_type": "code",
   "execution_count": 27,
   "metadata": {
    "colab": {
     "base_uri": "https://localhost:8080/"
    },
    "id": "WR9o4Zc3AFzJ",
    "outputId": "fc21ad51-0920-459a-e26c-450aba4e56e1"
   },
   "outputs": [
    {
     "name": "stdout",
     "output_type": "stream",
     "text": [
      "NAME_CONTRACT_TYPE :\n",
      "Cash loans         0.904787\n",
      "Revolving loans    0.095213\n",
      "Name: NAME_CONTRACT_TYPE, dtype: float64\n",
      "****************************************\n",
      "CODE_GENDER :\n",
      "F      0.658344\n",
      "M      0.341643\n",
      "XNA    0.000013\n",
      "Name: CODE_GENDER, dtype: float64\n",
      "****************************************\n",
      "FLAG_OWN_CAR :\n",
      "N    0.659892\n",
      "Y    0.340108\n",
      "Name: FLAG_OWN_CAR, dtype: float64\n",
      "****************************************\n",
      "FLAG_OWN_REALTY :\n",
      "Y    0.693673\n",
      "N    0.306327\n",
      "Name: FLAG_OWN_REALTY, dtype: float64\n",
      "****************************************\n",
      "NAME_TYPE_SUITE :\n",
      "Unaccompanied      0.808186\n",
      "Family             0.130561\n",
      "Spouse, partner    0.036974\n",
      "Children           0.010624\n",
      "Other_B            0.005756\n",
      "                   0.004201\n",
      "Other_A            0.002816\n",
      "Group of people    0.000881\n",
      "Name: NAME_TYPE_SUITE, dtype: float64\n",
      "****************************************\n",
      "NAME_INCOME_TYPE :\n",
      "Working                 0.516320\n",
      "Commercial associate    0.232892\n",
      "Pensioner               0.180033\n",
      "State servant           0.070576\n",
      "Unemployed              0.000072\n",
      "Student                 0.000059\n",
      "Businessman             0.000033\n",
      "Maternity leave         0.000016\n",
      "Name: NAME_INCOME_TYPE, dtype: float64\n",
      "****************************************\n",
      "NAME_EDUCATION_TYPE :\n",
      "Secondary / secondary special    0.710189\n",
      "Higher education                 0.243448\n",
      "Incomplete higher                0.033420\n",
      "Lower secondary                  0.012409\n",
      "Academic degree                  0.000533\n",
      "Name: NAME_EDUCATION_TYPE, dtype: float64\n",
      "****************************************\n",
      "NAME_FAMILY_STATUS :\n",
      "Married                 0.638780\n",
      "Single / not married    0.147780\n",
      "Civil marriage          0.096826\n",
      "Separated               0.064290\n",
      "Widow                   0.052317\n",
      "Unknown                 0.000007\n",
      "Name: NAME_FAMILY_STATUS, dtype: float64\n",
      "****************************************\n",
      "NAME_HOUSING_TYPE :\n",
      "House / apartment      0.887344\n",
      "With parents           0.048258\n",
      "Municipal apartment    0.036366\n",
      "Rented apartment       0.015873\n",
      "Office apartment       0.008510\n",
      "Co-op apartment        0.003649\n",
      "Name: NAME_HOUSING_TYPE, dtype: float64\n",
      "****************************************\n",
      "OCCUPATION_TYPE :\n",
      "                         0.313455\n",
      "Laborers                 0.179460\n",
      "Sales staff              0.104393\n",
      "Core staff               0.089655\n",
      "Managers                 0.069497\n",
      "Drivers                  0.060495\n",
      "High skill tech staff    0.037007\n",
      "Accountants              0.031911\n",
      "Medicine staff           0.027762\n",
      "Security staff           0.021856\n",
      "Cooking staff            0.019336\n",
      "Cleaning staff           0.015131\n",
      "Private service staff    0.008624\n",
      "Low-skill Laborers       0.006806\n",
      "Waiters/barmen staff     0.004384\n",
      "Secretaries              0.004244\n",
      "Realty agents            0.002442\n",
      "HR staff                 0.001831\n",
      "IT staff                 0.001711\n",
      "Name: OCCUPATION_TYPE, dtype: float64\n",
      "****************************************\n",
      "WEEKDAY_APPR_PROCESS_START :\n",
      "TUESDAY      0.175282\n",
      "WEDNESDAY    0.168885\n",
      "MONDAY       0.164918\n",
      "THURSDAY     0.164518\n",
      "FRIDAY       0.163695\n",
      "SATURDAY     0.110084\n",
      "SUNDAY       0.052619\n",
      "Name: WEEKDAY_APPR_PROCESS_START, dtype: float64\n",
      "****************************************\n",
      "ORGANIZATION_TYPE :\n",
      "Business Entity Type 3    0.221104\n",
      "XNA                       0.180072\n",
      "Self-employed             0.124913\n",
      "Other                     0.054252\n",
      "Medicine                  0.036399\n",
      "Business Entity Type 2    0.034317\n",
      "Government                0.033833\n",
      "School                    0.028919\n",
      "Trade: type 7             0.025466\n",
      "Kindergarten              0.022373\n",
      "Construction              0.021856\n",
      "Business Entity Type 1    0.019459\n",
      "Transport: type 4         0.017554\n",
      "Trade: type 3             0.011356\n",
      "Industry: type 9          0.010952\n",
      "Industry: type 3          0.010660\n",
      "Security                  0.010559\n",
      "Housing                   0.009619\n",
      "Industry: type 11         0.008793\n",
      "Military                  0.008566\n",
      "Bank                      0.008153\n",
      "Agriculture               0.007980\n",
      "Police                    0.007613\n",
      "Transport: type 2         0.007167\n",
      "Postal                    0.007014\n",
      "Security Ministries       0.006419\n",
      "Trade: type 2             0.006179\n",
      "Restaurant                0.005889\n",
      "Services                  0.005122\n",
      "University                0.004315\n",
      "Industry: type 7          0.004250\n",
      "Transport: type 3         0.003860\n",
      "Industry: type 1          0.003379\n",
      "Hotel                     0.003141\n",
      "Electricity               0.003089\n",
      "Industry: type 4          0.002852\n",
      "Trade: type 6             0.002052\n",
      "Industry: type 5          0.001948\n",
      "Insurance                 0.001941\n",
      "Telecom                   0.001876\n",
      "Emergency                 0.001821\n",
      "Industry: type 2          0.001489\n",
      "Advertising               0.001395\n",
      "Realtor                   0.001288\n",
      "Culture                   0.001232\n",
      "Industry: type 12         0.001200\n",
      "Trade: type 1             0.001132\n",
      "Mobile                    0.001031\n",
      "Legal Services            0.000992\n",
      "Cleaning                  0.000845\n",
      "Transport: type 1         0.000654\n",
      "Industry: type 6          0.000364\n",
      "Industry: type 10         0.000354\n",
      "Religion                  0.000276\n",
      "Industry: type 13         0.000218\n",
      "Trade: type 4             0.000208\n",
      "Trade: type 5             0.000159\n",
      "Industry: type 8          0.000078\n",
      "Name: ORGANIZATION_TYPE, dtype: float64\n",
      "****************************************\n",
      "FONDKAPREMONT_MODE :\n",
      "                         0.683862\n",
      "reg oper account         0.240089\n",
      "reg oper spec account    0.039283\n",
      "not specified            0.018494\n",
      "org spec account         0.018273\n",
      "Name: FONDKAPREMONT_MODE, dtype: float64\n",
      "****************************************\n",
      "HOUSETYPE_MODE :\n",
      "                    0.501761\n",
      "block of flats      0.489423\n",
      "specific housing    0.004875\n",
      "terraced house      0.003941\n",
      "Name: HOUSETYPE_MODE, dtype: float64\n",
      "****************************************\n",
      "WALLSMATERIAL_MODE :\n",
      "                0.508408\n",
      "Panel           0.214757\n",
      "Stone, brick    0.210773\n",
      "Block           0.030090\n",
      "Wooden          0.017437\n",
      "Mixed           0.007466\n",
      "Monolithic      0.005785\n",
      "Others          0.005284\n",
      "Name: WALLSMATERIAL_MODE, dtype: float64\n",
      "****************************************\n",
      "EMERGENCYSTATE_MODE :\n",
      "No     0.518446\n",
      "       0.473983\n",
      "Yes    0.007570\n",
      "Name: EMERGENCYSTATE_MODE, dtype: float64\n",
      "****************************************\n"
     ]
    }
   ],
   "source": [
    "# checking value proportion in categorical columns\n",
    "for i in cat_cols:\n",
    "    print(i,':')\n",
    "    print(main_df[i].value_counts(normalize=True))\n",
    "    print('*'*40)"
   ]
  },
  {
   "cell_type": "markdown",
   "metadata": {
    "id": "IbFVWl4xwQ9i"
   },
   "source": [
    "## Splitting"
   ]
  },
  {
   "cell_type": "code",
   "execution_count": 28,
   "metadata": {
    "id": "eh1lanEfv8ad"
   },
   "outputs": [],
   "source": [
    "# separate target from features\n",
    "\n",
    "X = main_df.drop([\"TARGET\",'SK_ID_CURR'],axis=1)\n",
    "y = main_df[\"TARGET\"]\n"
   ]
  },
  {
   "cell_type": "code",
   "execution_count": 29,
   "metadata": {
    "id": "6OtkcLEmxWqY"
   },
   "outputs": [],
   "source": [
    "# train and test split\n",
    "X_train,X_val,y_train,y_val = train_test_split(X,y,test_size=0.3,random_state=1, stratify = y)"
   ]
  },
  {
   "cell_type": "markdown",
   "metadata": {
    "id": "3HTIW6t9snPm"
   },
   "source": [
    "## Handling data imbalance"
   ]
  },
  {
   "cell_type": "code",
   "execution_count": 30,
   "metadata": {
    "id": "lbSqMN5WDmGG"
   },
   "outputs": [],
   "source": [
    "# create oversample instance\n",
    "\n",
    "oversample = RandomOverSampler(sampling_strategy='minority')"
   ]
  },
  {
   "cell_type": "code",
   "execution_count": 31,
   "metadata": {
    "colab": {
     "base_uri": "https://localhost:8080/"
    },
    "id": "EaJTJ5gADvjH",
    "outputId": "af2c6bbb-b86b-4d97-c843-5db0db30c451"
   },
   "outputs": [
    {
     "name": "stdout",
     "output_type": "stream",
     "text": [
      "(215257, 82)\n",
      "(17377,)\n",
      "(197880,)\n"
     ]
    }
   ],
   "source": [
    "# check balance\n",
    "print(X_train.shape)\n",
    "print(y_train[y_train == 1].shape)\n",
    "print(y_train[y_train == 0].shape)"
   ]
  },
  {
   "cell_type": "code",
   "execution_count": 32,
   "metadata": {
    "colab": {
     "base_uri": "https://localhost:8080/"
    },
    "id": "taY6-9dF28q7",
    "outputId": "7d9ee83a-4641-4a29-dfad-a8d86e2ef271"
   },
   "outputs": [
    {
     "name": "stdout",
     "output_type": "stream",
     "text": [
      "(395760, 82)\n",
      "(197880,)\n",
      "(197880,)\n"
     ]
    }
   ],
   "source": [
    "#perform oversample fit\n",
    "X_train, y_train = oversample.fit_resample(X_train, y_train)\n",
    "\n",
    "# check balance\n",
    "print(X_train.shape)\n",
    "print(y_train[y_train == 1].shape)\n",
    "print(y_train[y_train == 0].shape)"
   ]
  },
  {
   "cell_type": "markdown",
   "metadata": {
    "id": "F-XCEZxGwb9C"
   },
   "source": [
    "# Training"
   ]
  },
  {
   "cell_type": "code",
   "execution_count": 37,
   "metadata": {
    "id": "mvOJVTn2xcQv"
   },
   "outputs": [],
   "source": [
    "model_cb = CatBoostClassifier(task_type='GPU', iterations=200, \n",
    "                              random_state = 400,depth=13,eval_metric=\"AUC\")\n",
    "                              "
   ]
  },
  {
   "cell_type": "code",
   "execution_count": 38,
   "metadata": {
    "colab": {
     "base_uri": "https://localhost:8080/",
     "height": 1000,
     "referenced_widgets": [
      "ebcb18f83fcf4270b4751feb1d50ebda"
     ]
    },
    "id": "OOBSaKGmx63A",
    "outputId": "8322ccfa-3049-4354-cb88-9bfde2f8215a",
    "scrolled": false
   },
   "outputs": [
    {
     "data": {
      "application/vnd.jupyter.widget-view+json": {
       "model_id": "c8b8c928650b442091116947f3b4f36f",
       "version_major": 2,
       "version_minor": 0
      },
      "text/plain": [
       "MetricVisualizer(layout=Layout(align_self='stretch', height='500px'))"
      ]
     },
     "metadata": {},
     "output_type": "display_data"
    },
    {
     "name": "stdout",
     "output_type": "stream",
     "text": [
      "Learning rate set to 0.083391\n"
     ]
    },
    {
     "name": "stderr",
     "output_type": "stream",
     "text": [
      "Default metric period is 5 because AUC is/are not implemented for GPU\n"
     ]
    },
    {
     "name": "stdout",
     "output_type": "stream",
     "text": [
      "0:\ttest: 0.7147557\tbest: 0.7147557 (0)\ttotal: 577ms\tremaining: 1m 54s\n",
      "1:\ttotal: 1.18s\tremaining: 1m 56s\n",
      "2:\ttotal: 1.75s\tremaining: 1m 54s\n",
      "3:\ttotal: 2.34s\tremaining: 1m 54s\n",
      "4:\ttotal: 2.94s\tremaining: 1m 54s\n",
      "5:\ttest: 0.7275234\tbest: 0.7275234 (5)\ttotal: 3.52s\tremaining: 1m 53s\n",
      "6:\ttotal: 4.12s\tremaining: 1m 53s\n",
      "7:\ttotal: 4.74s\tremaining: 1m 53s\n",
      "8:\ttotal: 5.31s\tremaining: 1m 52s\n",
      "9:\ttotal: 5.89s\tremaining: 1m 51s\n",
      "10:\ttest: 0.7287928\tbest: 0.7287928 (10)\ttotal: 6.52s\tremaining: 1m 52s\n",
      "11:\ttotal: 7.12s\tremaining: 1m 51s\n",
      "12:\ttotal: 7.71s\tremaining: 1m 50s\n",
      "13:\ttotal: 8.3s\tremaining: 1m 50s\n",
      "14:\ttotal: 8.9s\tremaining: 1m 49s\n",
      "15:\ttest: 0.7319658\tbest: 0.7319658 (15)\ttotal: 9.53s\tremaining: 1m 49s\n",
      "16:\ttotal: 10.2s\tremaining: 1m 49s\n",
      "17:\ttotal: 10.8s\tremaining: 1m 49s\n",
      "18:\ttotal: 11.4s\tremaining: 1m 48s\n",
      "19:\ttotal: 12s\tremaining: 1m 47s\n",
      "20:\ttest: 0.7331851\tbest: 0.7331851 (20)\ttotal: 12.6s\tremaining: 1m 47s\n",
      "21:\ttotal: 13.3s\tremaining: 1m 47s\n",
      "22:\ttotal: 13.9s\tremaining: 1m 47s\n",
      "23:\ttotal: 14.6s\tremaining: 1m 46s\n",
      "24:\ttotal: 15.2s\tremaining: 1m 46s\n",
      "25:\ttest: 0.7339078\tbest: 0.7339078 (25)\ttotal: 15.8s\tremaining: 1m 45s\n",
      "26:\ttotal: 16.5s\tremaining: 1m 45s\n",
      "27:\ttotal: 17.1s\tremaining: 1m 45s\n",
      "28:\ttotal: 17.7s\tremaining: 1m 44s\n",
      "29:\ttotal: 18.3s\tremaining: 1m 43s\n",
      "30:\ttest: 0.7322783\tbest: 0.7339078 (25)\ttotal: 19s\tremaining: 1m 43s\n",
      "31:\ttotal: 19.6s\tremaining: 1m 42s\n",
      "32:\ttotal: 20.2s\tremaining: 1m 42s\n",
      "33:\ttotal: 20.9s\tremaining: 1m 41s\n",
      "34:\ttotal: 21.4s\tremaining: 1m 41s\n",
      "35:\ttest: 0.7203187\tbest: 0.7339078 (25)\ttotal: 22s\tremaining: 1m 40s\n",
      "36:\ttotal: 22.6s\tremaining: 1m 39s\n",
      "37:\ttotal: 23.3s\tremaining: 1m 39s\n",
      "38:\ttotal: 23.9s\tremaining: 1m 38s\n",
      "39:\ttotal: 24.5s\tremaining: 1m 37s\n",
      "40:\ttest: 0.7197533\tbest: 0.7339078 (25)\ttotal: 25.1s\tremaining: 1m 37s\n",
      "41:\ttotal: 25.7s\tremaining: 1m 36s\n",
      "42:\ttotal: 26.3s\tremaining: 1m 36s\n",
      "43:\ttotal: 26.9s\tremaining: 1m 35s\n",
      "44:\ttotal: 27.5s\tremaining: 1m 34s\n",
      "45:\ttest: 0.7180751\tbest: 0.7339078 (25)\ttotal: 28.1s\tremaining: 1m 34s\n",
      "46:\ttotal: 28.8s\tremaining: 1m 33s\n",
      "47:\ttotal: 29.4s\tremaining: 1m 33s\n",
      "48:\ttotal: 30s\tremaining: 1m 32s\n",
      "49:\ttotal: 30.6s\tremaining: 1m 31s\n",
      "50:\ttest: 0.7178119\tbest: 0.7339078 (25)\ttotal: 31.3s\tremaining: 1m 31s\n",
      "51:\ttotal: 31.9s\tremaining: 1m 30s\n",
      "52:\ttotal: 32.5s\tremaining: 1m 30s\n",
      "53:\ttotal: 33.1s\tremaining: 1m 29s\n",
      "54:\ttotal: 33.7s\tremaining: 1m 28s\n",
      "55:\ttest: 0.7169721\tbest: 0.7339078 (25)\ttotal: 34.3s\tremaining: 1m 28s\n",
      "56:\ttotal: 35s\tremaining: 1m 27s\n",
      "57:\ttotal: 35.6s\tremaining: 1m 27s\n",
      "58:\ttotal: 36.2s\tremaining: 1m 26s\n",
      "59:\ttotal: 36.9s\tremaining: 1m 26s\n",
      "60:\ttest: 0.7163900\tbest: 0.7339078 (25)\ttotal: 37.5s\tremaining: 1m 25s\n",
      "61:\ttotal: 38.2s\tremaining: 1m 24s\n",
      "62:\ttotal: 38.9s\tremaining: 1m 24s\n",
      "63:\ttotal: 39.5s\tremaining: 1m 23s\n",
      "64:\ttotal: 40.1s\tremaining: 1m 23s\n",
      "65:\ttest: 0.7155947\tbest: 0.7339078 (25)\ttotal: 40.6s\tremaining: 1m 22s\n",
      "66:\ttotal: 41.3s\tremaining: 1m 21s\n",
      "67:\ttotal: 41.8s\tremaining: 1m 21s\n",
      "68:\ttotal: 42.4s\tremaining: 1m 20s\n",
      "69:\ttotal: 43s\tremaining: 1m 19s\n",
      "70:\ttest: 0.7121986\tbest: 0.7339078 (25)\ttotal: 43.6s\tremaining: 1m 19s\n",
      "71:\ttotal: 44.2s\tremaining: 1m 18s\n",
      "72:\ttotal: 44.8s\tremaining: 1m 17s\n",
      "73:\ttotal: 45.4s\tremaining: 1m 17s\n",
      "74:\ttotal: 46s\tremaining: 1m 16s\n",
      "75:\ttest: 0.7112019\tbest: 0.7339078 (25)\ttotal: 46.7s\tremaining: 1m 16s\n",
      "76:\ttotal: 47.3s\tremaining: 1m 15s\n",
      "77:\ttotal: 47.9s\tremaining: 1m 14s\n",
      "78:\ttotal: 48.5s\tremaining: 1m 14s\n",
      "79:\ttotal: 49.1s\tremaining: 1m 13s\n",
      "80:\ttest: 0.7112074\tbest: 0.7339078 (25)\ttotal: 49.7s\tremaining: 1m 13s\n",
      "81:\ttotal: 50.3s\tremaining: 1m 12s\n",
      "82:\ttotal: 50.9s\tremaining: 1m 11s\n",
      "83:\ttotal: 51.6s\tremaining: 1m 11s\n",
      "84:\ttotal: 52.2s\tremaining: 1m 10s\n",
      "85:\ttest: 0.7083556\tbest: 0.7339078 (25)\ttotal: 52.8s\tremaining: 1m 10s\n",
      "86:\ttotal: 53.4s\tremaining: 1m 9s\n",
      "87:\ttotal: 54s\tremaining: 1m 8s\n",
      "88:\ttotal: 54.6s\tremaining: 1m 8s\n",
      "89:\ttotal: 55.2s\tremaining: 1m 7s\n",
      "90:\ttest: 0.7086543\tbest: 0.7339078 (25)\ttotal: 55.8s\tremaining: 1m 6s\n",
      "91:\ttotal: 56.5s\tremaining: 1m 6s\n",
      "92:\ttotal: 57.1s\tremaining: 1m 5s\n",
      "93:\ttotal: 57.7s\tremaining: 1m 5s\n",
      "94:\ttotal: 58.2s\tremaining: 1m 4s\n",
      "95:\ttest: 0.7057532\tbest: 0.7339078 (25)\ttotal: 58.8s\tremaining: 1m 3s\n",
      "96:\ttotal: 59.5s\tremaining: 1m 3s\n",
      "97:\ttotal: 1m\tremaining: 1m 2s\n",
      "98:\ttotal: 1m\tremaining: 1m 1s\n",
      "99:\ttotal: 1m 1s\tremaining: 1m 1s\n",
      "100:\ttest: 0.7048644\tbest: 0.7339078 (25)\ttotal: 1m 1s\tremaining: 1m\n",
      "101:\ttotal: 1m 2s\tremaining: 1m\n",
      "102:\ttotal: 1m 3s\tremaining: 59.4s\n",
      "103:\ttotal: 1m 3s\tremaining: 58.9s\n",
      "104:\ttotal: 1m 4s\tremaining: 58.2s\n",
      "105:\ttest: 0.7054067\tbest: 0.7339078 (25)\ttotal: 1m 4s\tremaining: 57.6s\n",
      "106:\ttotal: 1m 5s\tremaining: 56.9s\n",
      "107:\ttotal: 1m 6s\tremaining: 56.3s\n",
      "108:\ttotal: 1m 6s\tremaining: 55.7s\n",
      "109:\ttotal: 1m 7s\tremaining: 55.1s\n",
      "110:\ttest: 0.7048627\tbest: 0.7339078 (25)\ttotal: 1m 8s\tremaining: 54.5s\n",
      "111:\ttotal: 1m 8s\tremaining: 53.9s\n",
      "112:\ttotal: 1m 9s\tremaining: 53.3s\n",
      "113:\ttotal: 1m 9s\tremaining: 52.7s\n",
      "114:\ttotal: 1m 10s\tremaining: 52.1s\n",
      "115:\ttest: 0.7054200\tbest: 0.7339078 (25)\ttotal: 1m 11s\tremaining: 51.5s\n",
      "116:\ttotal: 1m 11s\tremaining: 50.9s\n",
      "117:\ttotal: 1m 12s\tremaining: 50.3s\n",
      "118:\ttotal: 1m 13s\tremaining: 49.7s\n",
      "119:\ttotal: 1m 13s\tremaining: 49.1s\n",
      "120:\ttest: 0.7049836\tbest: 0.7339078 (25)\ttotal: 1m 14s\tremaining: 48.5s\n",
      "121:\ttotal: 1m 14s\tremaining: 47.9s\n",
      "122:\ttotal: 1m 15s\tremaining: 47.3s\n",
      "123:\ttotal: 1m 16s\tremaining: 46.7s\n",
      "124:\ttotal: 1m 16s\tremaining: 46.2s\n",
      "125:\ttest: 0.6986237\tbest: 0.7339078 (25)\ttotal: 1m 17s\tremaining: 45.6s\n",
      "126:\ttotal: 1m 18s\tremaining: 45s\n",
      "127:\ttotal: 1m 18s\tremaining: 44.4s\n",
      "128:\ttotal: 1m 19s\tremaining: 43.8s\n",
      "129:\ttotal: 1m 20s\tremaining: 43.2s\n",
      "130:\ttest: 0.6986997\tbest: 0.7339078 (25)\ttotal: 1m 20s\tremaining: 42.6s\n",
      "131:\ttotal: 1m 21s\tremaining: 42s\n",
      "132:\ttotal: 1m 22s\tremaining: 41.4s\n",
      "133:\ttotal: 1m 22s\tremaining: 40.8s\n",
      "134:\ttotal: 1m 23s\tremaining: 40.2s\n",
      "135:\ttest: 0.6989444\tbest: 0.7339078 (25)\ttotal: 1m 24s\tremaining: 39.6s\n",
      "136:\ttotal: 1m 24s\tremaining: 39s\n",
      "137:\ttotal: 1m 25s\tremaining: 38.3s\n",
      "138:\ttotal: 1m 25s\tremaining: 37.7s\n",
      "139:\ttotal: 1m 26s\tremaining: 37.1s\n",
      "140:\ttest: 0.6986677\tbest: 0.7339078 (25)\ttotal: 1m 27s\tremaining: 36.5s\n",
      "141:\ttotal: 1m 27s\tremaining: 35.9s\n",
      "142:\ttotal: 1m 28s\tremaining: 35.3s\n",
      "143:\ttotal: 1m 29s\tremaining: 34.6s\n",
      "144:\ttotal: 1m 29s\tremaining: 34s\n",
      "145:\ttest: 0.6978947\tbest: 0.7339078 (25)\ttotal: 1m 30s\tremaining: 33.4s\n",
      "146:\ttotal: 1m 30s\tremaining: 32.8s\n",
      "147:\ttotal: 1m 31s\tremaining: 32.2s\n",
      "148:\ttotal: 1m 32s\tremaining: 31.6s\n",
      "149:\ttotal: 1m 32s\tremaining: 30.9s\n",
      "150:\ttest: 0.6982004\tbest: 0.7339078 (25)\ttotal: 1m 33s\tremaining: 30.3s\n",
      "151:\ttotal: 1m 34s\tremaining: 29.7s\n",
      "152:\ttotal: 1m 34s\tremaining: 29.1s\n",
      "153:\ttotal: 1m 35s\tremaining: 28.5s\n",
      "154:\ttotal: 1m 35s\tremaining: 27.9s\n",
      "155:\ttest: 0.6971028\tbest: 0.7339078 (25)\ttotal: 1m 36s\tremaining: 27.2s\n",
      "156:\ttotal: 1m 37s\tremaining: 26.6s\n",
      "157:\ttotal: 1m 37s\tremaining: 26s\n",
      "158:\ttotal: 1m 38s\tremaining: 25.4s\n",
      "159:\ttotal: 1m 39s\tremaining: 24.8s\n",
      "160:\ttest: 0.6950064\tbest: 0.7339078 (25)\ttotal: 1m 39s\tremaining: 24.2s\n",
      "161:\ttotal: 1m 40s\tremaining: 23.6s\n",
      "162:\ttotal: 1m 41s\tremaining: 22.9s\n",
      "163:\ttotal: 1m 41s\tremaining: 22.3s\n",
      "164:\ttotal: 1m 42s\tremaining: 21.7s\n",
      "165:\ttest: 0.6944483\tbest: 0.7339078 (25)\ttotal: 1m 42s\tremaining: 21.1s\n",
      "166:\ttotal: 1m 43s\tremaining: 20.5s\n",
      "167:\ttotal: 1m 44s\tremaining: 19.9s\n",
      "168:\ttotal: 1m 44s\tremaining: 19.2s\n",
      "169:\ttotal: 1m 45s\tremaining: 18.6s\n",
      "170:\ttest: 0.6941776\tbest: 0.7339078 (25)\ttotal: 1m 46s\tremaining: 18s\n",
      "171:\ttotal: 1m 46s\tremaining: 17.4s\n",
      "172:\ttotal: 1m 47s\tremaining: 16.8s\n",
      "173:\ttotal: 1m 48s\tremaining: 16.1s\n",
      "174:\ttotal: 1m 48s\tremaining: 15.5s\n",
      "175:\ttest: 0.6934757\tbest: 0.7339078 (25)\ttotal: 1m 49s\tremaining: 14.9s\n",
      "176:\ttotal: 1m 50s\tremaining: 14.3s\n",
      "177:\ttotal: 1m 50s\tremaining: 13.7s\n",
      "178:\ttotal: 1m 51s\tremaining: 13.1s\n",
      "179:\ttotal: 1m 51s\tremaining: 12.4s\n",
      "180:\ttest: 0.6934517\tbest: 0.7339078 (25)\ttotal: 1m 52s\tremaining: 11.8s\n",
      "181:\ttotal: 1m 53s\tremaining: 11.2s\n",
      "182:\ttotal: 1m 53s\tremaining: 10.6s\n",
      "183:\ttotal: 1m 54s\tremaining: 9.96s\n",
      "184:\ttotal: 1m 55s\tremaining: 9.34s\n",
      "185:\ttest: 0.6933073\tbest: 0.7339078 (25)\ttotal: 1m 55s\tremaining: 8.72s\n",
      "186:\ttotal: 1m 56s\tremaining: 8.1s\n",
      "187:\ttotal: 1m 57s\tremaining: 7.47s\n",
      "188:\ttotal: 1m 57s\tremaining: 6.85s\n",
      "189:\ttotal: 1m 58s\tremaining: 6.23s\n",
      "190:\ttest: 0.6933476\tbest: 0.7339078 (25)\ttotal: 1m 59s\tremaining: 5.61s\n",
      "191:\ttotal: 1m 59s\tremaining: 4.99s\n",
      "192:\ttotal: 2m\tremaining: 4.36s\n"
     ]
    },
    {
     "name": "stdout",
     "output_type": "stream",
     "text": [
      "193:\ttotal: 2m 1s\tremaining: 3.74s\n",
      "194:\ttotal: 2m 1s\tremaining: 3.12s\n",
      "195:\ttest: 0.6921374\tbest: 0.7339078 (25)\ttotal: 2m 2s\tremaining: 2.5s\n",
      "196:\ttotal: 2m 3s\tremaining: 1.87s\n",
      "197:\ttotal: 2m 3s\tremaining: 1.25s\n",
      "198:\ttotal: 2m 4s\tremaining: 625ms\n",
      "199:\ttest: 0.6915618\tbest: 0.7339078 (25)\ttotal: 2m 5s\tremaining: 0us\n",
      "bestTest = 0.7339077592\n",
      "bestIteration = 25\n",
      "Shrink model to first 26 iterations.\n"
     ]
    },
    {
     "data": {
      "text/plain": [
       "<catboost.core.CatBoostClassifier at 0x1eb3f901b80>"
      ]
     },
     "execution_count": 38,
     "metadata": {},
     "output_type": "execute_result"
    }
   ],
   "source": [
    "model_cb.fit(X_train, y_train, cat_features= cat_cols, plot=True, eval_set=(X_val, y_val))"
   ]
  },
  {
   "cell_type": "code",
   "execution_count": 39,
   "metadata": {
    "id": "0B-lBMP4y2p5"
   },
   "outputs": [],
   "source": [
    "# Creating metric function \n",
    "def metrics_score(actual, predicted):\n",
    "    print(classification_report(actual, predicted))\n",
    "\n",
    "    cm = confusion_matrix(actual, predicted)\n",
    "    plt.figure(figsize=(8,5))\n",
    "    \n",
    "    sns.heatmap(cm, annot=True,  fmt='.2f', xticklabels=['No_pay', 'pay'], yticklabels=['No pay', 'paid'])\n",
    "    plt.ylabel('Actual')\n",
    "    plt.xlabel('Predicted')\n",
    "    plt.show()"
   ]
  },
  {
   "cell_type": "code",
   "execution_count": 40,
   "metadata": {
    "colab": {
     "base_uri": "https://localhost:8080/",
     "height": 501
    },
    "id": "G3YZBt3LKowv",
    "outputId": "202c6fec-d264-4a33-85ea-4ce497f6472f"
   },
   "outputs": [
    {
     "name": "stdout",
     "output_type": "stream",
     "text": [
      "              precision    recall  f1-score   support\n",
      "\n",
      "           0       0.82      0.79      0.81    197880\n",
      "           1       0.80      0.83      0.82    197880\n",
      "\n",
      "    accuracy                           0.81    395760\n",
      "   macro avg       0.81      0.81      0.81    395760\n",
      "weighted avg       0.81      0.81      0.81    395760\n",
      "\n"
     ]
    },
    {
     "data": {
      "image/png": "[encoded data removed]",
      "text/plain": [
       "<Figure size 576x360 with 2 Axes>"
      ]
     },
     "metadata": {},
     "output_type": "display_data"
    }
   ],
   "source": [
    "pred_train = model_cb.predict(X_train)\n",
    "metrics_score(y_train, pred_train)"
   ]
  },
  {
   "cell_type": "code",
   "execution_count": 41,
   "metadata": {
    "id": "Zv4TgpQqJyMN"
   },
   "outputs": [],
   "source": [
    "pred = model_cb.predict(X_val)\n"
   ]
  },
  {
   "cell_type": "code",
   "execution_count": 42,
   "metadata": {
    "colab": {
     "base_uri": "https://localhost:8080/",
     "height": 501
    },
    "id": "ZZEaIGwWKCKp",
    "outputId": "1eb7b773-d592-4567-c216-2dcc2fcfa7c2"
   },
   "outputs": [
    {
     "name": "stdout",
     "output_type": "stream",
     "text": [
      "              precision    recall  f1-score   support\n",
      "\n",
      "           0       0.95      0.78      0.86     84806\n",
      "           1       0.18      0.56      0.27      7448\n",
      "\n",
      "    accuracy                           0.76     92254\n",
      "   macro avg       0.57      0.67      0.57     92254\n",
      "weighted avg       0.89      0.76      0.81     92254\n",
      "\n"
     ]
    },
    {
     "data": {
      "image/png": "[encoded data removed]",
      "text/plain": [
       "<Figure size 576x360 with 2 Axes>"
      ]
     },
     "metadata": {},
     "output_type": "display_data"
    }
   ],
   "source": [
    "metrics_score(y_val, pred)"
   ]
  },
  {
   "cell_type": "code",
   "execution_count": 43,
   "metadata": {},
   "outputs": [
    {
     "name": "stdout",
     "output_type": "stream",
     "text": [
      "0.7339077701775808\n"
     ]
    }
   ],
   "source": [
    "pred_prob = model_cb.predict_proba(X_val)\n",
    "\n",
    "auc_score = roc_auc_score(y_val, pred_prob[:,1])\n",
    "print(auc_score)"
   ]
  },
  {
   "cell_type": "code",
   "execution_count": 44,
   "metadata": {
    "colab": {
     "base_uri": "https://localhost:8080/",
     "height": 452
    },
    "id": "gzSGrvEKKcEE",
    "outputId": "0b31ec32-3233-4ccb-f601-6a955f09cdaa"
   },
   "outputs": [
    {
     "data": {
      "image/png": "[encoded data removed]",
      "text/plain": [
       "<Figure size 720x504 with 1 Axes>"
      ]
     },
     "metadata": {},
     "output_type": "display_data"
    }
   ],
   "source": [
    "# Predict_proba gives the probability of each observation belonging to each class\n",
    "y_scores_modelCB =model_cb.predict_proba(X_train)\n",
    "\n",
    "precisions_cb, recalls_cb, thresholds_cb = precision_recall_curve(y_train, y_scores_modelCB[:,1])\n",
    "\n",
    "# Plot values of precisions, recalls, and thresholds\n",
    "plt.figure(figsize=(10,7))\n",
    "plt.plot(thresholds_cb, precisions_cb[:-1], 'b--', label='precision')\n",
    "plt.plot(thresholds_cb, recalls_cb[:-1], 'g--', label = 'recall')\n",
    "plt.xlabel('Threshold')\n",
    "plt.legend(loc='upper left')\n",
    "plt.ylim([0,1])\n",
    "plt.show()"
   ]
  },
  {
   "cell_type": "markdown",
   "metadata": {},
   "source": [
    "**Observation:**\n",
    "\n",
    "> We can see that precision and recall are balanced for a threshold of about ~0.5.\n",
    "\n",
    "> AUC Score is 0.73"
   ]
  },
  {
   "cell_type": "code",
   "execution_count": null,
   "metadata": {},
   "outputs": [],
   "source": []
  }
 ],
 "metadata": {
  "accelerator": "GPU",
  "colab": {
   "provenance": [],
   "toc_visible": true
  },
  "gpuClass": "standard",
  "kernelspec": {
   "display_name": "Python 3",
   "language": "python",
   "name": "python3"
  },
  "language_info": {
   "codemirror_mode": {
    "name": "ipython",
    "version": 3
   },
   "file_extension": ".py",
   "mimetype": "text/x-python",
   "name": "python",
   "nbconvert_exporter": "python",
   "pygments_lexer": "ipython3",
   "version": "3.8.8"
  },
  "widgets": {
   "application/vnd.jupyter.widget-state+json": {
    "ebcb18f83fcf4270b4751feb1d50ebda": {
     "model_module": "catboost-widget",
     "model_module_version": "^1.0.0",
     "model_name": "CatboostWidgetModel",
     "state": {
      "_dom_classes": [],
      "_model_module": "catboost-widget",
      "_model_module_version": "^1.0.0",
      "_model_name": "CatboostWidgetModel",
      "_view_count": null,
      "_view_module": "catboost-widget",
      "_view_module_version": "^1.0.0",
      "_view_name": "CatboostWidgetView",
      "data": {
       "catboost_info": {
        "content": {
         "data": {
          "iterations": [
           {
            "iteration": 0,
            "learn": [
             0.6733015274
            ],
            "passed_time": 1.126576556,
            "remaining_time": 336.8463901,
            "test": [
             0.673418971
            ]
           },
           {
            "iteration": 1,
            "learn": [
             0.6561827639
            ],
            "passed_time": 2.170719135,
            "remaining_time": 323.4371511,
            "test": [
             0.6570389224
            ]
           },
           {
            "iteration": 2,
            "learn": [
             0.6404041038
            ],
            "passed_time": 3.239761176,
            "remaining_time": 320.7363564,
            "test": [
             0.642162535
            ]
           },
           {
            "iteration": 3,
            "learn": [
             0.6267250038
            ],
            "passed_time": 4.300489727,
            "remaining_time": 318.2362398,
            "test": [
             0.6299517247
            ]
           },
           {
            "iteration": 4,
            "learn": [
             0.6138656083
            ],
            "passed_time": 5.345405889,
            "remaining_time": 315.3789475,
            "test": [
             0.6184517999
            ]
           },
           {
            "iteration": 5,
            "learn": [
             0.6026457402
            ],
            "passed_time": 6.37691343,
            "remaining_time": 312.4687581,
            "test": [
             0.6081897533
            ]
           },
           {
            "iteration": 6,
            "learn": [
             0.5897177661
            ],
            "passed_time": 7.454994207,
            "remaining_time": 312.0447575,
            "test": [
             0.5967723537
            ]
           },
           {
            "iteration": 7,
            "learn": [
             0.5793941167
            ],
            "passed_time": 8.508950637,
            "remaining_time": 310.5766983,
            "test": [
             0.5885322384
            ]
           },
           {
            "iteration": 8,
            "learn": [
             0.5719187449
            ],
            "passed_time": 9.562649397,
            "remaining_time": 309.1923305,
            "test": [
             0.582636449
            ]
           },
           {
            "iteration": 9,
            "learn": [
             0.5608169645
            ],
            "passed_time": 10.61952979,
            "remaining_time": 307.966364,
            "test": [
             0.5727301628
            ]
           },
           {
            "iteration": 10,
            "learn": [
             0.5518737682
            ],
            "passed_time": 11.69455658,
            "remaining_time": 307.2478957,
            "test": [
             0.5657377915
            ]
           },
           {
            "iteration": 11,
            "learn": [
             0.5410836902
            ],
            "passed_time": 12.80547033,
            "remaining_time": 307.3312879,
            "test": [
             0.5571658394
            ]
           },
           {
            "iteration": 12,
            "learn": [
             0.5352153531
            ],
            "passed_time": 13.84441356,
            "remaining_time": 305.6420531,
            "test": [
             0.5530752308
            ]
           },
           {
            "iteration": 13,
            "learn": [
             0.5277008162
            ],
            "passed_time": 14.92670454,
            "remaining_time": 304.9312499,
            "test": [
             0.5472963486
            ]
           },
           {
            "iteration": 14,
            "learn": [
             0.5205102208
            ],
            "passed_time": 15.99684222,
            "remaining_time": 303.9400022,
            "test": [
             0.5419035438
            ]
           },
           {
            "iteration": 15,
            "learn": [
             0.5136956031
            ],
            "passed_time": 17.37236,
            "remaining_time": 308.3593901,
            "test": [
             0.5372516453
            ]
           },
           {
            "iteration": 16,
            "learn": [
             0.507122767
            ],
            "passed_time": 18.74811738,
            "remaining_time": 312.1010128,
            "test": [
             0.5325382656
            ]
           },
           {
            "iteration": 17,
            "learn": [
             0.5014061552
            ],
            "passed_time": 19.79665348,
            "remaining_time": 310.1475712,
            "test": [
             0.5291886056
            ]
           },
           {
            "iteration": 18,
            "learn": [
             0.4941288597
            ],
            "passed_time": 20.86118365,
            "remaining_time": 308.5259266,
            "test": [
             0.5243967657
            ]
           },
           {
            "iteration": 19,
            "learn": [
             0.4905692923
            ],
            "passed_time": 21.90497935,
            "remaining_time": 306.6697109,
            "test": [
             0.5221314506
            ]
           },
           {
            "iteration": 20,
            "learn": [
             0.4838223845
            ],
            "passed_time": 22.98147062,
            "remaining_time": 305.3252525,
            "test": [
             0.5172187232
            ]
           },
           {
            "iteration": 21,
            "learn": [
             0.4625692102
            ],
            "passed_time": 24.00108953,
            "remaining_time": 303.2864949,
            "test": [
             0.4996542748
            ]
           },
           {
            "iteration": 22,
            "learn": [
             0.4589467101
            ],
            "passed_time": 25.08157083,
            "remaining_time": 302.069353,
            "test": [
             0.4976068111
            ]
           },
           {
            "iteration": 23,
            "learn": [
             0.4543121541
            ],
            "passed_time": 26.17880769,
            "remaining_time": 301.0562884,
            "test": [
             0.4951158961
            ]
           },
           {
            "iteration": 24,
            "learn": [
             0.4517474685
            ],
            "passed_time": 27.20965178,
            "remaining_time": 299.3061695,
            "test": [
             0.4939171845
            ]
           },
           {
            "iteration": 25,
            "learn": [
             0.4456472594
            ],
            "passed_time": 28.30515154,
            "remaining_time": 298.2927509,
            "test": [
             0.4896192679
            ]
           },
           {
            "iteration": 26,
            "learn": [
             0.4291174339
            ],
            "passed_time": 29.34518601,
            "remaining_time": 296.7124363,
            "test": [
             0.476842891
            ]
           },
           {
            "iteration": 27,
            "learn": [
             0.4109034674
            ],
            "passed_time": 30.40151619,
            "remaining_time": 295.3290145,
            "test": [
             0.4626369944
            ]
           },
           {
            "iteration": 28,
            "learn": [
             0.4048915378
            ],
            "passed_time": 31.52454142,
            "remaining_time": 294.5914043,
            "test": [
             0.4590450939
            ]
           },
           {
            "iteration": 29,
            "learn": [
             0.401279974
            ],
            "passed_time": 32.59312269,
            "remaining_time": 293.3381042,
            "test": [
             0.4570221887
            ]
           },
           {
            "iteration": 30,
            "learn": [
             0.3868043053
            ],
            "passed_time": 33.61890657,
            "remaining_time": 291.7253506,
            "test": [
             0.4454009955
            ]
           },
           {
            "iteration": 31,
            "learn": [
             0.3851077279
            ],
            "passed_time": 34.63910269,
            "remaining_time": 290.102485,
            "test": [
             0.4447661992
            ]
           },
           {
            "iteration": 32,
            "learn": [
             0.3821094224
            ],
            "passed_time": 35.71722386,
            "remaining_time": 288.9848113,
            "test": [
             0.4433850345
            ]
           },
           {
            "iteration": 33,
            "learn": [
             0.3795952724
            ],
            "passed_time": 36.77462794,
            "remaining_time": 287.7073833,
            "test": [
             0.4422944652
            ]
           },
           {
            "iteration": 34,
            "learn": [
             0.3772913192
            ],
            "passed_time": 37.85451747,
            "remaining_time": 286.6127752,
            "test": [
             0.4409456501
            ]
           },
           {
            "iteration": 35,
            "learn": [
             0.3750266102
            ],
            "passed_time": 38.91606366,
            "remaining_time": 285.3844669,
            "test": [
             0.4397237772
            ]
           },
           {
            "iteration": 36,
            "learn": [
             0.3728653808
            ],
            "passed_time": 39.99699566,
            "remaining_time": 284.3029691,
            "test": [
             0.4385520801
            ]
           },
           {
            "iteration": 37,
            "learn": [
             0.3698791566
            ],
            "passed_time": 41.05682194,
            "remaining_time": 283.0759829,
            "test": [
             0.4369824496
            ]
           },
           {
            "iteration": 38,
            "learn": [
             0.3682265214
            ],
            "passed_time": 42.11731731,
            "remaining_time": 281.8620466,
            "test": [
             0.4362468785
            ]
           },
           {
            "iteration": 39,
            "learn": [
             0.3659828953
            ],
            "passed_time": 43.15432245,
            "remaining_time": 280.5030959,
            "test": [
             0.4351471633
            ]
           },
           {
            "iteration": 40,
            "learn": [
             0.3646472531
            ],
            "passed_time": 44.1578648,
            "remaining_time": 278.948463,
            "test": [
             0.4344535112
            ]
           },
           {
            "iteration": 41,
            "learn": [
             0.3618749763
            ],
            "passed_time": 45.23761114,
            "remaining_time": 277.8881827,
            "test": [
             0.433062523
            ]
           },
           {
            "iteration": 42,
            "learn": [
             0.3582216416
            ],
            "passed_time": 46.34661656,
            "remaining_time": 277.0018711,
            "test": [
             0.4308665224
            ]
           },
           {
            "iteration": 43,
            "learn": [
             0.3547554468
            ],
            "passed_time": 47.45519712,
            "remaining_time": 276.1029651,
            "test": [
             0.4285517091
            ]
           },
           {
            "iteration": 44,
            "learn": [
             0.3523131522
            ],
            "passed_time": 48.53724631,
            "remaining_time": 275.0443957,
            "test": [
             0.4272170363
            ]
           },
           {
            "iteration": 45,
            "learn": [
             0.3485898967
            ],
            "passed_time": 49.62499519,
            "remaining_time": 274.0162778,
            "test": [
             0.4246330528
            ]
           },
           {
            "iteration": 46,
            "learn": [
             0.3471247173
            ],
            "passed_time": 50.65484926,
            "remaining_time": 272.6739758,
            "test": [
             0.4239695907
            ]
           },
           {
            "iteration": 47,
            "learn": [
             0.3446182266
            ],
            "passed_time": 51.74520305,
            "remaining_time": 271.662316,
            "test": [
             0.4224887098
            ]
           },
           {
            "iteration": 48,
            "learn": [
             0.3399390966
            ],
            "passed_time": 52.76743426,
            "remaining_time": 270.2984898,
            "test": [
             0.4190793895
            ]
           },
           {
            "iteration": 49,
            "learn": [
             0.3355019061
            ],
            "passed_time": 53.83917302,
            "remaining_time": 269.1958651,
            "test": [
             0.4163272223
            ]
           },
           {
            "iteration": 50,
            "learn": [
             0.3343154627
            ],
            "passed_time": 54.88379444,
            "remaining_time": 267.9620552,
            "test": [
             0.4157727494
            ]
           },
           {
            "iteration": 51,
            "learn": [
             0.3332861535
            ],
            "passed_time": 55.8924897,
            "remaining_time": 266.5641816,
            "test": [
             0.4152889881
            ]
           },
           {
            "iteration": 52,
            "learn": [
             0.3290030969
            ],
            "passed_time": 56.92733215,
            "remaining_time": 265.3028498,
            "test": [
             0.4123956092
            ]
           },
           {
            "iteration": 53,
            "learn": [
             0.3276322771
            ],
            "passed_time": 57.92472613,
            "remaining_time": 263.8793079,
            "test": [
             0.4115831021
            ]
           },
           {
            "iteration": 54,
            "learn": [
             0.3261148052
            ],
            "passed_time": 58.99393973,
            "remaining_time": 262.7911861,
            "test": [
             0.4108847076
            ]
           },
           {
            "iteration": 55,
            "learn": [
             0.3231506508
            ],
            "passed_time": 60.05992055,
            "remaining_time": 261.6896538,
            "test": [
             0.4092664258
            ]
           },
           {
            "iteration": 56,
            "learn": [
             0.3219058939
            ],
            "passed_time": 61.12426775,
            "remaining_time": 260.5824046,
            "test": [
             0.4084002286
            ]
           },
           {
            "iteration": 57,
            "learn": [
             0.3194657708
            ],
            "passed_time": 62.22862574,
            "remaining_time": 259.6435764,
            "test": [
             0.4072939927
            ]
           },
           {
            "iteration": 58,
            "learn": [
             0.3178934597
            ],
            "passed_time": 63.25375513,
            "remaining_time": 258.3755082,
            "test": [
             0.4063965045
            ]
           },
           {
            "iteration": 59,
            "learn": [
             0.316060811
            ],
            "passed_time": 64.30471036,
            "remaining_time": 257.2188414,
            "test": [
             0.4051112028
            ]
           },
           {
            "iteration": 60,
            "learn": [
             0.3143709848
            ],
            "passed_time": 65.36035268,
            "remaining_time": 256.0840048,
            "test": [
             0.4041893255
            ]
           },
           {
            "iteration": 61,
            "learn": [
             0.3135791934
            ],
            "passed_time": 66.40305954,
            "remaining_time": 254.9020673,
            "test": [
             0.4036005976
            ]
           },
           {
            "iteration": 62,
            "learn": [
             0.3115443427
            ],
            "passed_time": 67.52941463,
            "remaining_time": 254.0392265,
            "test": [
             0.4026340067
            ]
           },
           {
            "iteration": 63,
            "learn": [
             0.3097290459
            ],
            "passed_time": 68.56948085,
            "remaining_time": 252.8499606,
            "test": [
             0.4015318357
            ]
           },
           {
            "iteration": 64,
            "learn": [
             0.309033825
            ],
            "passed_time": 69.60594188,
            "remaining_time": 251.6522514,
            "test": [
             0.4012237105
            ]
           },
           {
            "iteration": 65,
            "learn": [
             0.3079347332
            ],
            "passed_time": 70.63251302,
            "remaining_time": 250.4243644,
            "test": [
             0.4005447935
            ]
           },
           {
            "iteration": 66,
            "learn": [
             0.3065153123
            ],
            "passed_time": 71.67700585,
            "remaining_time": 249.2648114,
            "test": [
             0.3998653683
            ]
           },
           {
            "iteration": 67,
            "learn": [
             0.3054992886
            ],
            "passed_time": 72.70713273,
            "remaining_time": 248.0596293,
            "test": [
             0.399164899
            ]
           },
           {
            "iteration": 68,
            "learn": [
             0.303038734
            ],
            "passed_time": 73.77829848,
            "remaining_time": 246.9969123,
            "test": [
             0.397716664
            ]
           },
           {
            "iteration": 69,
            "learn": [
             0.3015442006
            ],
            "passed_time": 74.82945764,
            "remaining_time": 245.8682179,
            "test": [
             0.396835393
            ]
           },
           {
            "iteration": 70,
            "learn": [
             0.2989929977
            ],
            "passed_time": 75.90732848,
            "remaining_time": 244.8278623,
            "test": [
             0.3951698571
            ]
           },
           {
            "iteration": 71,
            "learn": [
             0.2976862556
            ],
            "passed_time": 76.95208502,
            "remaining_time": 243.6816026,
            "test": [
             0.3944280617
            ]
           },
           {
            "iteration": 72,
            "learn": [
             0.2953625816
            ],
            "passed_time": 78.05273911,
            "remaining_time": 242.7119422,
            "test": [
             0.3931873466
            ]
           },
           {
            "iteration": 73,
            "learn": [
             0.2947293262
            ],
            "passed_time": 79.04986117,
            "remaining_time": 241.422549,
            "test": [
             0.392890061
            ]
           },
           {
            "iteration": 74,
            "learn": [
             0.2940816601
            ],
            "passed_time": 80.06946822,
            "remaining_time": 240.2084047,
            "test": [
             0.3924799331
            ]
           },
           {
            "iteration": 75,
            "learn": [
             0.2925899101
            ],
            "passed_time": 81.13905254,
            "remaining_time": 239.1466812,
            "test": [
             0.391645281
            ]
           },
           {
            "iteration": 76,
            "learn": [
             0.2915881192
            ],
            "passed_time": 82.2017506,
            "remaining_time": 238.0648102,
            "test": [
             0.3911166792
            ]
           },
           {
            "iteration": 77,
            "learn": [
             0.2904732745
            ],
            "passed_time": 83.2519092,
            "remaining_time": 236.9477416,
            "test": [
             0.3904482207
            ]
           },
           {
            "iteration": 78,
            "learn": [
             0.2882715772
            ],
            "passed_time": 84.30141739,
            "remaining_time": 235.8305474,
            "test": [
             0.3889360488
            ]
           },
           {
            "iteration": 79,
            "learn": [
             0.2870971359
            ],
            "passed_time": 85.36085826,
            "remaining_time": 234.7423602,
            "test": [
             0.3882266453
            ]
           },
           {
            "iteration": 80,
            "learn": [
             0.2865954508
            ],
            "passed_time": 86.40101542,
            "remaining_time": 233.6027454,
            "test": [
             0.388040085
            ]
           },
           {
            "iteration": 81,
            "learn": [
             0.2840830972
            ],
            "passed_time": 87.54230605,
            "remaining_time": 232.7344234,
            "test": [
             0.3865911302
            ]
           },
           {
            "iteration": 82,
            "learn": [
             0.2836298159
            ],
            "passed_time": 88.540216,
            "remaining_time": 231.4846611,
            "test": [
             0.3863233149
            ]
           },
           {
            "iteration": 83,
            "learn": [
             0.2824149461
            ],
            "passed_time": 89.62566567,
            "remaining_time": 230.4659974,
            "test": [
             0.3855817312
            ]
           },
           {
            "iteration": 84,
            "learn": [
             0.2814475827
            ],
            "passed_time": 90.6625801,
            "remaining_time": 229.3229967,
            "test": [
             0.3847149412
            ]
           },
           {
            "iteration": 85,
            "learn": [
             0.2804868915
            ],
            "passed_time": 91.74103453,
            "remaining_time": 228.2858301,
            "test": [
             0.3841248584
            ]
           },
           {
            "iteration": 86,
            "learn": [
             0.2790614695
            ],
            "passed_time": 92.82918256,
            "remaining_time": 227.271447,
            "test": [
             0.3833004954
            ]
           },
           {
            "iteration": 87,
            "learn": [
             0.2778270566
            ],
            "passed_time": 93.92781463,
            "remaining_time": 226.2806443,
            "test": [
             0.3825204226
            ]
           },
           {
            "iteration": 88,
            "learn": [
             0.2772630903
            ],
            "passed_time": 94.97494587,
            "remaining_time": 225.1653211,
            "test": [
             0.3822736091
            ]
           },
           {
            "iteration": 89,
            "learn": [
             0.2768257001
            ],
            "passed_time": 95.97781577,
            "remaining_time": 223.9482368,
            "test": [
             0.3820657082
            ]
           },
           {
            "iteration": 90,
            "learn": [
             0.2754398973
            ],
            "passed_time": 97.06166271,
            "remaining_time": 222.9218407,
            "test": [
             0.3811393425
            ]
           },
           {
            "iteration": 91,
            "learn": [
             0.2748997183
            ],
            "passed_time": 98.09105274,
            "remaining_time": 221.7710758,
            "test": [
             0.3808112318
            ]
           },
           {
            "iteration": 92,
            "learn": [
             0.2739633869
            ],
            "passed_time": 99.13238494,
            "remaining_time": 220.649502,
            "test": [
             0.3802066679
            ]
           },
           {
            "iteration": 93,
            "learn": [
             0.2730654508
            ],
            "passed_time": 100.1939289,
            "remaining_time": 219.5739292,
            "test": [
             0.3796505436
            ]
           },
           {
            "iteration": 94,
            "learn": [
             0.2707845546
            ],
            "passed_time": 101.2948645,
            "remaining_time": 218.5836549,
            "test": [
             0.3782285185
            ]
           },
           {
            "iteration": 95,
            "learn": [
             0.2687705696
            ],
            "passed_time": 102.3902053,
            "remaining_time": 217.5791862,
            "test": [
             0.3769632448
            ]
           },
           {
            "iteration": 96,
            "learn": [
             0.2683526435
            ],
            "passed_time": 103.3813578,
            "remaining_time": 216.3548003,
            "test": [
             0.3767467484
            ]
           },
           {
            "iteration": 97,
            "learn": [
             0.2677599153
            ],
            "passed_time": 104.4051721,
            "remaining_time": 215.2024976,
            "test": [
             0.3764406133
            ]
           },
           {
            "iteration": 98,
            "learn": [
             0.2660880726
            ],
            "passed_time": 105.5025733,
            "remaining_time": 214.2021942,
            "test": [
             0.375622263
            ]
           },
           {
            "iteration": 99,
            "learn": [
             0.2640127934
            ],
            "passed_time": 106.6243482,
            "remaining_time": 213.2486964,
            "test": [
             0.3744406577
            ]
           },
           {
            "iteration": 100,
            "learn": [
             0.2608401201
            ],
            "passed_time": 107.7601297,
            "remaining_time": 212.3194635,
            "test": [
             0.3723766381
            ]
           },
           {
            "iteration": 101,
            "learn": [
             0.2604135674
            ],
            "passed_time": 108.7985965,
            "remaining_time": 211.1972755,
            "test": [
             0.3721386319
            ]
           },
           {
            "iteration": 102,
            "learn": [
             0.259805639
            ],
            "passed_time": 109.8226191,
            "remaining_time": 210.049087,
            "test": [
             0.3718133157
            ]
           },
           {
            "iteration": 103,
            "learn": [
             0.2570295326
            ],
            "passed_time": 110.8978724,
            "remaining_time": 208.9998365,
            "test": [
             0.3698031979
            ]
           },
           {
            "iteration": 104,
            "learn": [
             0.2565105943
            ],
            "passed_time": 111.8986287,
            "remaining_time": 207.811739,
            "test": [
             0.3695377961
            ]
           },
           {
            "iteration": 105,
            "learn": [
             0.2554215307
            ],
            "passed_time": 112.9601582,
            "remaining_time": 206.7384027,
            "test": [
             0.3689535566
            ]
           },
           {
            "iteration": 106,
            "learn": [
             0.2541571715
            ],
            "passed_time": 114.0410237,
            "remaining_time": 205.7001642,
            "test": [
             0.3681603575
            ]
           },
           {
            "iteration": 107,
            "learn": [
             0.2531038382
            ],
            "passed_time": 115.0937667,
            "remaining_time": 204.6111408,
            "test": [
             0.3675581225
            ]
           },
           {
            "iteration": 108,
            "learn": [
             0.252312027
            ],
            "passed_time": 116.1550375,
            "remaining_time": 203.5377263,
            "test": [
             0.3671417279
            ]
           },
           {
            "iteration": 109,
            "learn": [
             0.2508632915
            ],
            "passed_time": 117.2371777,
            "remaining_time": 202.5005796,
            "test": [
             0.3663493758
            ]
           },
           {
            "iteration": 110,
            "learn": [
             0.2485183571
            ],
            "passed_time": 118.3935102,
            "remaining_time": 201.5889498,
            "test": [
             0.3649514435
            ]
           },
           {
            "iteration": 111,
            "learn": [
             0.2479103497
            ],
            "passed_time": 119.4151022,
            "remaining_time": 200.4467787,
            "test": [
             0.3646320552
            ]
           },
           {
            "iteration": 112,
            "learn": [
             0.2456363626
            ],
            "passed_time": 120.4587445,
            "remaining_time": 199.343232,
            "test": [
             0.3632562257
            ]
           },
           {
            "iteration": 113,
            "learn": [
             0.2433913546
            ],
            "passed_time": 121.5475188,
            "remaining_time": 198.3143728,
            "test": [
             0.3619070718
            ]
           },
           {
            "iteration": 114,
            "learn": [
             0.2428366861
            ],
            "passed_time": 122.5488654,
            "remaining_time": 197.1438269,
            "test": [
             0.3617063691
            ]
           },
           {
            "iteration": 115,
            "learn": [
             0.2422419443
            ],
            "passed_time": 123.608034,
            "remaining_time": 196.067916,
            "test": [
             0.3613460358
            ]
           },
           {
            "iteration": 116,
            "learn": [
             0.2409124217
            ],
            "passed_time": 124.6764966,
            "remaining_time": 195.006828,
            "test": [
             0.3605549116
            ]
           },
           {
            "iteration": 117,
            "learn": [
             0.2396390608
            ],
            "passed_time": 125.7456862,
            "remaining_time": 193.9467363,
            "test": [
             0.3597530747
            ]
           },
           {
            "iteration": 118,
            "learn": [
             0.2391358557
            ],
            "passed_time": 126.8004025,
            "remaining_time": 192.8644778,
            "test": [
             0.3594825072
            ]
           },
           {
            "iteration": 119,
            "learn": [
             0.2379792204
            ],
            "passed_time": 127.8799672,
            "remaining_time": 191.8199508,
            "test": [
             0.3586938812
            ]
           },
           {
            "iteration": 120,
            "learn": [
             0.2367997058
            ],
            "passed_time": 128.9762005,
            "remaining_time": 190.7995032,
            "test": [
             0.3580398614
            ]
           },
           {
            "iteration": 121,
            "learn": [
             0.2354758289
            ],
            "passed_time": 130.0621854,
            "remaining_time": 189.7628607,
            "test": [
             0.3573271552
            ]
           },
           {
            "iteration": 122,
            "learn": [
             0.234503866
            ],
            "passed_time": 131.0970583,
            "remaining_time": 188.6518644,
            "test": [
             0.3568340363
            ]
           },
           {
            "iteration": 123,
            "learn": [
             0.23416048
            ],
            "passed_time": 132.1376012,
            "remaining_time": 187.5501436,
            "test": [
             0.3566361282
            ]
           },
           {
            "iteration": 124,
            "learn": [
             0.2337151146
            ],
            "passed_time": 133.1507907,
            "remaining_time": 186.411107,
            "test": [
             0.3564211139
            ]
           },
           {
            "iteration": 125,
            "learn": [
             0.232657616
            ],
            "passed_time": 134.206735,
            "remaining_time": 185.3331102,
            "test": [
             0.355816931
            ]
           },
           {
            "iteration": 126,
            "learn": [
             0.2313787081
            ],
            "passed_time": 135.2658592,
            "remaining_time": 184.2597924,
            "test": [
             0.3548933176
            ]
           },
           {
            "iteration": 127,
            "learn": [
             0.2303815167
            ],
            "passed_time": 136.341286,
            "remaining_time": 183.208603,
            "test": [
             0.3543487952
            ]
           },
           {
            "iteration": 128,
            "learn": [
             0.2290997069
            ],
            "passed_time": 137.4449508,
            "remaining_time": 182.1944697,
            "test": [
             0.3535608254
            ]
           },
           {
            "iteration": 129,
            "learn": [
             0.2279220282
            ],
            "passed_time": 138.4997626,
            "remaining_time": 181.1150742,
            "test": [
             0.3528137584
            ]
           },
           {
            "iteration": 130,
            "learn": [
             0.2273958649
            ],
            "passed_time": 139.554229,
            "remaining_time": 180.0356084,
            "test": [
             0.3525524427
            ]
           },
           {
            "iteration": 131,
            "learn": [
             0.216831638
            ],
            "passed_time": 140.6307671,
            "remaining_time": 178.9846127,
            "test": [
             0.3425870042
            ]
           },
           {
            "iteration": 132,
            "learn": [
             0.216026956
            ],
            "passed_time": 141.7179577,
            "remaining_time": 177.9466085,
            "test": [
             0.3423989619
            ]
           },
           {
            "iteration": 133,
            "learn": [
             0.2153032693
            ],
            "passed_time": 142.753233,
            "remaining_time": 176.8435573,
            "test": [
             0.3422176731
            ]
           },
           {
            "iteration": 134,
            "learn": [
             0.2140589072
            ],
            "passed_time": 143.8545635,
            "remaining_time": 175.8222443,
            "test": [
             0.341786607
            ]
           },
           {
            "iteration": 135,
            "learn": [
             0.2118329883
            ],
            "passed_time": 145.0270388,
            "remaining_time": 174.8855468,
            "test": [
             0.3409677485
            ]
           },
           {
            "iteration": 136,
            "learn": [
             0.2109541215
            ],
            "passed_time": 146.0965032,
            "remaining_time": 173.8228469,
            "test": [
             0.3407598265
            ]
           },
           {
            "iteration": 137,
            "learn": [
             0.2097788511
            ],
            "passed_time": 147.1984634,
            "remaining_time": 172.7981962,
            "test": [
             0.3403938616
            ]
           },
           {
            "iteration": 138,
            "learn": [
             0.2083664579
            ],
            "passed_time": 148.3301189,
            "remaining_time": 171.8068284,
            "test": [
             0.3397685924
            ]
           },
           {
            "iteration": 139,
            "learn": [
             0.2078969104
            ],
            "passed_time": 149.3469256,
            "remaining_time": 170.6822007,
            "test": [
             0.3396504361
            ]
           },
           {
            "iteration": 140,
            "learn": [
             0.2061669122
            ],
            "passed_time": 150.4483413,
            "remaining_time": 169.6545125,
            "test": [
             0.3388976105
            ]
           },
           {
            "iteration": 141,
            "learn": [
             0.2054708622
            ],
            "passed_time": 151.4991959,
            "remaining_time": 168.5695279,
            "test": [
             0.3385498105
            ]
           },
           {
            "iteration": 142,
            "learn": [
             0.2034795196
            ],
            "passed_time": 152.5933067,
            "remaining_time": 167.5325116,
            "test": [
             0.3374753737
            ]
           },
           {
            "iteration": 143,
            "learn": [
             0.2027159176
            ],
            "passed_time": 153.6670095,
            "remaining_time": 166.4725937,
            "test": [
             0.3371639458
            ]
           },
           {
            "iteration": 144,
            "learn": [
             0.2013314375
            ],
            "passed_time": 154.7601696,
            "remaining_time": 165.4332847,
            "test": [
             0.3365820139
            ]
           },
           {
            "iteration": 145,
            "learn": [
             0.1999030149
            ],
            "passed_time": 155.8371985,
            "remaining_time": 164.3762231,
            "test": [
             0.3359417977
            ]
           },
           {
            "iteration": 146,
            "learn": [
             0.198539736
            ],
            "passed_time": 156.9130565,
            "remaining_time": 163.317671,
            "test": [
             0.3350662429
            ]
           },
           {
            "iteration": 147,
            "learn": [
             0.1964884415
            ],
            "passed_time": 158.0895215,
            "remaining_time": 162.3622112,
            "test": [
             0.3340186511
            ]
           },
           {
            "iteration": 148,
            "learn": [
             0.1948292526
            ],
            "passed_time": 159.1782492,
            "remaining_time": 161.31487,
            "test": [
             0.3330799003
            ]
           },
           {
            "iteration": 149,
            "learn": [
             0.1931644573
            ],
            "passed_time": 160.29805,
            "remaining_time": 160.29805,
            "test": [
             0.3321884248
            ]
           },
           {
            "iteration": 150,
            "learn": [
             0.1922006274
            ],
            "passed_time": 161.396878,
            "remaining_time": 159.259171,
            "test": [
             0.3317160113
            ]
           },
           {
            "iteration": 151,
            "learn": [
             0.1914386639
            ],
            "passed_time": 162.496542,
            "remaining_time": 158.2203172,
            "test": [
             0.3312702312
            ]
           },
           {
            "iteration": 152,
            "learn": [
             0.1908383158
            ],
            "passed_time": 163.554665,
            "remaining_time": 157.1407566,
            "test": [
             0.3309760578
            ]
           },
           {
            "iteration": 153,
            "learn": [
             0.1901978156
            ],
            "passed_time": 164.6187475,
            "remaining_time": 156.0671242,
            "test": [
             0.3308088902
            ]
           },
           {
            "iteration": 154,
            "learn": [
             0.1897131469
            ],
            "passed_time": 165.6406762,
            "remaining_time": 154.954181,
            "test": [
             0.3305000452
            ]
           },
           {
            "iteration": 155,
            "learn": [
             0.1888499935
            ],
            "passed_time": 166.7112744,
            "remaining_time": 153.8873302,
            "test": [
             0.330012198
            ]
           },
           {
            "iteration": 156,
            "learn": [
             0.1877748075
            ],
            "passed_time": 167.8009671,
            "remaining_time": 152.8378236,
            "test": [
             0.3295070327
            ]
           },
           {
            "iteration": 157,
            "learn": [
             0.1862717067
            ],
            "passed_time": 168.9495742,
            "remaining_time": 151.8407566,
            "test": [
             0.328781772
            ]
           },
           {
            "iteration": 158,
            "learn": [
             0.1858847929
            ],
            "passed_time": 170.0047061,
            "remaining_time": 150.7588903,
            "test": [
             0.328666008
            ]
           },
           {
            "iteration": 159,
            "learn": [
             0.1854694528
            ],
            "passed_time": 171.0396306,
            "remaining_time": 149.6596768,
            "test": [
             0.3285649581
            ]
           },
           {
            "iteration": 160,
            "learn": [
             0.1838424803
            ],
            "passed_time": 172.1032519,
            "remaining_time": 148.5860374,
            "test": [
             0.3277241874
            ]
           },
           {
            "iteration": 161,
            "learn": [
             0.1825552418
            ],
            "passed_time": 173.2252241,
            "remaining_time": 147.5622279,
            "test": [
             0.3270331393
            ]
           },
           {
            "iteration": 162,
            "learn": [
             0.1808908808
            ],
            "passed_time": 174.3469531,
            "remaining_time": 146.5370096,
            "test": [
             0.3262121002
            ]
           },
           {
            "iteration": 163,
            "learn": [
             0.1805607605
            ],
            "passed_time": 175.3931879,
            "remaining_time": 145.4480095,
            "test": [
             0.3259998593
            ]
           },
           {
            "iteration": 164,
            "learn": [
             0.1788922737
            ],
            "passed_time": 176.5739445,
            "remaining_time": 144.4695909,
            "test": [
             0.3253077102
            ]
           },
           {
            "iteration": 165,
            "learn": [
             0.1782717509
            ],
            "passed_time": 177.6602119,
            "remaining_time": 143.4124602,
            "test": [
             0.3250463522
            ]
           },
           {
            "iteration": 166,
            "learn": [
             0.177365662
            ],
            "passed_time": 178.7120902,
            "remaining_time": 142.3275928,
            "test": [
             0.3246158364
            ]
           },
           {
            "iteration": 167,
            "learn": [
             0.1761091792
            ],
            "passed_time": 179.8219448,
            "remaining_time": 141.2886709,
            "test": [
             0.3239121068
            ]
           },
           {
            "iteration": 168,
            "learn": [
             0.1753460707
            ],
            "passed_time": 180.8864907,
            "remaining_time": 140.2137887,
            "test": [
             0.323517328
            ]
           },
           {
            "iteration": 169,
            "learn": [
             0.1743029432
            ],
            "passed_time": 181.9991513,
            "remaining_time": 139.1758216,
            "test": [
             0.323017392
            ]
           },
           {
            "iteration": 170,
            "learn": [
             0.1737912497
            ],
            "passed_time": 183.0493467,
            "remaining_time": 138.089858,
            "test": [
             0.3227728015
            ]
           },
           {
            "iteration": 171,
            "learn": [
             0.1722947422
            ],
            "passed_time": 184.2079361,
            "remaining_time": 137.0849757,
            "test": [
             0.322008353
            ]
           },
           {
            "iteration": 172,
            "learn": [
             0.1716738048
            ],
            "passed_time": 185.2765226,
            "remaining_time": 136.0122449,
            "test": [
             0.3216451192
            ]
           },
           {
            "iteration": 173,
            "learn": [
             0.169180639
            ],
            "passed_time": 186.3355869,
            "remaining_time": 134.9326664,
            "test": [
             0.3204871198
            ]
           },
           {
            "iteration": 174,
            "learn": [
             0.1679335329
            ],
            "passed_time": 187.4586681,
            "remaining_time": 133.8990487,
            "test": [
             0.3199121532
            ]
           },
           {
            "iteration": 175,
            "learn": [
             0.1674229449
            ],
            "passed_time": 188.5321421,
            "remaining_time": 132.8294638,
            "test": [
             0.3196020803
            ]
           },
           {
            "iteration": 176,
            "learn": [
             0.166902842
            ],
            "passed_time": 189.6071007,
            "remaining_time": 131.7608666,
            "test": [
             0.3192881965
            ]
           },
           {
            "iteration": 177,
            "learn": [
             0.1659633324
            ],
            "passed_time": 190.7090563,
            "remaining_time": 130.7107015,
            "test": [
             0.3187902295
            ]
           },
           {
            "iteration": 178,
            "learn": [
             0.1656315933
            ],
            "passed_time": 191.7801871,
            "remaining_time": 129.6391209,
            "test": [
             0.3185928295
            ]
           },
           {
            "iteration": 179,
            "learn": [
             0.1648834284
            ],
            "passed_time": 192.8670144,
            "remaining_time": 128.5780096,
            "test": [
             0.318313116
            ]
           },
           {
            "iteration": 180,
            "learn": [
             0.1633955968
            ],
            "passed_time": 193.9898117,
            "remaining_time": 127.5402629,
            "test": [
             0.3175945665
            ]
           },
           {
            "iteration": 181,
            "learn": [
             0.1625285645
            ],
            "passed_time": 195.0851519,
            "remaining_time": 126.4837798,
            "test": [
             0.3171441499
            ]
           },
           {
            "iteration": 182,
            "learn": [
             0.1618928711
            ],
            "passed_time": 196.1686049,
            "remaining_time": 125.419272,
            "test": [
             0.3168007324
            ]
           },
           {
            "iteration": 183,
            "learn": [
             0.1609409743
            ],
            "passed_time": 197.2804297,
            "remaining_time": 124.3724448,
            "test": [
             0.3162975996
            ]
           },
           {
            "iteration": 184,
            "learn": [
             0.1600812262
            ],
            "passed_time": 198.3887332,
            "remaining_time": 123.322726,
            "test": [
             0.3158765262
            ]
           },
           {
            "iteration": 185,
            "learn": [
             0.1596199204
            ],
            "passed_time": 199.4516297,
            "remaining_time": 122.2445472,
            "test": [
             0.3156918501
            ]
           },
           {
            "iteration": 186,
            "learn": [
             0.1583074239
            ],
            "passed_time": 200.5676497,
            "remaining_time": 121.1986332,
            "test": [
             0.3150003574
            ]
           },
           {
            "iteration": 187,
            "learn": [
             0.1571824721
            ],
            "passed_time": 201.6903089,
            "remaining_time": 120.1559287,
            "test": [
             0.3144142971
            ]
           },
           {
            "iteration": 188,
            "learn": [
             0.1561761804
            ],
            "passed_time": 202.7664421,
            "remaining_time": 119.0850533,
            "test": [
             0.3139093012
            ]
           },
           {
            "iteration": 189,
            "learn": [
             0.1557818146
            ],
            "passed_time": 203.7767113,
            "remaining_time": 117.9759908,
            "test": [
             0.3137409904
            ]
           },
           {
            "iteration": 190,
            "learn": [
             0.1461105492
            ],
            "passed_time": 204.880366,
            "remaining_time": 116.921256,
            "test": [
             0.3068604876
            ]
           },
           {
            "iteration": 191,
            "learn": [
             0.1449391677
            ],
            "passed_time": 206.0000338,
            "remaining_time": 115.875019,
            "test": [
             0.3065762223
            ]
           },
           {
            "iteration": 192,
            "learn": [
             0.1441754966
            ],
            "passed_time": 207.1363762,
            "remaining_time": 114.8372656,
            "test": [
             0.306302225
            ]
           },
           {
            "iteration": 193,
            "learn": [
             0.1432453144
            ],
            "passed_time": 208.2495187,
            "remaining_time": 113.7858195,
            "test": [
             0.306058185
            ]
           },
           {
            "iteration": 194,
            "learn": [
             0.1424088009
            ],
            "passed_time": 209.3747543,
            "remaining_time": 112.7402523,
            "test": [
             0.3057584224
            ]
           },
           {
            "iteration": 195,
            "learn": [
             0.141507351
            ],
            "passed_time": 210.5001618,
            "remaining_time": 111.6939634,
            "test": [
             0.3054538751
            ]
           },
           {
            "iteration": 196,
            "learn": [
             0.1410183097
            ],
            "passed_time": 211.5787482,
            "remaining_time": 110.6223912,
            "test": [
             0.3053158815
            ]
           },
           {
            "iteration": 197,
            "learn": [
             0.1404453121
            ],
            "passed_time": 212.6682094,
            "remaining_time": 109.5563503,
            "test": [
             0.3050300707
            ]
           },
           {
            "iteration": 198,
            "learn": [
             0.1395421053
            ],
            "passed_time": 213.7634056,
            "remaining_time": 108.4929847,
            "test": [
             0.3047037383
            ]
           },
           {
            "iteration": 199,
            "learn": [
             0.1385598575
            ],
            "passed_time": 214.8777988,
            "remaining_time": 107.4388994,
            "test": [
             0.3043912095
            ]
           },
           {
            "iteration": 200,
            "learn": [
             0.1379712353
            ],
            "passed_time": 215.9669187,
            "remaining_time": 106.3717659,
            "test": [
             0.3041757505
            ]
           },
           {
            "iteration": 201,
            "learn": [
             0.1342241727
            ],
            "passed_time": 217.0804796,
            "remaining_time": 105.3162723,
            "test": [
             0.3028435335
            ]
           },
           {
            "iteration": 202,
            "learn": [
             0.1333213015
            ],
            "passed_time": 218.1847401,
            "remaining_time": 104.2557625,
            "test": [
             0.3023888827
            ]
           },
           {
            "iteration": 203,
            "learn": [
             0.1320367379
            ],
            "passed_time": 219.3028067,
            "remaining_time": 103.2013208,
            "test": [
             0.3017986093
            ]
           },
           {
            "iteration": 204,
            "learn": [
             0.1313293568
            ],
            "passed_time": 220.3910153,
            "remaining_time": 102.1324217,
            "test": [
             0.3015823035
            ]
           },
           {
            "iteration": 205,
            "learn": [
             0.1309816279
            ],
            "passed_time": 221.4629586,
            "remaining_time": 101.0559132,
            "test": [
             0.3014862076
            ]
           },
           {
            "iteration": 206,
            "learn": [
             0.1300328502
            ],
            "passed_time": 222.5539326,
            "remaining_time": 99.98799871,
            "test": [
             0.3010842518
            ]
           },
           {
            "iteration": 207,
            "learn": [
             0.1288390237
            ],
            "passed_time": 223.6510135,
            "remaining_time": 98.92256368,
            "test": [
             0.3005263703
            ]
           },
           {
            "iteration": 208,
            "learn": [
             0.1275604711
            ],
            "passed_time": 224.7623955,
            "remaining_time": 97.86305257,
            "test": [
             0.2999269933
            ]
           },
           {
            "iteration": 209,
            "learn": [
             0.1269940964
            ],
            "passed_time": 225.8699047,
            "remaining_time": 96.80138772,
            "test": [
             0.299753792
            ]
           },
           {
            "iteration": 210,
            "learn": [
             0.12603076
            ],
            "passed_time": 226.9713673,
            "remaining_time": 95.73673787,
            "test": [
             0.299382979
            ]
           },
           {
            "iteration": 211,
            "learn": [
             0.1253371184
            ],
            "passed_time": 228.0789012,
            "remaining_time": 94.67426088,
            "test": [
             0.2990925741
            ]
           },
           {
            "iteration": 212,
            "learn": [
             0.1249047027
            ],
            "passed_time": 229.1374353,
            "remaining_time": 93.59134682,
            "test": [
             0.2989385326
            ]
           },
           {
            "iteration": 213,
            "learn": [
             0.1241871257
            ],
            "passed_time": 230.2395971,
            "remaining_time": 92.52619322,
            "test": [
             0.2987305894
            ]
           },
           {
            "iteration": 214,
            "learn": [
             0.1229608953
            ],
            "passed_time": 231.3592506,
            "remaining_time": 91.46761071,
            "test": [
             0.2981289683
            ]
           },
           {
            "iteration": 215,
            "learn": [
             0.122416166
            ],
            "passed_time": 232.464279,
            "remaining_time": 90.40277519,
            "test": [
             0.2979538616
            ]
           },
           {
            "iteration": 216,
            "learn": [
             0.121707719
            ],
            "passed_time": 233.591391,
            "remaining_time": 89.34601591,
            "test": [
             0.2976453341
            ]
           },
           {
            "iteration": 217,
            "learn": [
             0.1211445719
            ],
            "passed_time": 234.6671236,
            "remaining_time": 88.26928503,
            "test": [
             0.2974174689
            ]
           },
           {
            "iteration": 218,
            "learn": [
             0.120703431
            ],
            "passed_time": 235.7556852,
            "remaining_time": 87.19730823,
            "test": [
             0.2972474644
            ]
           },
           {
            "iteration": 219,
            "learn": [
             0.1195198499
            ],
            "passed_time": 236.867956,
            "remaining_time": 86.13380217,
            "test": [
             0.2967021374
            ]
           },
           {
            "iteration": 220,
            "learn": [
             0.1186516627
            ],
            "passed_time": 238.0320134,
            "remaining_time": 85.08836679,
            "test": [
             0.2963659816
            ]
           },
           {
            "iteration": 221,
            "learn": [
             0.1179983805
            ],
            "passed_time": 239.4048378,
            "remaining_time": 84.11521329,
            "test": [
             0.2961542487
            ]
           },
           {
            "iteration": 222,
            "learn": [
             0.1127892477
            ],
            "passed_time": 240.7698968,
            "remaining_time": 83.13579395,
            "test": [
             0.2940928755
            ]
           },
           {
            "iteration": 223,
            "learn": [
             0.1120013056
            ],
            "passed_time": 241.8944801,
            "remaining_time": 82.07134146,
            "test": [
             0.2937990409
            ]
           },
           {
            "iteration": 224,
            "learn": [
             0.1114876875
            ],
            "passed_time": 242.9740707,
            "remaining_time": 80.9913569,
            "test": [
             0.293797199
            ]
           },
           {
            "iteration": 225,
            "learn": [
             0.1110947528
            ],
            "passed_time": 244.0561544,
            "remaining_time": 79.91219214,
            "test": [
             0.2939020598
            ]
           },
           {
            "iteration": 226,
            "learn": [
             0.1103468347
            ],
            "passed_time": 245.1708431,
            "remaining_time": 78.84348699,
            "test": [
             0.2935981053
            ]
           },
           {
            "iteration": 227,
            "learn": [
             0.109465224
            ],
            "passed_time": 246.2482132,
            "remaining_time": 77.76259365,
            "test": [
             0.2931808216
            ]
           },
           {
            "iteration": 228,
            "learn": [
             0.1083008602
            ],
            "passed_time": 247.3887431,
            "remaining_time": 76.70131337,
            "test": [
             0.292818837
            ]
           },
           {
            "iteration": 229,
            "learn": [
             0.1077164329
            ],
            "passed_time": 248.4864243,
            "remaining_time": 75.62630306,
            "test": [
             0.2926340762
            ]
           },
           {
            "iteration": 230,
            "learn": [
             0.1072369559
            ],
            "passed_time": 249.5653984,
            "remaining_time": 74.54550863,
            "test": [
             0.292450014
            ]
           },
           {
            "iteration": 231,
            "learn": [
             0.1063377268
            ],
            "passed_time": 250.6570751,
            "remaining_time": 73.46845306,
            "test": [
             0.2921340555
            ]
           },
           {
            "iteration": 232,
            "learn": [
             0.1057344473
            ],
            "passed_time": 251.8042923,
            "remaining_time": 72.40724284,
            "test": [
             0.2919228943
            ]
           },
           {
            "iteration": 233,
            "learn": [
             0.1050913807
            ],
            "passed_time": 252.9116111,
            "remaining_time": 71.33404416,
            "test": [
             0.2917377312
            ]
           },
           {
            "iteration": 234,
            "learn": [
             0.104689938
            ],
            "passed_time": 254.0288958,
            "remaining_time": 70.26331161,
            "test": [
             0.2915882416
            ]
           },
           {
            "iteration": 235,
            "learn": [
             0.1041273535
            ],
            "passed_time": 255.1275312,
            "remaining_time": 69.18712709,
            "test": [
             0.2913399885
            ]
           },
           {
            "iteration": 236,
            "learn": [
             0.103699261
            ],
            "passed_time": 256.1996449,
            "remaining_time": 68.10370307,
            "test": [
             0.291158488
            ]
           },
           {
            "iteration": 237,
            "learn": [
             0.1028762993
            ],
            "passed_time": 257.3027753,
            "remaining_time": 67.02845407,
            "test": [
             0.2909187669
            ]
           },
           {
            "iteration": 238,
            "learn": [
             0.1025468304
            ],
            "passed_time": 258.3732321,
            "remaining_time": 65.94463246,
            "test": [
             0.2908199399
            ]
           },
           {
            "iteration": 239,
            "learn": [
             0.1018639572
            ],
            "passed_time": 259.4469202,
            "remaining_time": 64.86173006,
            "test": [
             0.2906779449
            ]
           },
           {
            "iteration": 240,
            "learn": [
             0.1014550919
            ],
            "passed_time": 260.5527738,
            "remaining_time": 63.78677864,
            "test": [
             0.290607085
            ]
           },
           {
            "iteration": 241,
            "learn": [
             0.1010073083
            ],
            "passed_time": 261.618978,
            "remaining_time": 62.70206911,
            "test": [
             0.2904185134
            ]
           },
           {
            "iteration": 242,
            "learn": [
             0.1005245643
            ],
            "passed_time": 262.665224,
            "remaining_time": 61.61283031,
            "test": [
             0.2902136611
            ]
           },
           {
            "iteration": 243,
            "learn": [
             0.09952874493
            ],
            "passed_time": 263.7719551,
            "remaining_time": 60.53782576,
            "test": [
             0.2898324531
            ]
           },
           {
            "iteration": 244,
            "learn": [
             0.09895657643
            ],
            "passed_time": 264.885936,
            "remaining_time": 59.46418971,
            "test": [
             0.2896613688
            ]
           },
           {
            "iteration": 245,
            "learn": [
             0.09869662366
            ],
            "passed_time": 265.9570349,
            "remaining_time": 58.38081254,
            "test": [
             0.2896729495
            ]
           },
           {
            "iteration": 246,
            "learn": [
             0.09836904982
            ],
            "passed_time": 267.0144893,
            "remaining_time": 57.29460702,
            "test": [
             0.2895464306
            ]
           },
           {
            "iteration": 247,
            "learn": [
             0.0974234799
            ],
            "passed_time": 268.1214896,
            "remaining_time": 56.21902201,
            "test": [
             0.2890190144
            ]
           },
           {
            "iteration": 248,
            "learn": [
             0.09681717021
            ],
            "passed_time": 269.2016823,
            "remaining_time": 55.13769396,
            "test": [
             0.2888666243
            ]
           },
           {
            "iteration": 249,
            "learn": [
             0.09633433734
            ],
            "passed_time": 270.2967359,
            "remaining_time": 54.05934719,
            "test": [
             0.2887058928
            ]
           },
           {
            "iteration": 250,
            "learn": [
             0.09578180076
            ],
            "passed_time": 271.4075318,
            "remaining_time": 52.98394047,
            "test": [
             0.2885847726
            ]
           },
           {
            "iteration": 251,
            "learn": [
             0.09469224364
            ],
            "passed_time": 272.5552559,
            "remaining_time": 51.91528683,
            "test": [
             0.2882640505
            ]
           },
           {
            "iteration": 252,
            "learn": [
             0.09405762607
            ],
            "passed_time": 273.7003756,
            "remaining_time": 50.84552433,
            "test": [
             0.2881191762
            ]
           },
           {
            "iteration": 253,
            "learn": [
             0.09066902131
            ],
            "passed_time": 274.7741657,
            "remaining_time": 49.76225048,
            "test": [
             0.2876719988
            ]
           },
           {
            "iteration": 254,
            "learn": [
             0.09005961236
            ],
            "passed_time": 275.9126974,
            "remaining_time": 48.69047601,
            "test": [
             0.2875927975
            ]
           },
           {
            "iteration": 255,
            "learn": [
             0.08918423966
            ],
            "passed_time": 277.0949525,
            "remaining_time": 47.62569497,
            "test": [
             0.2874269637
            ]
           },
           {
            "iteration": 256,
            "learn": [
             0.08846865643
            ],
            "passed_time": 278.2793644,
            "remaining_time": 46.56036058,
            "test": [
             0.2873006989
            ]
           },
           {
            "iteration": 257,
            "learn": [
             0.08766400407
            ],
            "passed_time": 279.4569212,
            "remaining_time": 45.49298717,
            "test": [
             0.2870751624
            ]
           },
           {
            "iteration": 258,
            "learn": [
             0.08734359602
            ],
            "passed_time": 280.5216459,
            "remaining_time": 44.40690147,
            "test": [
             0.2869992214
            ]
           },
           {
            "iteration": 259,
            "learn": [
             0.0868176499
            ],
            "passed_time": 281.6567646,
            "remaining_time": 43.33180994,
            "test": [
             0.2869050732
            ]
           },
           {
            "iteration": 260,
            "learn": [
             0.08603068503
            ],
            "passed_time": 282.7686185,
            "remaining_time": 42.25278207,
            "test": [
             0.2866433341
            ]
           },
           {
            "iteration": 261,
            "learn": [
             0.08553995595
            ],
            "passed_time": 283.8830001,
            "remaining_time": 41.17387025,
            "test": [
             0.2864750656
            ]
           },
           {
            "iteration": 262,
            "learn": [
             0.08514378387
            ],
            "passed_time": 285.0082697,
            "remaining_time": 40.09622045,
            "test": [
             0.2864195548
            ]
           },
           {
            "iteration": 263,
            "learn": [
             0.08486268904
            ],
            "passed_time": 286.1269219,
            "remaining_time": 39.01730753,
            "test": [
             0.2863958219
            ]
           },
           {
            "iteration": 264,
            "learn": [
             0.08459533358
            ],
            "passed_time": 287.2101489,
            "remaining_time": 37.93341589,
            "test": [
             0.2863241152
            ]
           },
           {
            "iteration": 265,
            "learn": [
             0.08421931655
            ],
            "passed_time": 288.3138341,
            "remaining_time": 36.85214421,
            "test": [
             0.2862333544
            ]
           },
           {
            "iteration": 266,
            "learn": [
             0.08339733203
            ],
            "passed_time": 289.5235084,
            "remaining_time": 35.78380441,
            "test": [
             0.2860683886
            ]
           },
           {
            "iteration": 267,
            "learn": [
             0.08312565341
            ],
            "passed_time": 290.5925369,
            "remaining_time": 34.69761635,
            "test": [
             0.2859616224
            ]
           },
           {
            "iteration": 268,
            "learn": [
             0.08268143789
            ],
            "passed_time": 291.6794268,
            "remaining_time": 33.61361425,
            "test": [
             0.2858947427
            ]
           },
           {
            "iteration": 269,
            "learn": [
             0.08217409225
            ],
            "passed_time": 292.7915482,
            "remaining_time": 32.53239425,
            "test": [
             0.2857367211
            ]
           },
           {
            "iteration": 270,
            "learn": [
             0.08131070697
            ],
            "passed_time": 293.8463114,
            "remaining_time": 31.44480823,
            "test": [
             0.2854238959
            ]
           },
           {
            "iteration": 271,
            "learn": [
             0.08095557539
            ],
            "passed_time": 294.9615409,
            "remaining_time": 30.36368803,
            "test": [
             0.2853628171
            ]
           },
           {
            "iteration": 272,
            "learn": [
             0.08031106289
            ],
            "passed_time": 296.0790533,
            "remaining_time": 29.28254373,
            "test": [
             0.2852087545
            ]
           },
           {
            "iteration": 273,
            "learn": [
             0.07999107433
            ],
            "passed_time": 297.1595838,
            "remaining_time": 28.19762474,
            "test": [
             0.2851461937
            ]
           },
           {
            "iteration": 274,
            "learn": [
             0.07958250522
            ],
            "passed_time": 298.2529607,
            "remaining_time": 27.11390552,
            "test": [
             0.2850463505
            ]
           },
           {
            "iteration": 275,
            "learn": [
             0.07911778919
            ],
            "passed_time": 299.341324,
            "remaining_time": 26.02968035,
            "test": [
             0.2848914834
            ]
           },
           {
            "iteration": 276,
            "learn": [
             0.07897632384
            ],
            "passed_time": 300.4087456,
            "remaining_time": 24.94368645,
            "test": [
             0.2848267843
            ]
           },
           {
            "iteration": 277,
            "learn": [
             0.07872410441
            ],
            "passed_time": 301.4701467,
            "remaining_time": 23.85734974,
            "test": [
             0.2847306248
            ]
           },
           {
            "iteration": 278,
            "learn": [
             0.0782002113
            ],
            "passed_time": 302.5819662,
            "remaining_time": 22.7749867,
            "test": [
             0.2846464483
            ]
           },
           {
            "iteration": 279,
            "learn": [
             0.07774806504
            ],
            "passed_time": 303.6740804,
            "remaining_time": 21.69100574,
            "test": [
             0.284500092
            ]
           },
           {
            "iteration": 280,
            "learn": [
             0.07742830843
            ],
            "passed_time": 304.7926845,
            "remaining_time": 20.60875803,
            "test": [
             0.2844198532
            ]
           },
           {
            "iteration": 281,
            "learn": [
             0.07697471617
            ],
            "passed_time": 305.9474864,
            "remaining_time": 19.52856296,
            "test": [
             0.2843164109
            ]
           },
           {
            "iteration": 282,
            "learn": [
             0.07634805402
            ],
            "passed_time": 307.0623831,
            "remaining_time": 18.44544351,
            "test": [
             0.2841748816
            ]
           },
           {
            "iteration": 283,
            "learn": [
             0.07589398799
            ],
            "passed_time": 308.1659921,
            "remaining_time": 17.36146435,
            "test": [
             0.2840327596
            ]
           },
           {
            "iteration": 284,
            "learn": [
             0.07552639522
            ],
            "passed_time": 309.2572985,
            "remaining_time": 16.27669992,
            "test": [
             0.2839426974
            ]
           },
           {
            "iteration": 285,
            "learn": [
             0.07524147072
            ],
            "passed_time": 310.3447477,
            "remaining_time": 15.19170094,
            "test": [
             0.2838473213
            ]
           },
           {
            "iteration": 286,
            "learn": [
             0.07500946063
            ],
            "passed_time": 311.3979116,
            "remaining_time": 14.10513189,
            "test": [
             0.2838200952
            ]
           },
           {
            "iteration": 287,
            "learn": [
             0.07477194788
            ],
            "passed_time": 312.4907153,
            "remaining_time": 13.02044647,
            "test": [
             0.2837486425
            ]
           },
           {
            "iteration": 288,
            "learn": [
             0.07459569977
            ],
            "passed_time": 313.5491516,
            "remaining_time": 11.93439677,
            "test": [
             0.2836661808
            ]
           },
           {
            "iteration": 289,
            "learn": [
             0.07406884558
            ],
            "passed_time": 314.6497736,
            "remaining_time": 10.84999219,
            "test": [
             0.2835312358
            ]
           },
           {
            "iteration": 290,
            "learn": [
             0.0734861554
            ],
            "passed_time": 315.8024685,
            "remaining_time": 9.767086654,
            "test": [
             0.2833312106
            ]
           },
           {
            "iteration": 291,
            "learn": [
             0.07307549872
            ],
            "passed_time": 316.8787667,
            "remaining_time": 8.681610048,
            "test": [
             0.2832684592
            ]
           },
           {
            "iteration": 292,
            "learn": [
             0.07238228642
            ],
            "passed_time": 318.0214002,
            "remaining_time": 7.597780892,
            "test": [
             0.2831611002
            ]
           },
           {
            "iteration": 293,
            "learn": [
             0.07180433395
            ],
            "passed_time": 319.13466,
            "remaining_time": 6.512952244,
            "test": [
             0.2830394084
            ]
           },
           {
            "iteration": 294,
            "learn": [
             0.07148357057
            ],
            "passed_time": 320.2206738,
            "remaining_time": 5.427469047,
            "test": [
             0.2830957872
            ]
           },
           {
            "iteration": 295,
            "learn": [
             0.0710966864
            ],
            "passed_time": 321.3264172,
            "remaining_time": 4.342248881,
            "test": [
             0.2830113354
            ]
           },
           {
            "iteration": 296,
            "learn": [
             0.07086526853
            ],
            "passed_time": 322.4104476,
            "remaining_time": 3.256671188,
            "test": [
             0.2829123602
            ]
           },
           {
            "iteration": 297,
            "learn": [
             0.0703825541
            ],
            "passed_time": 323.5077722,
            "remaining_time": 2.171193102,
            "test": [
             0.2827853755
            ]
           },
           {
            "iteration": 298,
            "learn": [
             0.07006263957
            ],
            "passed_time": 324.6008573,
            "remaining_time": 1.085621596,
            "test": [
             0.2827425674
            ]
           },
           {
            "iteration": 299,
            "learn": [
             0.06950739361
            ],
            "passed_time": 325.7282956,
            "remaining_time": 0,
            "test": [
             0.2826166201
            ]
           }
          ],
          "meta": {
           "iteration_count": 300,
           "launch_mode": "Train",
           "learn_metrics": [
            {
             "best_value": "Min",
             "name": "Logloss"
            }
           ],
           "learn_sets": [
            "learn"
           ],
           "name": "experiment",
           "parameters": "",
           "test_metrics": [
            {
             "best_value": "Min",
             "name": "Logloss"
            }
           ],
           "test_sets": [
            "test"
           ]
          }
         },
         "passed_iterations": 299,
         "total_iterations": 300
        },
        "name": "catboost_info",
        "path": "catboost_info"
       }
      },
      "layout": "IPY_MODEL_d7b440d863d84b7ab643adcd3421fc10"
     }
    }
   }
  }
 },
 "nbformat": 4,
 "nbformat_minor": 1
}
